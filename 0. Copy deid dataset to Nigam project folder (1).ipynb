{
 "cells": [
  {
   "cell_type": "markdown",
   "id": "1301961d",
   "metadata": {},
   "source": [
    "### Import and Load Packages "
   ]
  },
  {
   "cell_type": "code",
   "execution_count": 1,
   "id": "fa260bc5",
   "metadata": {},
   "outputs": [],
   "source": [
    "# Load packages\n",
    "import requests\n",
    "import pandas as pd\n",
    "import numpy as np\n",
    "from datetime import date\n",
    "import csv\n",
    "import re\n",
    "import datetime\n",
    "import os\n",
    "from sklearn.feature_selection import VarianceThreshold\n",
    "from pandas import read_csv\n",
    "from sklearn.datasets import load_breast_cancer\n",
    "import kaplanmeier as km\n",
    "from sklearn.decomposition import PCA\n",
    "import pylab as pl\n",
    "from itertools import cycle\n",
    "import matplotlib.pyplot as plt\n",
    "from sklearn.preprocessing import StandardScaler\n",
    "import seaborn as sns\n",
    "%matplotlib inline\n",
    "from qqman import qqman\n",
    "import pandas as pd\n",
    "from pandas_plink import read_plink\n",
    "from scipy.stats import ttest_ind\n",
    "import math\n",
    "import os\n",
    "from lifelines import KaplanMeierFitter\n",
    "from pandas import DataFrame\n",
    "import pandas as pd\n",
    "import seaborn as sns\n",
    "sns.set(color_codes=True)\n",
    "import numpy as np\n",
    "from pandas.plotting import scatter_matrix\n",
    "from sklearn import preprocessing\n",
    "from numpy import set_printoptions\n",
    "from sklearn.preprocessing import Normalizer\n",
    "from sklearn.preprocessing import Binarizer\n",
    "from sklearn.preprocessing import StandardScaler\n",
    "from sklearn import preprocessing\n",
    "from sklearn.feature_selection import SelectKBest\n",
    "from sklearn.feature_selection import chi2\n",
    "from sklearn.feature_selection import RFE\n",
    "from sklearn.linear_model import LogisticRegression\n",
    "from sklearn.decomposition import PCA\n",
    "from sklearn.ensemble import ExtraTreesClassifier\n",
    "from sklearn.model_selection import train_test_split\n",
    "from sklearn.naive_bayes import GaussianNB\n",
    "from sklearn.metrics import accuracy_score\n",
    "from sklearn.metrics import confusion_matrix\n",
    "from sklearn import datasets\n",
    "import seaborn as sns; sns.set()\n",
    "from sklearn.svm import SVC\n",
    "from sklearn import metrics\n",
    "from sklearn.metrics import classification_report, confusion_matrix\n",
    "from sklearn.ensemble import GradientBoostingClassifier\n",
    "from sklearn.preprocessing import MinMaxScaler\n",
    "#from xgboost import XGBClassifier\n",
    "from numpy import mean\n",
    "from numpy import std\n",
    "from numpy import absolute\n",
    "from pandas import read_csv\n",
    "from sklearn.model_selection import cross_val_score\n",
    "from sklearn.model_selection import RepeatedKFold\n",
    "from sklearn.linear_model import ElasticNet\n",
    "from numpy import arange\n",
    "from sklearn.model_selection import GridSearchCV\n",
    "from sklearn.metrics import precision_score, recall_score\n",
    "from sklearn.svm import SVC\n",
    "from sklearn.svm import LinearSVC\n",
    "import pandas as pd\n",
    "from google.cloud import bigquery\n",
    "import os\n",
    "import matplotlib.pyplot as plt\n",
    "import textwrap\n",
    "import re\n",
    "from tqdm import tqdm\n",
    "%matplotlib inline"
   ]
  },
  {
   "cell_type": "markdown",
   "id": "663f98bc",
   "metadata": {},
   "source": [
    "### Set up connection to BigQuery "
   ]
  },
  {
   "cell_type": "code",
   "execution_count": 4,
   "id": "b6444595",
   "metadata": {},
   "outputs": [],
   "source": [
    "user_id = 'kbechler'\n",
    "nero_gcp_project = 'som-nero-nigam-starr'\n",
    "cdm_project_id = 'som-rit-phi-starr-prod'\n",
    "cdm_dataset_id = 'starr_omop_cdm5_deid_2021_12_13'\n",
    "work_project_id = 'som-nero-nigam-starr'\n",
    "work_dataset_id = 'starr_omop_cdm5_deid_20211213'"
   ]
  },
  {
   "cell_type": "code",
   "execution_count": 3,
   "id": "15773d96",
   "metadata": {},
   "outputs": [],
   "source": [
    "# Use correct path whether you are local or Nero\n",
    "os.environ['GOOGLE_APPLICATION_CREDENTIALS'] = '/home/kbechler/adc.json' \n",
    "\n",
    "# Set correct Nero project\n",
    "os.environ['GCLOUD_PROJECT'] = nero_gcp_project\n",
    "client = bigquery.Client(project = work_project_id)"
   ]
  },
  {
   "cell_type": "code",
   "execution_count": 5,
   "id": "93cd95f4",
   "metadata": {},
   "outputs": [],
   "source": [
    "# Tables to copy\n",
    "tables_to_copy = [\"care_site\",\n",
    "                    \"cdm_source\",\n",
    "                    \"concept\", # Big Vocab table\n",
    "                    \"concept_ancestor\", # Big Vocabulary Table\n",
    "                    \"concept_class\", # Big Vocabulary Table\n",
    "                    \"concept_relationship\", # Big Vocabulary Table\n",
    "                    \"concept_synonym\", # Vocab Table\n",
    "                    \"condition_era\",\n",
    "                    \"condition_occurrence\",\n",
    "                    \"cost\", # empty \n",
    "                    \"death\",\n",
    "                    \"device_exposure\",\n",
    "                    \"domain\", # Vocab Table\n",
    "                    \"dose_era\",\n",
    "                    \"drug_era\",\n",
    "                    \"drug_exposure\",\n",
    "                    \"drug_strength\", # Vocab Table\n",
    "                    \"fact_relationship\",                  \n",
    "                    \"location\",\n",
    "                    \"measurement\",\n",
    "                    \"metadata\",\n",
    "                    #\"note\"\n",
    "                    \"note_nlp\", # Big Table in general\n",
    "                    \"observation\",\n",
    "                    \"observation_period\",\n",
    "                    \"payer_plan_period\", # empty\n",
    "                    \"person\",\n",
    "                    \"procedure_occurrence\",\n",
    "                    \"provider\",\n",
    "                    \"relationship\", # Vocab Table\n",
    "                    \"source_to_concept_map\", # Vocab Table\n",
    "                    \"specimen\", # empty\n",
    "                    \"visit_detail\",\n",
    "                    \"visit_occurrence\",\n",
    "                    \"vocabulary\"] # Vocab Table]"
   ]
  },
  {
   "cell_type": "code",
   "execution_count": 6,
   "id": "c3a13a80",
   "metadata": {},
   "outputs": [],
   "source": [
    "user_id = 'kbechler'\n",
    "nero_gcp_project = 'som-nero-nigam-starr'\n",
    "cdm_project_id = 'som-rit-phi-starr-prod'\n",
    "cdm_dataset_id = 'starr_omop_cdm5_deid_2021_12_13'\n",
    "work_project_id = 'som-nero-nigam-starr'\n",
    "work_dataset_id = 'starr_omop_cdm5_deid_20211213'"
   ]
  },
  {
   "cell_type": "code",
   "execution_count": 9,
   "id": "b49574da",
   "metadata": {},
   "outputs": [
    {
     "data": {
      "text/plain": [
       "Dataset(DatasetReference('som-nero-nigam-starr', 'starr_omop_cdm5_deid_20211213'))"
      ]
     },
     "execution_count": 9,
     "metadata": {},
     "output_type": "execute_result"
    }
   ],
   "source": [
    "client.create_dataset(f\"{work_project_id}.{work_dataset_id}\", exists_ok=True)"
   ]
  },
  {
   "cell_type": "code",
   "execution_count": 10,
   "id": "abc482a9",
   "metadata": {},
   "outputs": [
    {
     "name": "stdout",
     "output_type": "stream",
     "text": [
      "This query will process 296909 bytes.\n",
      "This query will process 477 bytes.\n",
      "This query will process 1189646926 bytes.\n",
      "This query will process 2578649600 bytes.\n",
      "This query will process 18284 bytes.\n",
      "This query will process 3191034807 bytes.\n",
      "This query will process 778895330 bytes.\n",
      "This query will process 2589347328 bytes.\n",
      "This query will process 21286916899 bytes.\n",
      "This query will process 0 bytes.\n",
      "This query will process 1726684 bytes.\n",
      "This query will process 252094990 bytes.\n",
      "This query will process 1978 bytes.\n",
      "This query will process 0 bytes.\n",
      "This query will process 2973445098 bytes.\n",
      "This query will process 56169673489 bytes.\n",
      "This query will process 157584097 bytes.\n",
      "This query will process 1596418120 bytes.\n",
      "This query will process 122295637 bytes.\n",
      "This query will process 396543341272 bytes.\n",
      "This query will process 40 bytes.\n",
      "This query will process 2545005207620 bytes.\n",
      "This query will process 1738832670564 bytes.\n",
      "This query will process 473688325 bytes.\n",
      "This query will process 0 bytes.\n",
      "This query will process 536611436 bytes.\n",
      "This query will process 22827409661 bytes.\n",
      "This query will process 15948402 bytes.\n",
      "This query will process 47429 bytes.\n",
      "This query will process 0 bytes.\n",
      "This query will process 0 bytes.\n",
      "This query will process 2525576345 bytes.\n",
      "This query will process 13182180505 bytes.\n",
      "This query will process 18325 bytes.\n"
     ]
    }
   ],
   "source": [
    "#%%time\n",
    "for table_id in tables_to_copy:\n",
    "    sql = \"\"\"\n",
    "        CREATE TABLE\n",
    "         `{work_project_id}.{work_dataset_id}.{table_id}` AS\n",
    "        SELECT * \n",
    "        FROM \n",
    "         `{cdm_project_id}.{cdm_dataset_id}.{table_id}`\n",
    "        \"\"\".format_map({'cdm_project_id': cdm_project_id,\n",
    "                        'cdm_dataset_id': cdm_dataset_id,\n",
    "                        'work_project_id': work_project_id,\n",
    "                        'work_dataset_id': work_dataset_id,\n",
    "                        'table_id': table_id})\n",
    "    \n",
    "    job_config = bigquery.QueryJobConfig(dry_run=False, use_query_cache=True)\n",
    "    query_job = client.query(sql, job_config)\n",
    "    query_job.result()\n",
    "    print(\"This query will process {} bytes.\".format(query_job.total_bytes_processed))"
   ]
  }
 ],
 "metadata": {
  "kernelspec": {
   "display_name": "Python 3",
   "language": "python",
   "name": "python3"
  },
  "language_info": {
   "codemirror_mode": {
    "name": "ipython",
    "version": 3
   },
   "file_extension": ".py",
   "mimetype": "text/x-python",
   "name": "python",
   "nbconvert_exporter": "python",
   "pygments_lexer": "ipython3",
   "version": "3.9.4"
  }
 },
 "nbformat": 4,
 "nbformat_minor": 5
}
