{
 "cells": [
  {
   "cell_type": "markdown",
   "metadata": {},
   "source": [
    "### 1. Import and load packages "
   ]
  },
  {
   "cell_type": "code",
   "execution_count": 1,
   "metadata": {},
   "outputs": [],
   "source": [
    "# Load packages\n",
    "import pandas as pd\n",
    "import numpy as np\n",
    "from datetime import date\n",
    "import csv\n",
    "import re\n",
    "import datetime\n",
    "import os\n",
    "from sklearn.feature_selection import VarianceThreshold\n",
    "from pandas import read_csv\n",
    "from sklearn.datasets import load_breast_cancer\n",
    "from datetime import date\n",
    "import kaplanmeier as km\n",
    "from sklearn.decomposition import PCA\n",
    "import pylab as pl\n",
    "from itertools import cycle\n",
    "import matplotlib.pyplot as plt\n",
    "from sklearn.preprocessing import StandardScaler\n",
    "import seaborn as sns\n",
    "%matplotlib inline\n",
    "from qqman import qqman\n",
    "from pandas_plink import read_plink\n",
    "from scipy.stats import ttest_ind\n",
    "import math\n",
    "import os\n",
    "from lifelines import KaplanMeierFitter\n",
    "from pandas import DataFrame\n",
    "import pandas as pd\n",
    "import seaborn as sns\n",
    "sns.set(color_codes=True)\n",
    "import numpy as np\n",
    "from pandas.plotting import scatter_matrix\n",
    "from sklearn import preprocessing\n",
    "from numpy import set_printoptions\n",
    "from sklearn.preprocessing import Normalizer\n",
    "from sklearn.preprocessing import Binarizer\n",
    "from sklearn.preprocessing import StandardScaler\n",
    "from sklearn import preprocessing\n",
    "from sklearn.feature_selection import SelectKBest\n",
    "from sklearn.feature_selection import chi2\n",
    "from sklearn.feature_selection import RFE\n",
    "from sklearn.linear_model import LogisticRegression\n",
    "from sklearn.decomposition import PCA\n",
    "from sklearn.ensemble import ExtraTreesClassifier\n",
    "from sklearn.model_selection import train_test_split\n",
    "from sklearn.naive_bayes import GaussianNB\n",
    "from sklearn.metrics import accuracy_score\n",
    "from sklearn.metrics import confusion_matrix\n",
    "from sklearn import datasets\n",
    "import seaborn as sns; sns.set()\n",
    "from sklearn.svm import SVC\n",
    "from sklearn import metrics\n",
    "from sklearn.metrics import classification_report, confusion_matrix\n",
    "from sklearn.ensemble import GradientBoostingClassifier\n",
    "from sklearn.preprocessing import MinMaxScaler\n",
    "#from xgboost import XGBClassifier\n",
    "from numpy import mean\n",
    "from numpy import std\n",
    "from numpy import absolute\n",
    "from pandas import read_csv\n",
    "from sklearn.model_selection import cross_val_score\n",
    "from sklearn.model_selection import RepeatedKFold\n",
    "from sklearn.linear_model import ElasticNet\n",
    "from numpy import arange\n",
    "from sklearn.model_selection import GridSearchCV\n",
    "from sklearn.metrics import precision_score, recall_score\n",
    "from sklearn.svm import SVC\n",
    "from sklearn.svm import LinearSVC\n",
    "import pandas as pd\n",
    "from google.cloud import bigquery\n",
    "import os\n",
    "import matplotlib.pyplot as plt\n",
    "import textwrap\n",
    "import re\n",
    "from tqdm import tqdm\n",
    "%matplotlib inline"
   ]
  },
  {
   "cell_type": "code",
   "execution_count": 2,
   "metadata": {},
   "outputs": [],
   "source": [
    "pd.set_option(\"display.max_columns\", None)"
   ]
  },
  {
   "cell_type": "markdown",
   "metadata": {},
   "source": [
    "### 2. Load exposure and outcome cohorts from Big Query "
   ]
  },
  {
   "cell_type": "markdown",
   "metadata": {},
   "source": [
    "##### exp_2022 and out_2022"
   ]
  },
  {
   "cell_type": "code",
   "execution_count": 3,
   "metadata": {},
   "outputs": [],
   "source": [
    "user_id = 'kbechler'\n",
    "nero_gcp_project = 'som-nero-nigam-starr'\n",
    "cdm_project_id = 'som-nero-nigam-starr'\n",
    "cdm_dataset_id = 'starr_omop_cdm5_deid_20211213'\n",
    "work_project_id = 'som-nero-nigam-starr'\n",
    "work_dataset_id = f'{user_id}_explore'\n",
    "cdm_subset_dataset_id = 'cdm_subset'"
   ]
  },
  {
   "cell_type": "markdown",
   "metadata": {},
   "source": [
    "Set up connection"
   ]
  },
  {
   "cell_type": "code",
   "execution_count": 4,
   "metadata": {},
   "outputs": [
    {
     "data": {
      "text/plain": [
       "'/home/kbechler/notebooks'"
      ]
     },
     "execution_count": 4,
     "metadata": {},
     "output_type": "execute_result"
    }
   ],
   "source": [
    "os.getcwd()"
   ]
  },
  {
   "cell_type": "code",
   "execution_count": 5,
   "metadata": {},
   "outputs": [],
   "source": [
    "# Use correct path whether you are local or Nero\n",
    "os.environ['GOOGLE_APPLICATION_CREDENTIALS'] = '/home/kbechler/adc.json' \n",
    "\n",
    "# Set correct Nero project\n",
    "os.environ['GCLOUD_PROJECT'] = nero_gcp_project\n",
    "client = bigquery.Client(project = work_project_id)\n",
    "#client=bigquery.Client();"
   ]
  },
  {
   "cell_type": "code",
   "execution_count": 6,
   "metadata": {},
   "outputs": [
    {
     "name": "stderr",
     "output_type": "stream",
     "text": [
      "/home/kbechler/.conda/envs/env_name/lib/python3.9/site-packages/google/cloud/bigquery/client.py:461: UserWarning: Cannot create BigQuery Storage client, the dependency google-cloud-bigquery-storage is not installed.\n",
      "  warnings.warn(\n"
     ]
    }
   ],
   "source": [
    "sql = \"select * from som-nero-nigam-starr.kbechler_explore.exp_2022\"\n",
    "exp_df = client.query(sql).to_dataframe()\n",
    "\n",
    "sql = \"select * from som-nero-nigam-starr.kbechler_explore.out_2022\"\n",
    "out_df = client.query(sql).to_dataframe()"
   ]
  },
  {
   "cell_type": "markdown",
   "metadata": {},
   "source": [
    "### 3. Create CLMBR Patient List "
   ]
  },
  {
   "cell_type": "code",
   "execution_count": 7,
   "metadata": {},
   "outputs": [],
   "source": [
    "# Merge outcome and cohort dataframes to create labels column\n",
    "df = pd.merge(exp_df, out_df, on = 'subject_id', how = 'left')"
   ]
  },
  {
   "cell_type": "code",
   "execution_count": 8,
   "metadata": {},
   "outputs": [
    {
     "data": {
      "text/html": [
       "<div>\n",
       "<style scoped>\n",
       "    .dataframe tbody tr th:only-of-type {\n",
       "        vertical-align: middle;\n",
       "    }\n",
       "\n",
       "    .dataframe tbody tr th {\n",
       "        vertical-align: top;\n",
       "    }\n",
       "\n",
       "    .dataframe thead th {\n",
       "        text-align: right;\n",
       "    }\n",
       "</style>\n",
       "<table border=\"1\" class=\"dataframe\">\n",
       "  <thead>\n",
       "    <tr style=\"text-align: right;\">\n",
       "      <th></th>\n",
       "      <th>cohort_definition_id_x</th>\n",
       "      <th>subject_id</th>\n",
       "      <th>cohort_start_date_x</th>\n",
       "      <th>cohort_end_date_x</th>\n",
       "      <th>cohort_definition_id_y</th>\n",
       "      <th>cohort_start_date_y</th>\n",
       "      <th>cohort_end_date_y</th>\n",
       "    </tr>\n",
       "  </thead>\n",
       "  <tbody>\n",
       "    <tr>\n",
       "      <th>0</th>\n",
       "      <td>21</td>\n",
       "      <td>32209409</td>\n",
       "      <td>2011-08-12</td>\n",
       "      <td>2015-07-24</td>\n",
       "      <td>NaN</td>\n",
       "      <td>NaN</td>\n",
       "      <td>NaN</td>\n",
       "    </tr>\n",
       "    <tr>\n",
       "      <th>1</th>\n",
       "      <td>21</td>\n",
       "      <td>30924418</td>\n",
       "      <td>2011-09-27</td>\n",
       "      <td>2017-08-30</td>\n",
       "      <td>NaN</td>\n",
       "      <td>NaN</td>\n",
       "      <td>NaN</td>\n",
       "    </tr>\n",
       "    <tr>\n",
       "      <th>2</th>\n",
       "      <td>21</td>\n",
       "      <td>31008811</td>\n",
       "      <td>2010-09-16</td>\n",
       "      <td>2019-01-24</td>\n",
       "      <td>22.0</td>\n",
       "      <td>2010-09-16</td>\n",
       "      <td>2019-01-24</td>\n",
       "    </tr>\n",
       "    <tr>\n",
       "      <th>3</th>\n",
       "      <td>21</td>\n",
       "      <td>30742058</td>\n",
       "      <td>2011-11-29</td>\n",
       "      <td>2019-10-07</td>\n",
       "      <td>NaN</td>\n",
       "      <td>NaN</td>\n",
       "      <td>NaN</td>\n",
       "    </tr>\n",
       "    <tr>\n",
       "      <th>4</th>\n",
       "      <td>21</td>\n",
       "      <td>32400899</td>\n",
       "      <td>2012-08-06</td>\n",
       "      <td>2021-03-02</td>\n",
       "      <td>NaN</td>\n",
       "      <td>NaN</td>\n",
       "      <td>NaN</td>\n",
       "    </tr>\n",
       "  </tbody>\n",
       "</table>\n",
       "</div>"
      ],
      "text/plain": [
       "   cohort_definition_id_x  subject_id cohort_start_date_x cohort_end_date_x  \\\n",
       "0                      21    32209409          2011-08-12        2015-07-24   \n",
       "1                      21    30924418          2011-09-27        2017-08-30   \n",
       "2                      21    31008811          2010-09-16        2019-01-24   \n",
       "3                      21    30742058          2011-11-29        2019-10-07   \n",
       "4                      21    32400899          2012-08-06        2021-03-02   \n",
       "\n",
       "   cohort_definition_id_y cohort_start_date_y cohort_end_date_y  \n",
       "0                     NaN                 NaN               NaN  \n",
       "1                     NaN                 NaN               NaN  \n",
       "2                    22.0          2010-09-16        2019-01-24  \n",
       "3                     NaN                 NaN               NaN  \n",
       "4                     NaN                 NaN               NaN  "
      ]
     },
     "execution_count": 8,
     "metadata": {},
     "output_type": "execute_result"
    }
   ],
   "source": [
    "df.head()"
   ]
  },
  {
   "cell_type": "code",
   "execution_count": 9,
   "metadata": {},
   "outputs": [],
   "source": [
    "df.columns = ['exp_id', 'subject_id', 'exp_cohort_start_date', 'exp_cohort_end_date', 'out_id', \n",
    "              'out_cohort_start_date', 'out_cohort_end_date']"
   ]
  },
  {
   "cell_type": "code",
   "execution_count": 10,
   "metadata": {},
   "outputs": [
    {
     "data": {
      "text/plain": [
       "'/home/kbechler/notebooks'"
      ]
     },
     "execution_count": 10,
     "metadata": {},
     "output_type": "execute_result"
    }
   ],
   "source": [
    "os.getcwd()"
   ]
  },
  {
   "cell_type": "code",
   "execution_count": 11,
   "metadata": {},
   "outputs": [],
   "source": [
    "# Bring in patient dataframe with labels for various predictions\n",
    "patient_df = pd.read_csv('/home/kbechler/patient_df_labels_2022.csv')"
   ]
  },
  {
   "cell_type": "code",
   "execution_count": 12,
   "metadata": {},
   "outputs": [
    {
     "data": {
      "text/html": [
       "<div>\n",
       "<style scoped>\n",
       "    .dataframe tbody tr th:only-of-type {\n",
       "        vertical-align: middle;\n",
       "    }\n",
       "\n",
       "    .dataframe tbody tr th {\n",
       "        vertical-align: top;\n",
       "    }\n",
       "\n",
       "    .dataframe thead th {\n",
       "        text-align: right;\n",
       "    }\n",
       "</style>\n",
       "<table border=\"1\" class=\"dataframe\">\n",
       "  <thead>\n",
       "    <tr style=\"text-align: right;\">\n",
       "      <th></th>\n",
       "      <th>cohort_definition_id</th>\n",
       "      <th>subject_id</th>\n",
       "      <th>cohort_start_date</th>\n",
       "      <th>cohort_end_date</th>\n",
       "      <th>person_id_x</th>\n",
       "      <th>ln_diag_date</th>\n",
       "      <th>time_sle_to_ln</th>\n",
       "      <th>index_0</th>\n",
       "      <th>ln_event_0</th>\n",
       "      <th>index_1</th>\n",
       "      <th>ln_event_1</th>\n",
       "      <th>index_2</th>\n",
       "      <th>index_3</th>\n",
       "      <th>index_4</th>\n",
       "      <th>index_5</th>\n",
       "      <th>index_6</th>\n",
       "      <th>index_7</th>\n",
       "      <th>index_8</th>\n",
       "      <th>index_9</th>\n",
       "      <th>ln_event_2</th>\n",
       "      <th>ln_event_3</th>\n",
       "      <th>ln_event_4</th>\n",
       "      <th>ln_event_5</th>\n",
       "      <th>ln_event_6</th>\n",
       "      <th>ln_event_7</th>\n",
       "      <th>ln_event_8</th>\n",
       "      <th>ln_event_9</th>\n",
       "      <th>ln_event_10</th>\n",
       "      <th>ln_event_11</th>\n",
       "      <th>ln_event_12</th>\n",
       "      <th>ln_1year</th>\n",
       "      <th>ln_2years</th>\n",
       "      <th>ln_3years</th>\n",
       "      <th>ln_4years</th>\n",
       "      <th>ln_5years</th>\n",
       "      <th>ln_6years</th>\n",
       "      <th>ln_7years</th>\n",
       "      <th>ln_8years</th>\n",
       "      <th>ln_9years</th>\n",
       "      <th>ln_10years</th>\n",
       "      <th>ln_11years</th>\n",
       "      <th>ln_12years</th>\n",
       "      <th>person_id_y</th>\n",
       "      <th>observation_period_end_DATE</th>\n",
       "      <th>observation_post_sle_obs</th>\n",
       "      <th>event_date</th>\n",
       "      <th>ln_event</th>\n",
       "    </tr>\n",
       "  </thead>\n",
       "  <tbody>\n",
       "    <tr>\n",
       "      <th>0</th>\n",
       "      <td>21</td>\n",
       "      <td>32209409</td>\n",
       "      <td>2011-08-12</td>\n",
       "      <td>2015-07-24</td>\n",
       "      <td>NaN</td>\n",
       "      <td>NaN</td>\n",
       "      <td>NaN</td>\n",
       "      <td>2011-08-12</td>\n",
       "      <td>0</td>\n",
       "      <td>2012-08-11</td>\n",
       "      <td>0.0</td>\n",
       "      <td>2013-08-11</td>\n",
       "      <td>2014-08-11</td>\n",
       "      <td>2015-08-11</td>\n",
       "      <td>2016-08-10</td>\n",
       "      <td>2017-08-10</td>\n",
       "      <td>2018-08-10</td>\n",
       "      <td>2019-08-10</td>\n",
       "      <td>2020-08-09</td>\n",
       "      <td>0.0</td>\n",
       "      <td>0.0</td>\n",
       "      <td>0.0</td>\n",
       "      <td>0.0</td>\n",
       "      <td>0.0</td>\n",
       "      <td>0.0</td>\n",
       "      <td>0.0</td>\n",
       "      <td>0.0</td>\n",
       "      <td>0.0</td>\n",
       "      <td>0.0</td>\n",
       "      <td>0.0</td>\n",
       "      <td>0</td>\n",
       "      <td>0</td>\n",
       "      <td>0</td>\n",
       "      <td>0</td>\n",
       "      <td>0</td>\n",
       "      <td>0</td>\n",
       "      <td>0</td>\n",
       "      <td>0</td>\n",
       "      <td>0</td>\n",
       "      <td>0</td>\n",
       "      <td>0</td>\n",
       "      <td>0</td>\n",
       "      <td>32209409</td>\n",
       "      <td>2015-07-24</td>\n",
       "      <td>1442</td>\n",
       "      <td>1442.0</td>\n",
       "      <td>0</td>\n",
       "    </tr>\n",
       "    <tr>\n",
       "      <th>1</th>\n",
       "      <td>21</td>\n",
       "      <td>30924418</td>\n",
       "      <td>2011-09-27</td>\n",
       "      <td>2017-08-30</td>\n",
       "      <td>NaN</td>\n",
       "      <td>NaN</td>\n",
       "      <td>NaN</td>\n",
       "      <td>2011-09-27</td>\n",
       "      <td>0</td>\n",
       "      <td>2012-09-26</td>\n",
       "      <td>0.0</td>\n",
       "      <td>2013-09-26</td>\n",
       "      <td>2014-09-26</td>\n",
       "      <td>2015-09-26</td>\n",
       "      <td>2016-09-25</td>\n",
       "      <td>2017-09-25</td>\n",
       "      <td>2018-09-25</td>\n",
       "      <td>2019-09-25</td>\n",
       "      <td>2020-09-24</td>\n",
       "      <td>0.0</td>\n",
       "      <td>0.0</td>\n",
       "      <td>0.0</td>\n",
       "      <td>0.0</td>\n",
       "      <td>0.0</td>\n",
       "      <td>0.0</td>\n",
       "      <td>0.0</td>\n",
       "      <td>0.0</td>\n",
       "      <td>0.0</td>\n",
       "      <td>0.0</td>\n",
       "      <td>0.0</td>\n",
       "      <td>0</td>\n",
       "      <td>0</td>\n",
       "      <td>0</td>\n",
       "      <td>0</td>\n",
       "      <td>0</td>\n",
       "      <td>0</td>\n",
       "      <td>0</td>\n",
       "      <td>0</td>\n",
       "      <td>0</td>\n",
       "      <td>0</td>\n",
       "      <td>0</td>\n",
       "      <td>0</td>\n",
       "      <td>30924418</td>\n",
       "      <td>2017-08-30</td>\n",
       "      <td>2164</td>\n",
       "      <td>2164.0</td>\n",
       "      <td>0</td>\n",
       "    </tr>\n",
       "    <tr>\n",
       "      <th>2</th>\n",
       "      <td>21</td>\n",
       "      <td>31008811</td>\n",
       "      <td>2010-09-16</td>\n",
       "      <td>2019-01-24</td>\n",
       "      <td>31008811.0</td>\n",
       "      <td>2016-01-28</td>\n",
       "      <td>1960.0</td>\n",
       "      <td>2010-09-16</td>\n",
       "      <td>0</td>\n",
       "      <td>2011-09-16</td>\n",
       "      <td>0.0</td>\n",
       "      <td>2012-09-15</td>\n",
       "      <td>2013-09-15</td>\n",
       "      <td>2014-09-15</td>\n",
       "      <td>2015-09-15</td>\n",
       "      <td>2016-09-14</td>\n",
       "      <td>2017-09-14</td>\n",
       "      <td>2018-09-14</td>\n",
       "      <td>2019-09-14</td>\n",
       "      <td>0.0</td>\n",
       "      <td>0.0</td>\n",
       "      <td>0.0</td>\n",
       "      <td>1.0</td>\n",
       "      <td>NaN</td>\n",
       "      <td>NaN</td>\n",
       "      <td>NaN</td>\n",
       "      <td>NaN</td>\n",
       "      <td>NaN</td>\n",
       "      <td>NaN</td>\n",
       "      <td>NaN</td>\n",
       "      <td>0</td>\n",
       "      <td>0</td>\n",
       "      <td>0</td>\n",
       "      <td>0</td>\n",
       "      <td>0</td>\n",
       "      <td>1</td>\n",
       "      <td>1</td>\n",
       "      <td>1</td>\n",
       "      <td>1</td>\n",
       "      <td>1</td>\n",
       "      <td>1</td>\n",
       "      <td>1</td>\n",
       "      <td>31008811</td>\n",
       "      <td>2019-01-24</td>\n",
       "      <td>3052</td>\n",
       "      <td>1960.0</td>\n",
       "      <td>1</td>\n",
       "    </tr>\n",
       "    <tr>\n",
       "      <th>3</th>\n",
       "      <td>21</td>\n",
       "      <td>30742058</td>\n",
       "      <td>2011-11-29</td>\n",
       "      <td>2019-10-07</td>\n",
       "      <td>NaN</td>\n",
       "      <td>NaN</td>\n",
       "      <td>NaN</td>\n",
       "      <td>2011-11-29</td>\n",
       "      <td>0</td>\n",
       "      <td>2012-11-28</td>\n",
       "      <td>0.0</td>\n",
       "      <td>2013-11-28</td>\n",
       "      <td>2014-11-28</td>\n",
       "      <td>2015-11-28</td>\n",
       "      <td>2016-11-27</td>\n",
       "      <td>2017-11-27</td>\n",
       "      <td>2018-11-27</td>\n",
       "      <td>2019-11-27</td>\n",
       "      <td>2020-11-26</td>\n",
       "      <td>0.0</td>\n",
       "      <td>0.0</td>\n",
       "      <td>0.0</td>\n",
       "      <td>0.0</td>\n",
       "      <td>0.0</td>\n",
       "      <td>0.0</td>\n",
       "      <td>0.0</td>\n",
       "      <td>0.0</td>\n",
       "      <td>0.0</td>\n",
       "      <td>0.0</td>\n",
       "      <td>0.0</td>\n",
       "      <td>0</td>\n",
       "      <td>0</td>\n",
       "      <td>0</td>\n",
       "      <td>0</td>\n",
       "      <td>0</td>\n",
       "      <td>0</td>\n",
       "      <td>0</td>\n",
       "      <td>0</td>\n",
       "      <td>0</td>\n",
       "      <td>0</td>\n",
       "      <td>0</td>\n",
       "      <td>0</td>\n",
       "      <td>30742058</td>\n",
       "      <td>2019-10-07</td>\n",
       "      <td>2869</td>\n",
       "      <td>2869.0</td>\n",
       "      <td>0</td>\n",
       "    </tr>\n",
       "    <tr>\n",
       "      <th>4</th>\n",
       "      <td>21</td>\n",
       "      <td>32400899</td>\n",
       "      <td>2012-08-06</td>\n",
       "      <td>2021-03-02</td>\n",
       "      <td>NaN</td>\n",
       "      <td>NaN</td>\n",
       "      <td>NaN</td>\n",
       "      <td>2012-08-06</td>\n",
       "      <td>0</td>\n",
       "      <td>2013-08-06</td>\n",
       "      <td>0.0</td>\n",
       "      <td>2014-08-06</td>\n",
       "      <td>2015-08-06</td>\n",
       "      <td>2016-08-05</td>\n",
       "      <td>2017-08-05</td>\n",
       "      <td>2018-08-05</td>\n",
       "      <td>2019-08-05</td>\n",
       "      <td>2020-08-04</td>\n",
       "      <td>2021-08-04</td>\n",
       "      <td>0.0</td>\n",
       "      <td>0.0</td>\n",
       "      <td>0.0</td>\n",
       "      <td>0.0</td>\n",
       "      <td>0.0</td>\n",
       "      <td>0.0</td>\n",
       "      <td>0.0</td>\n",
       "      <td>0.0</td>\n",
       "      <td>0.0</td>\n",
       "      <td>0.0</td>\n",
       "      <td>0.0</td>\n",
       "      <td>0</td>\n",
       "      <td>0</td>\n",
       "      <td>0</td>\n",
       "      <td>0</td>\n",
       "      <td>0</td>\n",
       "      <td>0</td>\n",
       "      <td>0</td>\n",
       "      <td>0</td>\n",
       "      <td>0</td>\n",
       "      <td>0</td>\n",
       "      <td>0</td>\n",
       "      <td>0</td>\n",
       "      <td>32400899</td>\n",
       "      <td>2021-03-02</td>\n",
       "      <td>3130</td>\n",
       "      <td>3130.0</td>\n",
       "      <td>0</td>\n",
       "    </tr>\n",
       "  </tbody>\n",
       "</table>\n",
       "</div>"
      ],
      "text/plain": [
       "   cohort_definition_id  subject_id cohort_start_date cohort_end_date  \\\n",
       "0                    21    32209409        2011-08-12      2015-07-24   \n",
       "1                    21    30924418        2011-09-27      2017-08-30   \n",
       "2                    21    31008811        2010-09-16      2019-01-24   \n",
       "3                    21    30742058        2011-11-29      2019-10-07   \n",
       "4                    21    32400899        2012-08-06      2021-03-02   \n",
       "\n",
       "   person_id_x ln_diag_date  time_sle_to_ln     index_0  ln_event_0  \\\n",
       "0          NaN          NaN             NaN  2011-08-12           0   \n",
       "1          NaN          NaN             NaN  2011-09-27           0   \n",
       "2   31008811.0   2016-01-28          1960.0  2010-09-16           0   \n",
       "3          NaN          NaN             NaN  2011-11-29           0   \n",
       "4          NaN          NaN             NaN  2012-08-06           0   \n",
       "\n",
       "      index_1  ln_event_1     index_2     index_3     index_4     index_5  \\\n",
       "0  2012-08-11         0.0  2013-08-11  2014-08-11  2015-08-11  2016-08-10   \n",
       "1  2012-09-26         0.0  2013-09-26  2014-09-26  2015-09-26  2016-09-25   \n",
       "2  2011-09-16         0.0  2012-09-15  2013-09-15  2014-09-15  2015-09-15   \n",
       "3  2012-11-28         0.0  2013-11-28  2014-11-28  2015-11-28  2016-11-27   \n",
       "4  2013-08-06         0.0  2014-08-06  2015-08-06  2016-08-05  2017-08-05   \n",
       "\n",
       "      index_6     index_7     index_8     index_9  ln_event_2  ln_event_3  \\\n",
       "0  2017-08-10  2018-08-10  2019-08-10  2020-08-09         0.0         0.0   \n",
       "1  2017-09-25  2018-09-25  2019-09-25  2020-09-24         0.0         0.0   \n",
       "2  2016-09-14  2017-09-14  2018-09-14  2019-09-14         0.0         0.0   \n",
       "3  2017-11-27  2018-11-27  2019-11-27  2020-11-26         0.0         0.0   \n",
       "4  2018-08-05  2019-08-05  2020-08-04  2021-08-04         0.0         0.0   \n",
       "\n",
       "   ln_event_4  ln_event_5  ln_event_6  ln_event_7  ln_event_8  ln_event_9  \\\n",
       "0         0.0         0.0         0.0         0.0         0.0         0.0   \n",
       "1         0.0         0.0         0.0         0.0         0.0         0.0   \n",
       "2         0.0         1.0         NaN         NaN         NaN         NaN   \n",
       "3         0.0         0.0         0.0         0.0         0.0         0.0   \n",
       "4         0.0         0.0         0.0         0.0         0.0         0.0   \n",
       "\n",
       "   ln_event_10  ln_event_11  ln_event_12  ln_1year  ln_2years  ln_3years  \\\n",
       "0          0.0          0.0          0.0         0          0          0   \n",
       "1          0.0          0.0          0.0         0          0          0   \n",
       "2          NaN          NaN          NaN         0          0          0   \n",
       "3          0.0          0.0          0.0         0          0          0   \n",
       "4          0.0          0.0          0.0         0          0          0   \n",
       "\n",
       "   ln_4years  ln_5years  ln_6years  ln_7years  ln_8years  ln_9years  \\\n",
       "0          0          0          0          0          0          0   \n",
       "1          0          0          0          0          0          0   \n",
       "2          0          0          1          1          1          1   \n",
       "3          0          0          0          0          0          0   \n",
       "4          0          0          0          0          0          0   \n",
       "\n",
       "   ln_10years  ln_11years  ln_12years  person_id_y  \\\n",
       "0           0           0           0     32209409   \n",
       "1           0           0           0     30924418   \n",
       "2           1           1           1     31008811   \n",
       "3           0           0           0     30742058   \n",
       "4           0           0           0     32400899   \n",
       "\n",
       "  observation_period_end_DATE  observation_post_sle_obs  event_date  ln_event  \n",
       "0                  2015-07-24                      1442      1442.0         0  \n",
       "1                  2017-08-30                      2164      2164.0         0  \n",
       "2                  2019-01-24                      3052      1960.0         1  \n",
       "3                  2019-10-07                      2869      2869.0         0  \n",
       "4                  2021-03-02                      3130      3130.0         0  "
      ]
     },
     "execution_count": 12,
     "metadata": {},
     "output_type": "execute_result"
    }
   ],
   "source": [
    "patient_df.head()"
   ]
  },
  {
   "cell_type": "code",
   "execution_count": 13,
   "metadata": {},
   "outputs": [
    {
     "data": {
      "text/plain": [
       "177"
      ]
     },
     "execution_count": 13,
     "metadata": {},
     "output_type": "execute_result"
    }
   ],
   "source": [
    "sum(patient_df.ln_5years == 1)"
   ]
  },
  {
   "cell_type": "markdown",
   "metadata": {},
   "source": [
    "##### Set label for if patient develops LN in the next 5 years "
   ]
  },
  {
   "cell_type": "code",
   "execution_count": 14,
   "metadata": {},
   "outputs": [],
   "source": [
    "# Merge ln_5years with df\n",
    "df = pd.merge(df, patient_df[['subject_id', 'ln_5years', 'time_sle_to_ln']], on = 'subject_id', how = 'left')"
   ]
  },
  {
   "cell_type": "code",
   "execution_count": 15,
   "metadata": {},
   "outputs": [],
   "source": [
    "# Create label column\n",
    "df['label'] = df.ln_5years"
   ]
  },
  {
   "cell_type": "code",
   "execution_count": 16,
   "metadata": {},
   "outputs": [
    {
     "name": "stdout",
     "output_type": "stream",
     "text": [
      "Number of positive cases: 177\n",
      "Number of negative cases: 2676\n",
      "Total number of patients in exposure cohort: 2853\n"
     ]
    }
   ],
   "source": [
    "print(\"Number of positive cases:\", sum(df.label == 1))\n",
    "print(\"Number of negative cases:\", sum(df.label == 0))\n",
    "print(\"Total number of patients in exposure cohort:\", len(df))"
   ]
  },
  {
   "cell_type": "code",
   "execution_count": 17,
   "metadata": {},
   "outputs": [
    {
     "data": {
      "text/html": [
       "<div>\n",
       "<style scoped>\n",
       "    .dataframe tbody tr th:only-of-type {\n",
       "        vertical-align: middle;\n",
       "    }\n",
       "\n",
       "    .dataframe tbody tr th {\n",
       "        vertical-align: top;\n",
       "    }\n",
       "\n",
       "    .dataframe thead th {\n",
       "        text-align: right;\n",
       "    }\n",
       "</style>\n",
       "<table border=\"1\" class=\"dataframe\">\n",
       "  <thead>\n",
       "    <tr style=\"text-align: right;\">\n",
       "      <th></th>\n",
       "      <th>exp_id</th>\n",
       "      <th>subject_id</th>\n",
       "      <th>exp_cohort_start_date</th>\n",
       "      <th>exp_cohort_end_date</th>\n",
       "      <th>out_id</th>\n",
       "      <th>out_cohort_start_date</th>\n",
       "      <th>out_cohort_end_date</th>\n",
       "      <th>ln_5years</th>\n",
       "      <th>time_sle_to_ln</th>\n",
       "      <th>label</th>\n",
       "    </tr>\n",
       "  </thead>\n",
       "  <tbody>\n",
       "    <tr>\n",
       "      <th>0</th>\n",
       "      <td>21</td>\n",
       "      <td>32209409</td>\n",
       "      <td>2011-08-12</td>\n",
       "      <td>2015-07-24</td>\n",
       "      <td>NaN</td>\n",
       "      <td>NaN</td>\n",
       "      <td>NaN</td>\n",
       "      <td>0</td>\n",
       "      <td>NaN</td>\n",
       "      <td>0</td>\n",
       "    </tr>\n",
       "    <tr>\n",
       "      <th>1</th>\n",
       "      <td>21</td>\n",
       "      <td>30924418</td>\n",
       "      <td>2011-09-27</td>\n",
       "      <td>2017-08-30</td>\n",
       "      <td>NaN</td>\n",
       "      <td>NaN</td>\n",
       "      <td>NaN</td>\n",
       "      <td>0</td>\n",
       "      <td>NaN</td>\n",
       "      <td>0</td>\n",
       "    </tr>\n",
       "    <tr>\n",
       "      <th>2</th>\n",
       "      <td>21</td>\n",
       "      <td>31008811</td>\n",
       "      <td>2010-09-16</td>\n",
       "      <td>2019-01-24</td>\n",
       "      <td>22.0</td>\n",
       "      <td>2010-09-16</td>\n",
       "      <td>2019-01-24</td>\n",
       "      <td>0</td>\n",
       "      <td>1960.0</td>\n",
       "      <td>0</td>\n",
       "    </tr>\n",
       "    <tr>\n",
       "      <th>3</th>\n",
       "      <td>21</td>\n",
       "      <td>30742058</td>\n",
       "      <td>2011-11-29</td>\n",
       "      <td>2019-10-07</td>\n",
       "      <td>NaN</td>\n",
       "      <td>NaN</td>\n",
       "      <td>NaN</td>\n",
       "      <td>0</td>\n",
       "      <td>NaN</td>\n",
       "      <td>0</td>\n",
       "    </tr>\n",
       "    <tr>\n",
       "      <th>4</th>\n",
       "      <td>21</td>\n",
       "      <td>32400899</td>\n",
       "      <td>2012-08-06</td>\n",
       "      <td>2021-03-02</td>\n",
       "      <td>NaN</td>\n",
       "      <td>NaN</td>\n",
       "      <td>NaN</td>\n",
       "      <td>0</td>\n",
       "      <td>NaN</td>\n",
       "      <td>0</td>\n",
       "    </tr>\n",
       "  </tbody>\n",
       "</table>\n",
       "</div>"
      ],
      "text/plain": [
       "   exp_id  subject_id exp_cohort_start_date exp_cohort_end_date  out_id  \\\n",
       "0      21    32209409            2011-08-12          2015-07-24     NaN   \n",
       "1      21    30924418            2011-09-27          2017-08-30     NaN   \n",
       "2      21    31008811            2010-09-16          2019-01-24    22.0   \n",
       "3      21    30742058            2011-11-29          2019-10-07     NaN   \n",
       "4      21    32400899            2012-08-06          2021-03-02     NaN   \n",
       "\n",
       "  out_cohort_start_date out_cohort_end_date  ln_5years  time_sle_to_ln  label  \n",
       "0                   NaN                 NaN          0             NaN      0  \n",
       "1                   NaN                 NaN          0             NaN      0  \n",
       "2            2010-09-16          2019-01-24          0          1960.0      0  \n",
       "3                   NaN                 NaN          0             NaN      0  \n",
       "4                   NaN                 NaN          0             NaN      0  "
      ]
     },
     "execution_count": 17,
     "metadata": {},
     "output_type": "execute_result"
    }
   ],
   "source": [
    "df.head()"
   ]
  },
  {
   "cell_type": "code",
   "execution_count": 18,
   "metadata": {},
   "outputs": [],
   "source": [
    "# Subset to columns for CLMBR dataframe\n",
    "df_clmbr = df[['subject_id', 'exp_cohort_start_date', 'label']]"
   ]
  },
  {
   "cell_type": "code",
   "execution_count": 19,
   "metadata": {},
   "outputs": [],
   "source": [
    "# Rename columns\n",
    "df_clmbr.columns = ['patient_id', 'date', 'label']"
   ]
  },
  {
   "cell_type": "code",
   "execution_count": 20,
   "metadata": {},
   "outputs": [
    {
     "name": "stderr",
     "output_type": "stream",
     "text": [
      "<ipython-input-20-39c0e5f7b1a7>:2: SettingWithCopyWarning: \n",
      "A value is trying to be set on a copy of a slice from a DataFrame.\n",
      "Try using .loc[row_indexer,col_indexer] = value instead\n",
      "\n",
      "See the caveats in the documentation: https://pandas.pydata.org/pandas-docs/stable/user_guide/indexing.html#returning-a-view-versus-a-copy\n",
      "  df_clmbr['label'] = np.where(df_clmbr.label == 1, True, False)\n"
     ]
    }
   ],
   "source": [
    "# Change to True/False\n",
    "df_clmbr['label'] = np.where(df_clmbr.label == 1, True, False)"
   ]
  },
  {
   "cell_type": "code",
   "execution_count": 21,
   "metadata": {},
   "outputs": [
    {
     "data": {
      "text/html": [
       "<div>\n",
       "<style scoped>\n",
       "    .dataframe tbody tr th:only-of-type {\n",
       "        vertical-align: middle;\n",
       "    }\n",
       "\n",
       "    .dataframe tbody tr th {\n",
       "        vertical-align: top;\n",
       "    }\n",
       "\n",
       "    .dataframe thead th {\n",
       "        text-align: right;\n",
       "    }\n",
       "</style>\n",
       "<table border=\"1\" class=\"dataframe\">\n",
       "  <thead>\n",
       "    <tr style=\"text-align: right;\">\n",
       "      <th></th>\n",
       "      <th>patient_id</th>\n",
       "      <th>date</th>\n",
       "      <th>label</th>\n",
       "    </tr>\n",
       "  </thead>\n",
       "  <tbody>\n",
       "    <tr>\n",
       "      <th>0</th>\n",
       "      <td>32209409</td>\n",
       "      <td>2011-08-12</td>\n",
       "      <td>False</td>\n",
       "    </tr>\n",
       "    <tr>\n",
       "      <th>1</th>\n",
       "      <td>30924418</td>\n",
       "      <td>2011-09-27</td>\n",
       "      <td>False</td>\n",
       "    </tr>\n",
       "    <tr>\n",
       "      <th>2</th>\n",
       "      <td>31008811</td>\n",
       "      <td>2010-09-16</td>\n",
       "      <td>False</td>\n",
       "    </tr>\n",
       "    <tr>\n",
       "      <th>3</th>\n",
       "      <td>30742058</td>\n",
       "      <td>2011-11-29</td>\n",
       "      <td>False</td>\n",
       "    </tr>\n",
       "    <tr>\n",
       "      <th>4</th>\n",
       "      <td>32400899</td>\n",
       "      <td>2012-08-06</td>\n",
       "      <td>False</td>\n",
       "    </tr>\n",
       "  </tbody>\n",
       "</table>\n",
       "</div>"
      ],
      "text/plain": [
       "   patient_id        date  label\n",
       "0    32209409  2011-08-12  False\n",
       "1    30924418  2011-09-27  False\n",
       "2    31008811  2010-09-16  False\n",
       "3    30742058  2011-11-29  False\n",
       "4    32400899  2012-08-06  False"
      ]
     },
     "execution_count": 21,
     "metadata": {},
     "output_type": "execute_result"
    }
   ],
   "source": [
    "df_clmbr.head()"
   ]
  },
  {
   "cell_type": "markdown",
   "metadata": {},
   "source": [
    "### 4. Update outcome cohort in BigQuery to labels with LN within 5 years "
   ]
  },
  {
   "cell_type": "code",
   "execution_count": 22,
   "metadata": {},
   "outputs": [],
   "source": [
    "true_labels = df_clmbr[df_clmbr.label == True].patient_id"
   ]
  },
  {
   "cell_type": "code",
   "execution_count": 23,
   "metadata": {},
   "outputs": [],
   "source": [
    "true_labels = tuple(true_labels)"
   ]
  },
  {
   "cell_type": "code",
   "execution_count": 24,
   "metadata": {},
   "outputs": [],
   "source": [
    "query = \"\"\"\n",
    "\n",
    "CREATE OR REPLACE TABLE\n",
    "`som-nero-nigam-starr.kbechler_explore.out_2022` AS\n",
    "SELECT *\n",
    "FROM \n",
    "`som-nero-nigam-starr.kbechler_explore.out_2022` out_2022\n",
    "WHERE\n",
    "subject_id IN{}\"\"\".format(true_labels)\n",
    "\n",
    "client.query(query).result();"
   ]
  },
  {
   "cell_type": "code",
   "execution_count": 25,
   "metadata": {},
   "outputs": [
    {
     "name": "stderr",
     "output_type": "stream",
     "text": [
      "/home/kbechler/.conda/envs/env_name/lib/python3.9/site-packages/google/cloud/bigquery/client.py:461: UserWarning: Cannot create BigQuery Storage client, the dependency google-cloud-bigquery-storage is not installed.\n",
      "  warnings.warn(\n"
     ]
    }
   ],
   "source": [
    "sql = \"select * from som-nero-nigam-starr.kbechler_explore.out_2022\"\n",
    "out_2022 = client.query(sql).to_dataframe()"
   ]
  },
  {
   "cell_type": "code",
   "execution_count": 26,
   "metadata": {},
   "outputs": [
    {
     "name": "stdout",
     "output_type": "stream",
     "text": [
      "177\n"
     ]
    }
   ],
   "source": [
    "print(len(out_2022))"
   ]
  },
  {
   "cell_type": "markdown",
   "metadata": {},
   "source": [
    "### 5. Check to see if person's birth is post cohort start date"
   ]
  },
  {
   "cell_type": "code",
   "execution_count": 33,
   "metadata": {},
   "outputs": [],
   "source": [
    "person_df = pd.read_csv('/home/kbechler/notebooks/data/person.tsv', sep='\\t')"
   ]
  },
  {
   "cell_type": "code",
   "execution_count": 34,
   "metadata": {},
   "outputs": [
    {
     "data": {
      "text/html": [
       "<div>\n",
       "<style scoped>\n",
       "    .dataframe tbody tr th:only-of-type {\n",
       "        vertical-align: middle;\n",
       "    }\n",
       "\n",
       "    .dataframe tbody tr th {\n",
       "        vertical-align: top;\n",
       "    }\n",
       "\n",
       "    .dataframe thead th {\n",
       "        text-align: right;\n",
       "    }\n",
       "</style>\n",
       "<table border=\"1\" class=\"dataframe\">\n",
       "  <thead>\n",
       "    <tr style=\"text-align: right;\">\n",
       "      <th></th>\n",
       "      <th>_gender_name</th>\n",
       "      <th>person_id</th>\n",
       "      <th>gender_concept_id</th>\n",
       "      <th>year_of_birth</th>\n",
       "      <th>month_of_birth</th>\n",
       "      <th>day_of_birth</th>\n",
       "      <th>birth_DATETIME</th>\n",
       "      <th>race_concept_id</th>\n",
       "      <th>ethnicity_concept_id</th>\n",
       "      <th>location_id</th>\n",
       "      <th>provider_id</th>\n",
       "      <th>care_site_id</th>\n",
       "      <th>person_source_value</th>\n",
       "      <th>gender_source_value</th>\n",
       "      <th>gender_source_concept_id</th>\n",
       "      <th>race_source_value</th>\n",
       "      <th>race_source_concept_id</th>\n",
       "      <th>ethnicity_source_value</th>\n",
       "      <th>ethnicity_source_concept_id</th>\n",
       "      <th>trace_id</th>\n",
       "      <th>unit_id</th>\n",
       "      <th>load_table_id</th>\n",
       "    </tr>\n",
       "  </thead>\n",
       "  <tbody>\n",
       "    <tr>\n",
       "      <th>0</th>\n",
       "      <td>FEMALE</td>\n",
       "      <td>30094567</td>\n",
       "      <td>8532</td>\n",
       "      <td>1971</td>\n",
       "      <td>12</td>\n",
       "      <td>23</td>\n",
       "      <td>1971-12-23 00:00:00</td>\n",
       "      <td>0</td>\n",
       "      <td>0</td>\n",
       "      <td>3473792.0</td>\n",
       "      <td>NaN</td>\n",
       "      <td>NaN</td>\n",
       "      <td>NaN</td>\n",
       "      <td>1 |</td>\n",
       "      <td>8532</td>\n",
       "      <td>|</td>\n",
       "      <td>0</td>\n",
       "      <td>|</td>\n",
       "      <td>0</td>\n",
       "      <td>NaN</td>\n",
       "      <td>shc_</td>\n",
       "      <td>shc_patient</td>\n",
       "    </tr>\n",
       "    <tr>\n",
       "      <th>1</th>\n",
       "      <td>FEMALE</td>\n",
       "      <td>31706027</td>\n",
       "      <td>8532</td>\n",
       "      <td>1965</td>\n",
       "      <td>4</td>\n",
       "      <td>30</td>\n",
       "      <td>1965-04-30 00:00:00</td>\n",
       "      <td>0</td>\n",
       "      <td>0</td>\n",
       "      <td>4626316.0</td>\n",
       "      <td>NaN</td>\n",
       "      <td>NaN</td>\n",
       "      <td>NaN</td>\n",
       "      <td>1 |</td>\n",
       "      <td>8532</td>\n",
       "      <td>|</td>\n",
       "      <td>0</td>\n",
       "      <td>|</td>\n",
       "      <td>0</td>\n",
       "      <td>NaN</td>\n",
       "      <td>shc_</td>\n",
       "      <td>shc_patient</td>\n",
       "    </tr>\n",
       "    <tr>\n",
       "      <th>2</th>\n",
       "      <td>FEMALE</td>\n",
       "      <td>75819548</td>\n",
       "      <td>8532</td>\n",
       "      <td>1998</td>\n",
       "      <td>9</td>\n",
       "      <td>25</td>\n",
       "      <td>1998-09-25 00:00:00</td>\n",
       "      <td>0</td>\n",
       "      <td>0</td>\n",
       "      <td>1227259.0</td>\n",
       "      <td>NaN</td>\n",
       "      <td>NaN</td>\n",
       "      <td>NaN</td>\n",
       "      <td>1 |</td>\n",
       "      <td>8532</td>\n",
       "      <td>|</td>\n",
       "      <td>0</td>\n",
       "      <td>|</td>\n",
       "      <td>0</td>\n",
       "      <td>NaN</td>\n",
       "      <td>shc_</td>\n",
       "      <td>shc_patient</td>\n",
       "    </tr>\n",
       "    <tr>\n",
       "      <th>3</th>\n",
       "      <td>FEMALE</td>\n",
       "      <td>32513341</td>\n",
       "      <td>8532</td>\n",
       "      <td>1946</td>\n",
       "      <td>12</td>\n",
       "      <td>3</td>\n",
       "      <td>1946-12-03 00:00:00</td>\n",
       "      <td>0</td>\n",
       "      <td>0</td>\n",
       "      <td>1806436.0</td>\n",
       "      <td>NaN</td>\n",
       "      <td>NaN</td>\n",
       "      <td>NaN</td>\n",
       "      <td>1 |</td>\n",
       "      <td>8532</td>\n",
       "      <td>|</td>\n",
       "      <td>0</td>\n",
       "      <td>|</td>\n",
       "      <td>0</td>\n",
       "      <td>NaN</td>\n",
       "      <td>shc_</td>\n",
       "      <td>shc_patient</td>\n",
       "    </tr>\n",
       "    <tr>\n",
       "      <th>4</th>\n",
       "      <td>FEMALE</td>\n",
       "      <td>31039198</td>\n",
       "      <td>8532</td>\n",
       "      <td>1955</td>\n",
       "      <td>11</td>\n",
       "      <td>27</td>\n",
       "      <td>1955-11-27 00:00:00</td>\n",
       "      <td>8515</td>\n",
       "      <td>38003564</td>\n",
       "      <td>2558798.0</td>\n",
       "      <td>NaN</td>\n",
       "      <td>NaN</td>\n",
       "      <td>NaN</td>\n",
       "      <td>1 |</td>\n",
       "      <td>8532</td>\n",
       "      <td>Asian |</td>\n",
       "      <td>0</td>\n",
       "      <td>Non-Hispanic/Non-Latino |</td>\n",
       "      <td>38003564</td>\n",
       "      <td>NaN</td>\n",
       "      <td>shc_</td>\n",
       "      <td>shc_patient</td>\n",
       "    </tr>\n",
       "  </tbody>\n",
       "</table>\n",
       "</div>"
      ],
      "text/plain": [
       "  _gender_name  person_id  gender_concept_id  year_of_birth  month_of_birth  \\\n",
       "0       FEMALE   30094567               8532           1971              12   \n",
       "1       FEMALE   31706027               8532           1965               4   \n",
       "2       FEMALE   75819548               8532           1998               9   \n",
       "3       FEMALE   32513341               8532           1946              12   \n",
       "4       FEMALE   31039198               8532           1955              11   \n",
       "\n",
       "   day_of_birth       birth_DATETIME  race_concept_id  ethnicity_concept_id  \\\n",
       "0            23  1971-12-23 00:00:00                0                     0   \n",
       "1            30  1965-04-30 00:00:00                0                     0   \n",
       "2            25  1998-09-25 00:00:00                0                     0   \n",
       "3             3  1946-12-03 00:00:00                0                     0   \n",
       "4            27  1955-11-27 00:00:00             8515              38003564   \n",
       "\n",
       "   location_id  provider_id  care_site_id  person_source_value  \\\n",
       "0    3473792.0          NaN           NaN                  NaN   \n",
       "1    4626316.0          NaN           NaN                  NaN   \n",
       "2    1227259.0          NaN           NaN                  NaN   \n",
       "3    1806436.0          NaN           NaN                  NaN   \n",
       "4    2558798.0          NaN           NaN                  NaN   \n",
       "\n",
       "  gender_source_value  gender_source_concept_id race_source_value  \\\n",
       "0                 1 |                      8532                 |   \n",
       "1                 1 |                      8532                 |   \n",
       "2                 1 |                      8532                 |   \n",
       "3                 1 |                      8532                 |   \n",
       "4                 1 |                      8532           Asian |   \n",
       "\n",
       "   race_source_concept_id     ethnicity_source_value  \\\n",
       "0                       0                          |   \n",
       "1                       0                          |   \n",
       "2                       0                          |   \n",
       "3                       0                          |   \n",
       "4                       0  Non-Hispanic/Non-Latino |   \n",
       "\n",
       "   ethnicity_source_concept_id  trace_id unit_id load_table_id  \n",
       "0                            0       NaN    shc_   shc_patient  \n",
       "1                            0       NaN    shc_   shc_patient  \n",
       "2                            0       NaN    shc_   shc_patient  \n",
       "3                            0       NaN    shc_   shc_patient  \n",
       "4                     38003564       NaN    shc_   shc_patient  "
      ]
     },
     "execution_count": 34,
     "metadata": {},
     "output_type": "execute_result"
    }
   ],
   "source": [
    "person_df.head()"
   ]
  },
  {
   "cell_type": "code",
   "execution_count": 35,
   "metadata": {},
   "outputs": [
    {
     "data": {
      "text/plain": [
       "2853"
      ]
     },
     "execution_count": 35,
     "metadata": {},
     "output_type": "execute_result"
    }
   ],
   "source": [
    "len(person_df)"
   ]
  },
  {
   "cell_type": "code",
   "execution_count": 36,
   "metadata": {},
   "outputs": [],
   "source": [
    "# Merge with person_df\n",
    "qc = pd.merge(df_clmbr, person_df[['person_id', 'birth_DATETIME']], left_on = 'patient_id', right_on = 'person_id', \n",
    "             how = 'left')"
   ]
  },
  {
   "cell_type": "code",
   "execution_count": 37,
   "metadata": {},
   "outputs": [
    {
     "data": {
      "text/plain": [
       "2853"
      ]
     },
     "execution_count": 37,
     "metadata": {},
     "output_type": "execute_result"
    }
   ],
   "source": [
    "len(qc)"
   ]
  },
  {
   "cell_type": "code",
   "execution_count": 38,
   "metadata": {},
   "outputs": [
    {
     "data": {
      "text/html": [
       "<div>\n",
       "<style scoped>\n",
       "    .dataframe tbody tr th:only-of-type {\n",
       "        vertical-align: middle;\n",
       "    }\n",
       "\n",
       "    .dataframe tbody tr th {\n",
       "        vertical-align: top;\n",
       "    }\n",
       "\n",
       "    .dataframe thead th {\n",
       "        text-align: right;\n",
       "    }\n",
       "</style>\n",
       "<table border=\"1\" class=\"dataframe\">\n",
       "  <thead>\n",
       "    <tr style=\"text-align: right;\">\n",
       "      <th></th>\n",
       "      <th>patient_id</th>\n",
       "      <th>date</th>\n",
       "      <th>label</th>\n",
       "      <th>person_id</th>\n",
       "      <th>birth_DATETIME</th>\n",
       "    </tr>\n",
       "  </thead>\n",
       "  <tbody>\n",
       "    <tr>\n",
       "      <th>0</th>\n",
       "      <td>32209409</td>\n",
       "      <td>2011-08-12</td>\n",
       "      <td>False</td>\n",
       "      <td>32209409</td>\n",
       "      <td>1982-10-28 00:00:00</td>\n",
       "    </tr>\n",
       "    <tr>\n",
       "      <th>1</th>\n",
       "      <td>30924418</td>\n",
       "      <td>2011-09-27</td>\n",
       "      <td>False</td>\n",
       "      <td>30924418</td>\n",
       "      <td>1954-12-23 00:00:00</td>\n",
       "    </tr>\n",
       "    <tr>\n",
       "      <th>2</th>\n",
       "      <td>31008811</td>\n",
       "      <td>2010-09-16</td>\n",
       "      <td>False</td>\n",
       "      <td>31008811</td>\n",
       "      <td>1995-01-31 00:00:00</td>\n",
       "    </tr>\n",
       "    <tr>\n",
       "      <th>3</th>\n",
       "      <td>30742058</td>\n",
       "      <td>2011-11-29</td>\n",
       "      <td>False</td>\n",
       "      <td>30742058</td>\n",
       "      <td>1968-05-01 00:00:00</td>\n",
       "    </tr>\n",
       "    <tr>\n",
       "      <th>4</th>\n",
       "      <td>32400899</td>\n",
       "      <td>2012-08-06</td>\n",
       "      <td>False</td>\n",
       "      <td>32400899</td>\n",
       "      <td>1948-01-11 00:00:00</td>\n",
       "    </tr>\n",
       "  </tbody>\n",
       "</table>\n",
       "</div>"
      ],
      "text/plain": [
       "   patient_id        date  label  person_id       birth_DATETIME\n",
       "0    32209409  2011-08-12  False   32209409  1982-10-28 00:00:00\n",
       "1    30924418  2011-09-27  False   30924418  1954-12-23 00:00:00\n",
       "2    31008811  2010-09-16  False   31008811  1995-01-31 00:00:00\n",
       "3    30742058  2011-11-29  False   30742058  1968-05-01 00:00:00\n",
       "4    32400899  2012-08-06  False   32400899  1948-01-11 00:00:00"
      ]
     },
     "execution_count": 38,
     "metadata": {},
     "output_type": "execute_result"
    }
   ],
   "source": [
    "qc.head()"
   ]
  },
  {
   "cell_type": "code",
   "execution_count": 39,
   "metadata": {},
   "outputs": [
    {
     "data": {
      "text/plain": [
       "patient_id         int64\n",
       "date              object\n",
       "label               bool\n",
       "person_id          int64\n",
       "birth_DATETIME    object\n",
       "dtype: object"
      ]
     },
     "execution_count": 39,
     "metadata": {},
     "output_type": "execute_result"
    }
   ],
   "source": [
    "qc.dtypes"
   ]
  },
  {
   "cell_type": "code",
   "execution_count": 40,
   "metadata": {},
   "outputs": [],
   "source": [
    "qc.date = pd.to_datetime(qc.date)\n",
    "qc.birth_DATETIME = pd.to_datetime(qc.birth_DATETIME)"
   ]
  },
  {
   "cell_type": "code",
   "execution_count": 41,
   "metadata": {},
   "outputs": [],
   "source": [
    "qc['start_date_birth_dif'] = (qc.date - qc.birth_DATETIME).dt.days"
   ]
  },
  {
   "cell_type": "code",
   "execution_count": 42,
   "metadata": {},
   "outputs": [
    {
     "data": {
      "text/html": [
       "<div>\n",
       "<style scoped>\n",
       "    .dataframe tbody tr th:only-of-type {\n",
       "        vertical-align: middle;\n",
       "    }\n",
       "\n",
       "    .dataframe tbody tr th {\n",
       "        vertical-align: top;\n",
       "    }\n",
       "\n",
       "    .dataframe thead th {\n",
       "        text-align: right;\n",
       "    }\n",
       "</style>\n",
       "<table border=\"1\" class=\"dataframe\">\n",
       "  <thead>\n",
       "    <tr style=\"text-align: right;\">\n",
       "      <th></th>\n",
       "      <th>patient_id</th>\n",
       "      <th>date</th>\n",
       "      <th>label</th>\n",
       "      <th>person_id</th>\n",
       "      <th>birth_DATETIME</th>\n",
       "      <th>start_date_birth_dif</th>\n",
       "    </tr>\n",
       "  </thead>\n",
       "  <tbody>\n",
       "    <tr>\n",
       "      <th>0</th>\n",
       "      <td>32209409</td>\n",
       "      <td>2011-08-12</td>\n",
       "      <td>False</td>\n",
       "      <td>32209409</td>\n",
       "      <td>1982-10-28</td>\n",
       "      <td>10515</td>\n",
       "    </tr>\n",
       "    <tr>\n",
       "      <th>1</th>\n",
       "      <td>30924418</td>\n",
       "      <td>2011-09-27</td>\n",
       "      <td>False</td>\n",
       "      <td>30924418</td>\n",
       "      <td>1954-12-23</td>\n",
       "      <td>20732</td>\n",
       "    </tr>\n",
       "    <tr>\n",
       "      <th>2</th>\n",
       "      <td>31008811</td>\n",
       "      <td>2010-09-16</td>\n",
       "      <td>False</td>\n",
       "      <td>31008811</td>\n",
       "      <td>1995-01-31</td>\n",
       "      <td>5707</td>\n",
       "    </tr>\n",
       "    <tr>\n",
       "      <th>3</th>\n",
       "      <td>30742058</td>\n",
       "      <td>2011-11-29</td>\n",
       "      <td>False</td>\n",
       "      <td>30742058</td>\n",
       "      <td>1968-05-01</td>\n",
       "      <td>15917</td>\n",
       "    </tr>\n",
       "    <tr>\n",
       "      <th>4</th>\n",
       "      <td>32400899</td>\n",
       "      <td>2012-08-06</td>\n",
       "      <td>False</td>\n",
       "      <td>32400899</td>\n",
       "      <td>1948-01-11</td>\n",
       "      <td>23584</td>\n",
       "    </tr>\n",
       "  </tbody>\n",
       "</table>\n",
       "</div>"
      ],
      "text/plain": [
       "   patient_id       date  label  person_id birth_DATETIME  \\\n",
       "0    32209409 2011-08-12  False   32209409     1982-10-28   \n",
       "1    30924418 2011-09-27  False   30924418     1954-12-23   \n",
       "2    31008811 2010-09-16  False   31008811     1995-01-31   \n",
       "3    30742058 2011-11-29  False   30742058     1968-05-01   \n",
       "4    32400899 2012-08-06  False   32400899     1948-01-11   \n",
       "\n",
       "   start_date_birth_dif  \n",
       "0                 10515  \n",
       "1                 20732  \n",
       "2                  5707  \n",
       "3                 15917  \n",
       "4                 23584  "
      ]
     },
     "execution_count": 42,
     "metadata": {},
     "output_type": "execute_result"
    }
   ],
   "source": [
    "qc.head()"
   ]
  },
  {
   "cell_type": "code",
   "execution_count": 43,
   "metadata": {},
   "outputs": [
    {
     "data": {
      "text/plain": [
       "count     2853.000000\n",
       "mean     16649.135296\n",
       "std       6579.567667\n",
       "min        748.000000\n",
       "25%      11712.000000\n",
       "50%      16863.000000\n",
       "75%      21470.000000\n",
       "max      32464.000000\n",
       "Name: start_date_birth_dif, dtype: float64"
      ]
     },
     "execution_count": 43,
     "metadata": {},
     "output_type": "execute_result"
    }
   ],
   "source": [
    "qc.start_date_birth_dif.describe()"
   ]
  },
  {
   "cell_type": "markdown",
   "metadata": {},
   "source": [
    "Confirmed no patient with birth post cohort start date"
   ]
  },
  {
   "cell_type": "markdown",
   "metadata": {},
   "source": [
    "### 6. Split into train test set"
   ]
  },
  {
   "cell_type": "code",
   "execution_count": 78,
   "metadata": {},
   "outputs": [],
   "source": [
    "# Need to split to give Ethan test set of patients to exclude when re-training CLMBR"
   ]
  },
  {
   "cell_type": "code",
   "execution_count": 107,
   "metadata": {},
   "outputs": [
    {
     "data": {
      "text/html": [
       "<div>\n",
       "<style scoped>\n",
       "    .dataframe tbody tr th:only-of-type {\n",
       "        vertical-align: middle;\n",
       "    }\n",
       "\n",
       "    .dataframe tbody tr th {\n",
       "        vertical-align: top;\n",
       "    }\n",
       "\n",
       "    .dataframe thead th {\n",
       "        text-align: right;\n",
       "    }\n",
       "</style>\n",
       "<table border=\"1\" class=\"dataframe\">\n",
       "  <thead>\n",
       "    <tr style=\"text-align: right;\">\n",
       "      <th></th>\n",
       "      <th>patient_id</th>\n",
       "      <th>date</th>\n",
       "      <th>label</th>\n",
       "    </tr>\n",
       "  </thead>\n",
       "  <tbody>\n",
       "    <tr>\n",
       "      <th>0</th>\n",
       "      <td>32209409</td>\n",
       "      <td>2011-08-12</td>\n",
       "      <td>False</td>\n",
       "    </tr>\n",
       "    <tr>\n",
       "      <th>1</th>\n",
       "      <td>30924418</td>\n",
       "      <td>2011-09-27</td>\n",
       "      <td>False</td>\n",
       "    </tr>\n",
       "    <tr>\n",
       "      <th>2</th>\n",
       "      <td>31008811</td>\n",
       "      <td>2010-09-16</td>\n",
       "      <td>True</td>\n",
       "    </tr>\n",
       "    <tr>\n",
       "      <th>3</th>\n",
       "      <td>30742058</td>\n",
       "      <td>2011-11-29</td>\n",
       "      <td>False</td>\n",
       "    </tr>\n",
       "    <tr>\n",
       "      <th>4</th>\n",
       "      <td>32400899</td>\n",
       "      <td>2012-08-06</td>\n",
       "      <td>False</td>\n",
       "    </tr>\n",
       "  </tbody>\n",
       "</table>\n",
       "</div>"
      ],
      "text/plain": [
       "   patient_id        date  label\n",
       "0    32209409  2011-08-12  False\n",
       "1    30924418  2011-09-27  False\n",
       "2    31008811  2010-09-16   True\n",
       "3    30742058  2011-11-29  False\n",
       "4    32400899  2012-08-06  False"
      ]
     },
     "execution_count": 107,
     "metadata": {},
     "output_type": "execute_result"
    }
   ],
   "source": [
    "df_clmbr.head()"
   ]
  },
  {
   "cell_type": "code",
   "execution_count": 108,
   "metadata": {},
   "outputs": [],
   "source": [
    "X = df_clmbr[['patient_id', 'date']]\n",
    "y = df_clmbr[['label']]"
   ]
  },
  {
   "cell_type": "code",
   "execution_count": 109,
   "metadata": {},
   "outputs": [],
   "source": [
    "X_train, X_test, y_train, y_test = train_test_split(X, y, stratify = y, train_size = 0.8)"
   ]
  },
  {
   "cell_type": "code",
   "execution_count": 110,
   "metadata": {},
   "outputs": [
    {
     "data": {
      "text/plain": [
       "2282"
      ]
     },
     "execution_count": 110,
     "metadata": {},
     "output_type": "execute_result"
    }
   ],
   "source": [
    "len(X_train)"
   ]
  },
  {
   "cell_type": "code",
   "execution_count": 112,
   "metadata": {},
   "outputs": [
    {
     "data": {
      "text/plain": [
       "571"
      ]
     },
     "execution_count": 112,
     "metadata": {},
     "output_type": "execute_result"
    }
   ],
   "source": [
    "len(X_test)"
   ]
  },
  {
   "cell_type": "code",
   "execution_count": 45,
   "metadata": {},
   "outputs": [],
   "source": [
    "# Import train test split\n",
    "test_split = pd.read_csv('/home/kbechler/test_set.csv')"
   ]
  },
  {
   "cell_type": "markdown",
   "metadata": {},
   "source": [
    "### 7. Export clmbr_df to csv "
   ]
  },
  {
   "cell_type": "code",
   "execution_count": 46,
   "metadata": {},
   "outputs": [
    {
     "data": {
      "text/plain": [
       "'/home/kbechler/notebooks'"
      ]
     },
     "execution_count": 46,
     "metadata": {},
     "output_type": "execute_result"
    }
   ],
   "source": [
    "os.getcwd()"
   ]
  },
  {
   "cell_type": "code",
   "execution_count": 47,
   "metadata": {},
   "outputs": [],
   "source": [
    "# Write to CSV\n",
    "df_clmbr.to_csv('/home/kbechler/df_clmbr_2022.csv', index = False)"
   ]
  },
  {
   "cell_type": "code",
   "execution_count": 48,
   "metadata": {},
   "outputs": [],
   "source": [
    "# Write patients to exclude to CSV\n",
    "# X_test.to_csv('/home/kbechler/test_set.csv', index = False)"
   ]
  }
 ],
 "metadata": {
  "kernelspec": {
   "display_name": "Python 3",
   "language": "python",
   "name": "python3"
  },
  "language_info": {
   "codemirror_mode": {
    "name": "ipython",
    "version": 3
   },
   "file_extension": ".py",
   "mimetype": "text/x-python",
   "name": "python",
   "nbconvert_exporter": "python",
   "pygments_lexer": "ipython3",
   "version": "3.9.4"
  }
 },
 "nbformat": 4,
 "nbformat_minor": 4
}
