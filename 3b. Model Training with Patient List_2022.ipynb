{
 "cells": [
  {
   "cell_type": "markdown",
   "id": "6c8b0491",
   "metadata": {},
   "source": [
    "# Model Training w/ Patient List\n",
    "\n",
    "In this notebook, we'll demonstrate how to generate CLMBR features given a list of patients and labels using a pre-trained CLMBR model, and train a simple classifier on top of a CLMBR-featurized dataset. The example dataset used here is a STARR OMOP dataset."
   ]
  },
  {
   "cell_type": "code",
   "execution_count": 1,
   "id": "5a971702",
   "metadata": {},
   "outputs": [],
   "source": [
    "import torch"
   ]
  },
  {
   "cell_type": "code",
   "execution_count": 2,
   "id": "7d380aa8",
   "metadata": {},
   "outputs": [],
   "source": [
    "import os\n",
    "import json\n",
    "import ehr_ml.timeline\n",
    "import ehr_ml.ontology\n",
    "import ehr_ml.index\n",
    "import ehr_ml.labeler\n",
    "import ehr_ml.clmbr\n",
    "import pandas as pd\n",
    "\n",
    "from path_utils import load_extract_paths, update_extract_paths, load_dataset_paths, update_dataset_paths\n",
    "\n",
    "MACHINE = 'nero'\n",
    "DATASET = 'starr_omop_deid'\n",
    "VERSION = '2021_12_13'\n",
    "#paths = load_dataset_paths(MACHINE, DATASET, VERSION)\n",
    "EHR_ML_EXTRACT_DIR = '/home/kbechler/dataset'\n",
    "#paths.get('extract_dir', None)\n",
    "CLMBR_INFO_DIR = \"/invalid\" \n",
    "#paths.get('info_dir', None)\n",
    "MODEL_DIR = '/home/kbechler/model2'\n",
    "#paths.get('model_dir', None)\n",
    "#EXAMPLE_CSV = paths.get('example_csv', None)\n",
    "\n",
    "# make any updates to the paths dictionary, and update the persistent config file with:\n",
    "# update_dataset_paths(MACHINE, DATASET, VERSION, paths)"
   ]
  },
  {
   "cell_type": "code",
   "execution_count": 3,
   "id": "c983a04d",
   "metadata": {},
   "outputs": [
    {
     "name": "stdout",
     "output_type": "stream",
     "text": [
      "/home/kbechler/dataset\n"
     ]
    }
   ],
   "source": [
    "print(EHR_ML_EXTRACT_DIR)"
   ]
  },
  {
   "cell_type": "code",
   "execution_count": 4,
   "id": "f3d09c5f",
   "metadata": {},
   "outputs": [
    {
     "name": "stdout",
     "output_type": "stream",
     "text": [
      "/home/kbechler/model2\n"
     ]
    }
   ],
   "source": [
    "print(MODEL_DIR)"
   ]
  },
  {
   "cell_type": "markdown",
   "id": "8e332560",
   "metadata": {},
   "source": [
    "### Featurizing from a list of patients\n",
    "In this use case, we assume that the user has prepared a list of patients, day offsets, and labels for use with training the model. Such a list can come from a query to BigQuery or similar service. We'll load in an example CSV file to demonstrate the minimum spec required."
   ]
  },
  {
   "cell_type": "code",
   "execution_count": 5,
   "id": "9536f775",
   "metadata": {},
   "outputs": [
    {
     "data": {
      "text/plain": [
       "'/home/kbechler/piton_private'"
      ]
     },
     "execution_count": 5,
     "metadata": {},
     "output_type": "execute_result"
    }
   ],
   "source": [
    "os.getcwd()"
   ]
  },
  {
   "cell_type": "code",
   "execution_count": 6,
   "id": "b3061a6c",
   "metadata": {},
   "outputs": [],
   "source": [
    "# Replace with SLE dataframe of patient list\n",
    "dataframe = pd.read_csv('/home/kbechler/piton_private/df_clmbr_2022.csv')"
   ]
  },
  {
   "cell_type": "code",
   "execution_count": 7,
   "id": "8381008f",
   "metadata": {},
   "outputs": [
    {
     "data": {
      "text/html": [
       "<div>\n",
       "<style scoped>\n",
       "    .dataframe tbody tr th:only-of-type {\n",
       "        vertical-align: middle;\n",
       "    }\n",
       "\n",
       "    .dataframe tbody tr th {\n",
       "        vertical-align: top;\n",
       "    }\n",
       "\n",
       "    .dataframe thead th {\n",
       "        text-align: right;\n",
       "    }\n",
       "</style>\n",
       "<table border=\"1\" class=\"dataframe\">\n",
       "  <thead>\n",
       "    <tr style=\"text-align: right;\">\n",
       "      <th></th>\n",
       "      <th>patient_id</th>\n",
       "      <th>date</th>\n",
       "      <th>label</th>\n",
       "    </tr>\n",
       "  </thead>\n",
       "  <tbody>\n",
       "    <tr>\n",
       "      <th>0</th>\n",
       "      <td>32209409</td>\n",
       "      <td>2011-08-12</td>\n",
       "      <td>False</td>\n",
       "    </tr>\n",
       "    <tr>\n",
       "      <th>1</th>\n",
       "      <td>30924418</td>\n",
       "      <td>2011-09-27</td>\n",
       "      <td>False</td>\n",
       "    </tr>\n",
       "    <tr>\n",
       "      <th>2</th>\n",
       "      <td>31008811</td>\n",
       "      <td>2010-09-16</td>\n",
       "      <td>False</td>\n",
       "    </tr>\n",
       "    <tr>\n",
       "      <th>3</th>\n",
       "      <td>30742058</td>\n",
       "      <td>2011-11-29</td>\n",
       "      <td>False</td>\n",
       "    </tr>\n",
       "    <tr>\n",
       "      <th>4</th>\n",
       "      <td>32400899</td>\n",
       "      <td>2012-08-06</td>\n",
       "      <td>False</td>\n",
       "    </tr>\n",
       "  </tbody>\n",
       "</table>\n",
       "</div>"
      ],
      "text/plain": [
       "   patient_id        date  label\n",
       "0    32209409  2011-08-12  False\n",
       "1    30924418  2011-09-27  False\n",
       "2    31008811  2010-09-16  False\n",
       "3    30742058  2011-11-29  False\n",
       "4    32400899  2012-08-06  False"
      ]
     },
     "execution_count": 7,
     "metadata": {},
     "output_type": "execute_result"
    }
   ],
   "source": [
    "dataframe.head()"
   ]
  },
  {
   "cell_type": "code",
   "execution_count": 8,
   "id": "37acabba",
   "metadata": {},
   "outputs": [],
   "source": [
    "# Remove patients less than 14 years old\n",
    "more_14 = pd.read_csv('/home/kbechler/piton_private/patient_df_less_14.csv')"
   ]
  },
  {
   "cell_type": "code",
   "execution_count": 9,
   "id": "0cdec90d",
   "metadata": {},
   "outputs": [],
   "source": [
    "patient_14 = list(more_14.subject_id)"
   ]
  },
  {
   "cell_type": "code",
   "execution_count": 10,
   "id": "501c6893",
   "metadata": {},
   "outputs": [],
   "source": [
    "dataframe = dataframe[dataframe.patient_id.isin(patient_14)]"
   ]
  },
  {
   "cell_type": "code",
   "execution_count": 11,
   "id": "ca9f518f",
   "metadata": {},
   "outputs": [
    {
     "data": {
      "text/plain": [
       "2608"
      ]
     },
     "execution_count": 11,
     "metadata": {},
     "output_type": "execute_result"
    }
   ],
   "source": [
    "sum(dataframe.label == False)"
   ]
  },
  {
   "cell_type": "code",
   "execution_count": 12,
   "id": "8b71425d",
   "metadata": {},
   "outputs": [
    {
     "data": {
      "text/plain": [
       "155"
      ]
     },
     "execution_count": 12,
     "metadata": {},
     "output_type": "execute_result"
    }
   ],
   "source": [
    "sum(dataframe.label == True)"
   ]
  },
  {
   "cell_type": "code",
   "execution_count": 13,
   "id": "73a7d9e0",
   "metadata": {},
   "outputs": [
    {
     "name": "stdout",
     "output_type": "stream",
     "text": [
      "2763\n"
     ]
    }
   ],
   "source": [
    "print(len(dataframe))"
   ]
  },
  {
   "cell_type": "code",
   "execution_count": 14,
   "id": "13764929",
   "metadata": {},
   "outputs": [],
   "source": [
    "# Remove held out test set\n",
    "# Import held out test set to remove patients\n",
    "heldout_test_set = pd.read_csv('/home/kbechler/test_set.csv')"
   ]
  },
  {
   "cell_type": "code",
   "execution_count": 18,
   "id": "98d1ee0d",
   "metadata": {},
   "outputs": [],
   "source": [
    "test_patients = list(heldout_test_set.patient_id)"
   ]
  },
  {
   "cell_type": "code",
   "execution_count": 20,
   "id": "b1ff8740",
   "metadata": {},
   "outputs": [],
   "source": [
    "dataframe_train = dataframe[~dataframe.patient_id.isin(test_patients)]"
   ]
  },
  {
   "cell_type": "code",
   "execution_count": 21,
   "id": "12912a89",
   "metadata": {},
   "outputs": [
    {
     "name": "stdout",
     "output_type": "stream",
     "text": [
      "2203\n"
     ]
    }
   ],
   "source": [
    "print(len(dataframe_train))"
   ]
  },
  {
   "cell_type": "code",
   "execution_count": 22,
   "id": "535b143d",
   "metadata": {},
   "outputs": [],
   "source": [
    "dataframe_test = dataframe[dataframe.patient_id.isin(test_patients)]"
   ]
  },
  {
   "cell_type": "code",
   "execution_count": 23,
   "id": "6af72104",
   "metadata": {},
   "outputs": [
    {
     "name": "stdout",
     "output_type": "stream",
     "text": [
      "560\n"
     ]
    }
   ],
   "source": [
    "print(len(dataframe_test))"
   ]
  },
  {
   "cell_type": "markdown",
   "id": "36f1602e",
   "metadata": {},
   "source": [
    "We note that if the data was the direct result of a BigQuery query, the patient IDs here don't exactly correspond to the patient IDs used by the `ehr_ml` Timeline object. Furthermore, we need to convert the date strings to date indices to index the last date we should use to featurize each patient. We'll do this preprocessing below using `ehr_ml.clmbr.convert_patient_data`."
   ]
  },
  {
   "cell_type": "code",
   "execution_count": 24,
   "id": "d05da1d1",
   "metadata": {},
   "outputs": [],
   "source": [
    "ehr_ml_patient_ids, day_indices = ehr_ml.clmbr.convert_patient_data(EHR_ML_EXTRACT_DIR, \n",
    "                                                                    dataframe_train['patient_id'], dataframe_train['date'])"
   ]
  },
  {
   "cell_type": "markdown",
   "id": "93f7ce9e",
   "metadata": {},
   "source": [
    "With the correct patient IDs and day indices in hand, we can now generate patient features using our pre-trained model. This is done in two steps:\n",
    "1. Load in the pre-trained model with `ehr_ml.clmbr.CLMBRFeaturizer.from_pretrained`\n",
    "2. Featurize with the `featurize_patients` method (**NOTE**: this method expects the _converted_ patient IDs and day indices as arguments!)"
   ]
  },
  {
   "cell_type": "code",
   "execution_count": 25,
   "id": "65f4fc61",
   "metadata": {},
   "outputs": [
    {
     "name": "stderr",
     "output_type": "stream",
     "text": [
      "Computing patient representations: : 36it [00:01, 23.46it/s]                      "
     ]
    }
   ],
   "source": [
    "import numpy as np\n",
    "ehr_ml_patient_ids = np.array(ehr_ml_patient_ids)\n",
    "day_indices = np.array(day_indices)\n",
    "labels = dataframe_train['label'].to_numpy()\n",
    "clmbr_model = ehr_ml.clmbr.CLMBR.from_pretrained(MODEL_DIR)\n",
    "features = clmbr_model.featurize_patients(EHR_ML_EXTRACT_DIR, ehr_ml_patient_ids, day_indices)"
   ]
  },
  {
   "cell_type": "markdown",
   "id": "b36f78c9",
   "metadata": {},
   "source": [
    "The tensors of interest for training our machine learning model are `features` and `labels`, which define our patient feature-matrix and our task-specific labels respectively."
   ]
  },
  {
   "cell_type": "code",
   "execution_count": 26,
   "id": "78819f44",
   "metadata": {},
   "outputs": [
    {
     "data": {
      "text/plain": [
       "((2203, 800), (2203,))"
      ]
     },
     "execution_count": 26,
     "metadata": {},
     "output_type": "execute_result"
    }
   ],
   "source": [
    "features.shape, labels.shape"
   ]
  },
  {
   "cell_type": "markdown",
   "id": "efd46a5a",
   "metadata": {},
   "source": [
    "### Training a logistic regression model\n",
    "Next, we'll train a logistic regression model which can perform predictions based off our CLMBR representations. We'll first build a simple dataset out of our features and labels, and then define the model. We'll define a simple train / test split so we can measure the performance of our model."
   ]
  },
  {
   "cell_type": "code",
   "execution_count": 27,
   "id": "28c9f71c",
   "metadata": {},
   "outputs": [],
   "source": [
    "from sklearn.metrics import roc_auc_score"
   ]
  },
  {
   "cell_type": "code",
   "execution_count": 28,
   "id": "8216236a",
   "metadata": {},
   "outputs": [
    {
     "name": "stderr",
     "output_type": "stream",
     "text": [
      "Computing patient representations: : 37it [00:01, 18.91it/s]\n",
      "/home/kbechler/.conda/envs/env_name/lib/python3.9/site-packages/sklearn/linear_model/_logistic.py:763: ConvergenceWarning: lbfgs failed to converge (status=1):\n",
      "STOP: TOTAL NO. of ITERATIONS REACHED LIMIT.\n",
      "\n",
      "Increase the number of iterations (max_iter) or scale the data as shown in:\n",
      "    https://scikit-learn.org/stable/modules/preprocessing.html\n",
      "Please also refer to the documentation for alternative solver options:\n",
      "    https://scikit-learn.org/stable/modules/linear_model.html#logistic-regression\n",
      "  n_iter_i = _check_optimize_result(\n",
      "/home/kbechler/.conda/envs/env_name/lib/python3.9/site-packages/sklearn/linear_model/_logistic.py:763: ConvergenceWarning: lbfgs failed to converge (status=1):\n",
      "STOP: TOTAL NO. of ITERATIONS REACHED LIMIT.\n",
      "\n",
      "Increase the number of iterations (max_iter) or scale the data as shown in:\n",
      "    https://scikit-learn.org/stable/modules/preprocessing.html\n",
      "Please also refer to the documentation for alternative solver options:\n",
      "    https://scikit-learn.org/stable/modules/linear_model.html#logistic-regression\n",
      "  n_iter_i = _check_optimize_result(\n",
      "/home/kbechler/.conda/envs/env_name/lib/python3.9/site-packages/sklearn/linear_model/_logistic.py:763: ConvergenceWarning: lbfgs failed to converge (status=1):\n",
      "STOP: TOTAL NO. of ITERATIONS REACHED LIMIT.\n",
      "\n",
      "Increase the number of iterations (max_iter) or scale the data as shown in:\n",
      "    https://scikit-learn.org/stable/modules/preprocessing.html\n",
      "Please also refer to the documentation for alternative solver options:\n",
      "    https://scikit-learn.org/stable/modules/linear_model.html#logistic-regression\n",
      "  n_iter_i = _check_optimize_result(\n",
      "/home/kbechler/.conda/envs/env_name/lib/python3.9/site-packages/sklearn/linear_model/_logistic.py:763: ConvergenceWarning: lbfgs failed to converge (status=1):\n",
      "STOP: TOTAL NO. of ITERATIONS REACHED LIMIT.\n",
      "\n",
      "Increase the number of iterations (max_iter) or scale the data as shown in:\n",
      "    https://scikit-learn.org/stable/modules/preprocessing.html\n",
      "Please also refer to the documentation for alternative solver options:\n",
      "    https://scikit-learn.org/stable/modules/linear_model.html#logistic-regression\n",
      "  n_iter_i = _check_optimize_result(\n",
      "/home/kbechler/.conda/envs/env_name/lib/python3.9/site-packages/sklearn/linear_model/_logistic.py:763: ConvergenceWarning: lbfgs failed to converge (status=1):\n",
      "STOP: TOTAL NO. of ITERATIONS REACHED LIMIT.\n",
      "\n",
      "Increase the number of iterations (max_iter) or scale the data as shown in:\n",
      "    https://scikit-learn.org/stable/modules/preprocessing.html\n",
      "Please also refer to the documentation for alternative solver options:\n",
      "    https://scikit-learn.org/stable/modules/linear_model.html#logistic-regression\n",
      "  n_iter_i = _check_optimize_result(\n",
      "/home/kbechler/.conda/envs/env_name/lib/python3.9/site-packages/sklearn/linear_model/_logistic.py:763: ConvergenceWarning: lbfgs failed to converge (status=1):\n",
      "STOP: TOTAL NO. of ITERATIONS REACHED LIMIT.\n",
      "\n",
      "Increase the number of iterations (max_iter) or scale the data as shown in:\n",
      "    https://scikit-learn.org/stable/modules/preprocessing.html\n",
      "Please also refer to the documentation for alternative solver options:\n",
      "    https://scikit-learn.org/stable/modules/linear_model.html#logistic-regression\n",
      "  n_iter_i = _check_optimize_result(\n",
      "/home/kbechler/.conda/envs/env_name/lib/python3.9/site-packages/sklearn/linear_model/_logistic.py:763: ConvergenceWarning: lbfgs failed to converge (status=1):\n",
      "STOP: TOTAL NO. of ITERATIONS REACHED LIMIT.\n",
      "\n",
      "Increase the number of iterations (max_iter) or scale the data as shown in:\n",
      "    https://scikit-learn.org/stable/modules/preprocessing.html\n",
      "Please also refer to the documentation for alternative solver options:\n",
      "    https://scikit-learn.org/stable/modules/linear_model.html#logistic-regression\n",
      "  n_iter_i = _check_optimize_result(\n",
      "/home/kbechler/.conda/envs/env_name/lib/python3.9/site-packages/sklearn/linear_model/_logistic.py:763: ConvergenceWarning: lbfgs failed to converge (status=1):\n",
      "STOP: TOTAL NO. of ITERATIONS REACHED LIMIT.\n",
      "\n",
      "Increase the number of iterations (max_iter) or scale the data as shown in:\n",
      "    https://scikit-learn.org/stable/modules/preprocessing.html\n",
      "Please also refer to the documentation for alternative solver options:\n",
      "    https://scikit-learn.org/stable/modules/linear_model.html#logistic-regression\n",
      "  n_iter_i = _check_optimize_result(\n",
      "/home/kbechler/.conda/envs/env_name/lib/python3.9/site-packages/sklearn/linear_model/_logistic.py:763: ConvergenceWarning: lbfgs failed to converge (status=1):\n",
      "STOP: TOTAL NO. of ITERATIONS REACHED LIMIT.\n",
      "\n",
      "Increase the number of iterations (max_iter) or scale the data as shown in:\n",
      "    https://scikit-learn.org/stable/modules/preprocessing.html\n",
      "Please also refer to the documentation for alternative solver options:\n",
      "    https://scikit-learn.org/stable/modules/linear_model.html#logistic-regression\n",
      "  n_iter_i = _check_optimize_result(\n",
      "/home/kbechler/.conda/envs/env_name/lib/python3.9/site-packages/sklearn/linear_model/_logistic.py:763: ConvergenceWarning: lbfgs failed to converge (status=1):\n",
      "STOP: TOTAL NO. of ITERATIONS REACHED LIMIT.\n",
      "\n",
      "Increase the number of iterations (max_iter) or scale the data as shown in:\n",
      "    https://scikit-learn.org/stable/modules/preprocessing.html\n",
      "Please also refer to the documentation for alternative solver options:\n",
      "    https://scikit-learn.org/stable/modules/linear_model.html#logistic-regression\n",
      "  n_iter_i = _check_optimize_result(\n",
      "/home/kbechler/.conda/envs/env_name/lib/python3.9/site-packages/sklearn/linear_model/_logistic.py:763: ConvergenceWarning: lbfgs failed to converge (status=1):\n",
      "STOP: TOTAL NO. of ITERATIONS REACHED LIMIT.\n",
      "\n",
      "Increase the number of iterations (max_iter) or scale the data as shown in:\n",
      "    https://scikit-learn.org/stable/modules/preprocessing.html\n",
      "Please also refer to the documentation for alternative solver options:\n",
      "    https://scikit-learn.org/stable/modules/linear_model.html#logistic-regression\n",
      "  n_iter_i = _check_optimize_result(\n",
      "/home/kbechler/.conda/envs/env_name/lib/python3.9/site-packages/sklearn/linear_model/_logistic.py:763: ConvergenceWarning: lbfgs failed to converge (status=1):\n",
      "STOP: TOTAL NO. of ITERATIONS REACHED LIMIT.\n",
      "\n",
      "Increase the number of iterations (max_iter) or scale the data as shown in:\n",
      "    https://scikit-learn.org/stable/modules/preprocessing.html\n",
      "Please also refer to the documentation for alternative solver options:\n",
      "    https://scikit-learn.org/stable/modules/linear_model.html#logistic-regression\n",
      "  n_iter_i = _check_optimize_result(\n",
      "/home/kbechler/.conda/envs/env_name/lib/python3.9/site-packages/sklearn/linear_model/_logistic.py:763: ConvergenceWarning: lbfgs failed to converge (status=1):\n",
      "STOP: TOTAL NO. of ITERATIONS REACHED LIMIT.\n",
      "\n",
      "Increase the number of iterations (max_iter) or scale the data as shown in:\n",
      "    https://scikit-learn.org/stable/modules/preprocessing.html\n",
      "Please also refer to the documentation for alternative solver options:\n",
      "    https://scikit-learn.org/stable/modules/linear_model.html#logistic-regression\n",
      "  n_iter_i = _check_optimize_result(\n",
      "/home/kbechler/.conda/envs/env_name/lib/python3.9/site-packages/sklearn/linear_model/_logistic.py:763: ConvergenceWarning: lbfgs failed to converge (status=1):\n",
      "STOP: TOTAL NO. of ITERATIONS REACHED LIMIT.\n",
      "\n",
      "Increase the number of iterations (max_iter) or scale the data as shown in:\n",
      "    https://scikit-learn.org/stable/modules/preprocessing.html\n",
      "Please also refer to the documentation for alternative solver options:\n",
      "    https://scikit-learn.org/stable/modules/linear_model.html#logistic-regression\n",
      "  n_iter_i = _check_optimize_result(\n",
      "/home/kbechler/.conda/envs/env_name/lib/python3.9/site-packages/sklearn/linear_model/_logistic.py:763: ConvergenceWarning: lbfgs failed to converge (status=1):\n",
      "STOP: TOTAL NO. of ITERATIONS REACHED LIMIT.\n",
      "\n",
      "Increase the number of iterations (max_iter) or scale the data as shown in:\n",
      "    https://scikit-learn.org/stable/modules/preprocessing.html\n",
      "Please also refer to the documentation for alternative solver options:\n",
      "    https://scikit-learn.org/stable/modules/linear_model.html#logistic-regression\n",
      "  n_iter_i = _check_optimize_result(\n",
      "/home/kbechler/.conda/envs/env_name/lib/python3.9/site-packages/sklearn/linear_model/_logistic.py:763: ConvergenceWarning: lbfgs failed to converge (status=1):\n",
      "STOP: TOTAL NO. of ITERATIONS REACHED LIMIT.\n",
      "\n",
      "Increase the number of iterations (max_iter) or scale the data as shown in:\n",
      "    https://scikit-learn.org/stable/modules/preprocessing.html\n",
      "Please also refer to the documentation for alternative solver options:\n",
      "    https://scikit-learn.org/stable/modules/linear_model.html#logistic-regression\n",
      "  n_iter_i = _check_optimize_result(\n"
     ]
    },
    {
     "name": "stderr",
     "output_type": "stream",
     "text": [
      "/home/kbechler/.conda/envs/env_name/lib/python3.9/site-packages/sklearn/linear_model/_logistic.py:763: ConvergenceWarning: lbfgs failed to converge (status=1):\n",
      "STOP: TOTAL NO. of ITERATIONS REACHED LIMIT.\n",
      "\n",
      "Increase the number of iterations (max_iter) or scale the data as shown in:\n",
      "    https://scikit-learn.org/stable/modules/preprocessing.html\n",
      "Please also refer to the documentation for alternative solver options:\n",
      "    https://scikit-learn.org/stable/modules/linear_model.html#logistic-regression\n",
      "  n_iter_i = _check_optimize_result(\n",
      "/home/kbechler/.conda/envs/env_name/lib/python3.9/site-packages/sklearn/linear_model/_logistic.py:763: ConvergenceWarning: lbfgs failed to converge (status=1):\n",
      "STOP: TOTAL NO. of ITERATIONS REACHED LIMIT.\n",
      "\n",
      "Increase the number of iterations (max_iter) or scale the data as shown in:\n",
      "    https://scikit-learn.org/stable/modules/preprocessing.html\n",
      "Please also refer to the documentation for alternative solver options:\n",
      "    https://scikit-learn.org/stable/modules/linear_model.html#logistic-regression\n",
      "  n_iter_i = _check_optimize_result(\n",
      "/home/kbechler/.conda/envs/env_name/lib/python3.9/site-packages/sklearn/linear_model/_logistic.py:763: ConvergenceWarning: lbfgs failed to converge (status=1):\n",
      "STOP: TOTAL NO. of ITERATIONS REACHED LIMIT.\n",
      "\n",
      "Increase the number of iterations (max_iter) or scale the data as shown in:\n",
      "    https://scikit-learn.org/stable/modules/preprocessing.html\n",
      "Please also refer to the documentation for alternative solver options:\n",
      "    https://scikit-learn.org/stable/modules/linear_model.html#logistic-regression\n",
      "  n_iter_i = _check_optimize_result(\n",
      "/home/kbechler/.conda/envs/env_name/lib/python3.9/site-packages/sklearn/linear_model/_logistic.py:763: ConvergenceWarning: lbfgs failed to converge (status=1):\n",
      "STOP: TOTAL NO. of ITERATIONS REACHED LIMIT.\n",
      "\n",
      "Increase the number of iterations (max_iter) or scale the data as shown in:\n",
      "    https://scikit-learn.org/stable/modules/preprocessing.html\n",
      "Please also refer to the documentation for alternative solver options:\n",
      "    https://scikit-learn.org/stable/modules/linear_model.html#logistic-regression\n",
      "  n_iter_i = _check_optimize_result(\n",
      "/home/kbechler/.conda/envs/env_name/lib/python3.9/site-packages/sklearn/linear_model/_logistic.py:763: ConvergenceWarning: lbfgs failed to converge (status=1):\n",
      "STOP: TOTAL NO. of ITERATIONS REACHED LIMIT.\n",
      "\n",
      "Increase the number of iterations (max_iter) or scale the data as shown in:\n",
      "    https://scikit-learn.org/stable/modules/preprocessing.html\n",
      "Please also refer to the documentation for alternative solver options:\n",
      "    https://scikit-learn.org/stable/modules/linear_model.html#logistic-regression\n",
      "  n_iter_i = _check_optimize_result(\n",
      "/home/kbechler/.conda/envs/env_name/lib/python3.9/site-packages/sklearn/linear_model/_logistic.py:763: ConvergenceWarning: lbfgs failed to converge (status=1):\n",
      "STOP: TOTAL NO. of ITERATIONS REACHED LIMIT.\n",
      "\n",
      "Increase the number of iterations (max_iter) or scale the data as shown in:\n",
      "    https://scikit-learn.org/stable/modules/preprocessing.html\n",
      "Please also refer to the documentation for alternative solver options:\n",
      "    https://scikit-learn.org/stable/modules/linear_model.html#logistic-regression\n",
      "  n_iter_i = _check_optimize_result(\n",
      "/home/kbechler/.conda/envs/env_name/lib/python3.9/site-packages/sklearn/linear_model/_logistic.py:763: ConvergenceWarning: lbfgs failed to converge (status=1):\n",
      "STOP: TOTAL NO. of ITERATIONS REACHED LIMIT.\n",
      "\n",
      "Increase the number of iterations (max_iter) or scale the data as shown in:\n",
      "    https://scikit-learn.org/stable/modules/preprocessing.html\n",
      "Please also refer to the documentation for alternative solver options:\n",
      "    https://scikit-learn.org/stable/modules/linear_model.html#logistic-regression\n",
      "  n_iter_i = _check_optimize_result(\n",
      "/home/kbechler/.conda/envs/env_name/lib/python3.9/site-packages/sklearn/linear_model/_logistic.py:763: ConvergenceWarning: lbfgs failed to converge (status=1):\n",
      "STOP: TOTAL NO. of ITERATIONS REACHED LIMIT.\n",
      "\n",
      "Increase the number of iterations (max_iter) or scale the data as shown in:\n",
      "    https://scikit-learn.org/stable/modules/preprocessing.html\n",
      "Please also refer to the documentation for alternative solver options:\n",
      "    https://scikit-learn.org/stable/modules/linear_model.html#logistic-regression\n",
      "  n_iter_i = _check_optimize_result(\n",
      "/home/kbechler/.conda/envs/env_name/lib/python3.9/site-packages/sklearn/linear_model/_logistic.py:763: ConvergenceWarning: lbfgs failed to converge (status=1):\n",
      "STOP: TOTAL NO. of ITERATIONS REACHED LIMIT.\n",
      "\n",
      "Increase the number of iterations (max_iter) or scale the data as shown in:\n",
      "    https://scikit-learn.org/stable/modules/preprocessing.html\n",
      "Please also refer to the documentation for alternative solver options:\n",
      "    https://scikit-learn.org/stable/modules/linear_model.html#logistic-regression\n",
      "  n_iter_i = _check_optimize_result(\n",
      "/home/kbechler/.conda/envs/env_name/lib/python3.9/site-packages/sklearn/linear_model/_logistic.py:763: ConvergenceWarning: lbfgs failed to converge (status=1):\n",
      "STOP: TOTAL NO. of ITERATIONS REACHED LIMIT.\n",
      "\n",
      "Increase the number of iterations (max_iter) or scale the data as shown in:\n",
      "    https://scikit-learn.org/stable/modules/preprocessing.html\n",
      "Please also refer to the documentation for alternative solver options:\n",
      "    https://scikit-learn.org/stable/modules/linear_model.html#logistic-regression\n",
      "  n_iter_i = _check_optimize_result(\n",
      "/home/kbechler/.conda/envs/env_name/lib/python3.9/site-packages/sklearn/linear_model/_logistic.py:763: ConvergenceWarning: lbfgs failed to converge (status=1):\n",
      "STOP: TOTAL NO. of ITERATIONS REACHED LIMIT.\n",
      "\n",
      "Increase the number of iterations (max_iter) or scale the data as shown in:\n",
      "    https://scikit-learn.org/stable/modules/preprocessing.html\n",
      "Please also refer to the documentation for alternative solver options:\n",
      "    https://scikit-learn.org/stable/modules/linear_model.html#logistic-regression\n",
      "  n_iter_i = _check_optimize_result(\n",
      "/home/kbechler/.conda/envs/env_name/lib/python3.9/site-packages/sklearn/linear_model/_logistic.py:763: ConvergenceWarning: lbfgs failed to converge (status=1):\n",
      "STOP: TOTAL NO. of ITERATIONS REACHED LIMIT.\n",
      "\n",
      "Increase the number of iterations (max_iter) or scale the data as shown in:\n",
      "    https://scikit-learn.org/stable/modules/preprocessing.html\n",
      "Please also refer to the documentation for alternative solver options:\n",
      "    https://scikit-learn.org/stable/modules/linear_model.html#logistic-regression\n",
      "  n_iter_i = _check_optimize_result(\n",
      "/home/kbechler/.conda/envs/env_name/lib/python3.9/site-packages/sklearn/linear_model/_logistic.py:763: ConvergenceWarning: lbfgs failed to converge (status=1):\n",
      "STOP: TOTAL NO. of ITERATIONS REACHED LIMIT.\n",
      "\n",
      "Increase the number of iterations (max_iter) or scale the data as shown in:\n",
      "    https://scikit-learn.org/stable/modules/preprocessing.html\n",
      "Please also refer to the documentation for alternative solver options:\n",
      "    https://scikit-learn.org/stable/modules/linear_model.html#logistic-regression\n",
      "  n_iter_i = _check_optimize_result(\n"
     ]
    }
   ],
   "source": [
    "# split patients into train / test cohorts, measure accuracy\n",
    "import numpy as np\n",
    "from sklearn.linear_model import LogisticRegressionCV\n",
    "from sklearn.model_selection import train_test_split\n",
    "from sklearn.metrics import f1_score\n",
    "from tqdm import tqdm\n",
    "\n",
    "BATCH_SIZE = 1024\n",
    "EPOCHS = 100\n",
    "EARLY_STOPPING_EPOCHS = 5\n",
    "seed = 10\n",
    "\n",
    "X_train, X_test, y_train, y_test = train_test_split(features, labels, train_size = 0.8, random_state = seed)\n",
    "\n",
    "model = LogisticRegressionCV(Cs = 10**(np.linspace(-8,8,20)), scoring = \"roc_auc\").fit(X_train, y_train)"
   ]
  },
  {
   "cell_type": "code",
   "execution_count": 29,
   "id": "101fbe82",
   "metadata": {},
   "outputs": [
    {
     "data": {
      "text/plain": [
       "0.8319592102408332"
      ]
     },
     "execution_count": 29,
     "metadata": {},
     "output_type": "execute_result"
    }
   ],
   "source": [
    "model.score(X_test, y_test)"
   ]
  },
  {
   "cell_type": "code",
   "execution_count": 30,
   "id": "461ad96f",
   "metadata": {},
   "outputs": [],
   "source": [
    "import sklearn"
   ]
  },
  {
   "cell_type": "code",
   "execution_count": 31,
   "id": "3cc45801",
   "metadata": {},
   "outputs": [],
   "source": [
    "y_predict = model.predict_log_proba(X_test)"
   ]
  },
  {
   "cell_type": "code",
   "execution_count": 32,
   "id": "85ed782a",
   "metadata": {},
   "outputs": [
    {
     "data": {
      "text/plain": [
       "0.8319592102408332"
      ]
     },
     "execution_count": 32,
     "metadata": {},
     "output_type": "execute_result"
    }
   ],
   "source": [
    "sklearn.metrics.roc_auc_score(y_test, y_predict[:,1])"
   ]
  },
  {
   "cell_type": "code",
   "execution_count": 33,
   "id": "3ce9c362",
   "metadata": {},
   "outputs": [],
   "source": [
    "import matplotlib.pyplot as plt"
   ]
  },
  {
   "cell_type": "code",
   "execution_count": 34,
   "id": "5acd21cb",
   "metadata": {},
   "outputs": [],
   "source": [
    "from sklearn import metrics"
   ]
  },
  {
   "cell_type": "code",
   "execution_count": 35,
   "id": "66a35790",
   "metadata": {},
   "outputs": [],
   "source": [
    "results = {}"
   ]
  },
  {
   "cell_type": "code",
   "execution_count": 36,
   "id": "06c01d9a",
   "metadata": {},
   "outputs": [],
   "source": [
    "metric = [\"accuracy\", \"balanced_accuracy\", \"roc_auc\", \"average_precision\", \"f1\", \"precision\", \"recall\"]\n",
    "def validation_results(clf, X_val, y_val, results):\n",
    "    y_pred = clf.predict(X_val)\n",
    "    y_score = clf.predict_proba(X_val)[:, 1]\n",
    "    \n",
    "    acc = metrics.accuracy_score(y_val, y_pred)\n",
    "    bal_acc = metrics.balanced_accuracy_score(y_val, y_pred)\n",
    "    roc_auc = metrics.roc_auc_score(y_val, y_score)\n",
    "    avg_prec = metrics.average_precision_score(y_val, y_score)\n",
    "    f1 = metrics.f1_score(y_val, y_pred)\n",
    "    precision = metrics.precision_score(y_val, y_pred)\n",
    "    recall = metrics.recall_score(y_val, y_pred)     \n",
    "    results['CLMBR'] = {\"accuracy\": acc,\n",
    "                     \"balanced_accuracy\": bal_acc,\n",
    "                     \"roc_auc\": roc_auc,\n",
    "                     \"average_precision\": avg_prec,\n",
    "                     \"f1\": f1,\n",
    "                     \"precision\": precision,\n",
    "                     \"recall\": recall}\n",
    "    \n",
    "    return results"
   ]
  },
  {
   "cell_type": "code",
   "execution_count": 37,
   "id": "ec8641c6",
   "metadata": {},
   "outputs": [],
   "source": [
    "# Plot roc pr curves\n",
    "def plot_roc_pr_curves(X, y, clf, fig_size=(10, 8)):\n",
    "    fig, ax = plt.subplots(1,1,figsize=fig_size)\n",
    "    roc_disp = metrics.plot_roc_curve(clf, X, y, ax=ax)\n",
    "    ax.set_xlabel(\"False Positive Rate\")\n",
    "    ax.set_ylabel(\"True Positive Rate\")\n",
    "    ax.set_title(\"Receiver Operating Characteristic (ROC) Curve\")\n",
    "    plt.savefig('/home/kbechler/piton_private/plots/model_val_roc.png')\n",
    "    plt.show()\n",
    "\n",
    "    # PR Curve and AP (average precision)\n",
    "    fig, ax = plt.subplots(1,1,figsize=fig_size)\n",
    "    pr_disp = metrics.plot_precision_recall_curve(clf, X, y, ax=ax)\n",
    "    ax.set_xlabel(\"Recall\")\n",
    "    ax.set_ylabel(\"Precision\")\n",
    "    ax.set_title(\"Precision-Recall (PR) Curve\")\n",
    "    plt.savefig('/home/kbechler/piton_private/plots/model_val_pr.png')\n",
    "    plt.show()\n"
   ]
  },
  {
   "cell_type": "code",
   "execution_count": 38,
   "id": "51bd233b",
   "metadata": {},
   "outputs": [],
   "source": [
    "results = validation_results(model, X_test, y_test, results)"
   ]
  },
  {
   "cell_type": "code",
   "execution_count": 39,
   "id": "ce90942f",
   "metadata": {},
   "outputs": [
    {
     "data": {
      "text/plain": [
       "{'CLMBR': {'accuracy': 0.9478458049886621,\n",
       "  'balanced_accuracy': 0.520340637882404,\n",
       "  'roc_auc': 0.8319592102408332,\n",
       "  'average_precision': 0.2991648684636044,\n",
       "  'f1': 0.08,\n",
       "  'precision': 0.3333333333333333,\n",
       "  'recall': 0.045454545454545456}}"
      ]
     },
     "execution_count": 39,
     "metadata": {},
     "output_type": "execute_result"
    }
   ],
   "source": [
    "results"
   ]
  },
  {
   "cell_type": "code",
   "execution_count": 40,
   "id": "17a938a1",
   "metadata": {},
   "outputs": [],
   "source": [
    "results_df = pd.DataFrame.from_dict(results, orient = 'index', columns = ['accuracy', 'balanced_accuracy', \n",
    "                                                                                   'roc_auc', 'average_precision', \n",
    "                                                                                   'f1', 'precision', 'recall'])"
   ]
  },
  {
   "cell_type": "code",
   "execution_count": 41,
   "id": "e2ae4203",
   "metadata": {},
   "outputs": [],
   "source": [
    "results_df.to_csv('/home/kbechler/piton_private/plots/results.csv')"
   ]
  },
  {
   "cell_type": "code",
   "execution_count": 88,
   "id": "f27729f4",
   "metadata": {},
   "outputs": [
    {
     "data": {
      "image/png": "[encoded data removed]",
      "text/plain": [
       "<Figure size 720x576 with 1 Axes>"
      ]
     },
     "metadata": {
      "needs_background": "light"
     },
     "output_type": "display_data"
    },
    {
     "data": {
      "image/png": "[encoded data removed]",
      "text/plain": [
       "<Figure size 720x576 with 1 Axes>"
      ]
     },
     "metadata": {
      "needs_background": "light"
     },
     "output_type": "display_data"
    }
   ],
   "source": [
    "plot_roc_pr_curves(X_test, y_test, model)\n",
    "#plt.savefig('/home/kbechler/piton_private/plots/model_val_auc.png')"
   ]
  },
  {
   "cell_type": "markdown",
   "id": "7ea0aaaa",
   "metadata": {},
   "source": [
    "### Using the trained model\n",
    "\n",
    "Next we'll show how we can use our simple linear classifier to perform predictions on patients in new extracts. To do so, we need to provide a list of patient IDs and day offsets from a dataset extract to featurize them. For our purposes, we'll re-use a small list we got from our labeller, but you can imagine that these patient IDs can come from some other source (e.g. a query to BigQuery; in that case, we would have to perform our conversion to `ehr_ml`-friendly patient IDs and day indices again)."
   ]
  },
  {
   "cell_type": "code",
   "execution_count": 29,
   "id": "18e44f7b",
   "metadata": {},
   "outputs": [],
   "source": [
    "ehr_ml_patient_ids, day_indices = ehr_ml.clmbr.convert_patient_data(EHR_ML_EXTRACT_DIR, \n",
    "                                                                    dataframe_test['patient_id'], \n",
    "                                                                    dataframe_test['date'])"
   ]
  },
  {
   "cell_type": "code",
   "execution_count": 30,
   "id": "12149cd5",
   "metadata": {},
   "outputs": [
    {
     "name": "stderr",
     "output_type": "stream",
     "text": [
      "Computing patient representations: : 10it [00:00, 11.68it/s]                    "
     ]
    }
   ],
   "source": [
    "import numpy as np\n",
    "ehr_ml_patient_ids = np.array(ehr_ml_patient_ids)\n",
    "day_indices = np.array(day_indices)\n",
    "labels = dataframe_test['label'].to_numpy()\n",
    "clmbr_model = ehr_ml.clmbr.CLMBR.from_pretrained(MODEL_DIR)\n",
    "features = clmbr_model.featurize_patients(EHR_ML_EXTRACT_DIR, ehr_ml_patient_ids, day_indices)"
   ]
  },
  {
   "cell_type": "code",
   "execution_count": 31,
   "id": "63408cec",
   "metadata": {},
   "outputs": [],
   "source": [
    "# SUBSET_SIZE = 1000\n",
    "\n",
    "# pid_subset = ehr_ml_patient_ids[:SUBSET_SIZE]\n",
    "# day_indices_subset = day_indices[:SUBSET_SIZE]"
   ]
  },
  {
   "cell_type": "code",
   "execution_count": 32,
   "id": "6e80c286",
   "metadata": {},
   "outputs": [
    {
     "data": {
      "text/plain": [
       "((560, 800), (560,))"
      ]
     },
     "execution_count": 32,
     "metadata": {},
     "output_type": "execute_result"
    }
   ],
   "source": [
    "features.shape, labels.shape"
   ]
  },
  {
   "cell_type": "markdown",
   "id": "58e4bceb",
   "metadata": {},
   "source": [
    "As before, we'll generate the features with `featurize_patients`. Note that while we use the same extract dir in this particular example, you will need to change out the extract dir to test on a different dataset."
   ]
  },
  {
   "cell_type": "code",
   "execution_count": 33,
   "id": "512bcc43",
   "metadata": {},
   "outputs": [],
   "source": [
    "# features = clmbr_model.featurize_patients(EHR_ML_EXTRACT_DIR, pid_subset, day_indices_subset)\n",
    "# features.shape"
   ]
  },
  {
   "cell_type": "code",
   "execution_count": 34,
   "id": "f16b7610",
   "metadata": {},
   "outputs": [],
   "source": [
    "predictions = model.predict(features)\n",
    "#predictions"
   ]
  },
  {
   "cell_type": "code",
   "execution_count": 35,
   "id": "b5bcfc77",
   "metadata": {},
   "outputs": [],
   "source": [
    "predictions_proba = model.predict_log_proba(features)"
   ]
  },
  {
   "cell_type": "code",
   "execution_count": 36,
   "id": "ef3131d2",
   "metadata": {},
   "outputs": [
    {
     "data": {
      "text/plain": [
       "0.7984014720257605"
      ]
     },
     "execution_count": 36,
     "metadata": {},
     "output_type": "execute_result"
    },
    {
     "name": "stderr",
     "output_type": "stream",
     "text": [
      "\r",
      "Computing patient representations: : 11it [00:19, 11.68it/s]"
     ]
    }
   ],
   "source": [
    "sklearn.metrics.roc_auc_score(labels, predictions_proba[:,1])"
   ]
  },
  {
   "cell_type": "code",
   "execution_count": 94,
   "id": "7dca70d4",
   "metadata": {},
   "outputs": [],
   "source": [
    "def test_model(clf, X_test, y_test, fig_size=(10,8)):\n",
    "    # clf: trained classifier (i.e. after using fit function)\n",
    "    y_pred = clf.predict(X_test)\n",
    "    y_pred_proba = clf.predict_proba(X_test)\n",
    "\n",
    "    # print out stats\n",
    "    accuracy = metrics.accuracy_score(y_test, y_pred)\n",
    "    print(\"Model accuracy: %.3f\\n\" % accuracy)\n",
    "\n",
    "    # precision, recall, and f1-score is usually reported for class 1 (in binary case)\n",
    "    # recall of positive class (1) = sensitivity\n",
    "    # recall of negative class (0) = specificity\n",
    "    # precision of positive class (1) = PPV\n",
    "    # precision of negative class (0) = NPV\n",
    "    print(metrics.classification_report(y_test,y_pred))\n",
    "\n",
    "    # confusion matrix\n",
    "    cm_disp = metrics.plot_confusion_matrix(clf, X_test, y_test)  \n",
    "    plt.savefig('/home/kbechler/piton_private/plots/model_test_cm.png')\n",
    "    plt.show()\n",
    "\n",
    "    # ROC Curve and AUC\n",
    "    auroc = metrics.roc_auc_score(y_test, y_pred_proba[:, 1])\n",
    "    fig_roc, ax_roc = plt.subplots(1,1,figsize=fig_size)\n",
    "    roc_disp = metrics.plot_roc_curve(clf, X_test, y_test, ax=ax_roc)\n",
    "    ax_roc.set_xlabel(\"False Positive Rate\")\n",
    "    ax_roc.set_ylabel(\"True Positive Rate\")\n",
    "    ax_roc.set_title(\"Receiver Operating Characteristic (ROC) Curve\")\n",
    "    plt.savefig('/home/kbechler/piton_private/plots/model_test_roc.png')\n",
    "    plt.show()\n",
    "\n",
    "    # PR Curve and AP (average precision)\n",
    "    fig, ax_pr = plt.subplots(1,1,figsize=fig_size)\n",
    "    pr_disp = metrics.plot_precision_recall_curve(clf, X_test, y_test, ax=ax_pr)\n",
    "    ax_pr.set_xlabel(\"Recall\")\n",
    "    ax_pr.set_ylabel(\"Precision\")\n",
    "    ax_pr.set_title(\"Precision-Recall (PR) Curve\")\n",
    "    plt.savefig('/home/kbechler/piton_private/plots/model_test_pr.png')\n",
    "    plt.show()"
   ]
  },
  {
   "cell_type": "code",
   "execution_count": 53,
   "id": "e6939a39",
   "metadata": {},
   "outputs": [
    {
     "data": {
      "text/plain": [
       "(560, 800)"
      ]
     },
     "execution_count": 53,
     "metadata": {},
     "output_type": "execute_result"
    }
   ],
   "source": [
    "features.shape"
   ]
  },
  {
   "cell_type": "code",
   "execution_count": 54,
   "id": "5f44d224",
   "metadata": {},
   "outputs": [
    {
     "data": {
      "text/plain": [
       "(560,)"
      ]
     },
     "execution_count": 54,
     "metadata": {},
     "output_type": "execute_result"
    }
   ],
   "source": [
    "labels.shape"
   ]
  },
  {
   "cell_type": "code",
   "execution_count": 71,
   "id": "c6d9966d",
   "metadata": {},
   "outputs": [
    {
     "data": {
      "text/plain": [
       "'/home/kbechler/piton_private'"
      ]
     },
     "execution_count": 71,
     "metadata": {},
     "output_type": "execute_result"
    }
   ],
   "source": [
    "os.getcwd()"
   ]
  },
  {
   "cell_type": "code",
   "execution_count": 95,
   "id": "d94d9e45",
   "metadata": {},
   "outputs": [
    {
     "name": "stdout",
     "output_type": "stream",
     "text": [
      "Model accuracy: 0.943\n",
      "\n",
      "              precision    recall  f1-score   support\n",
      "\n",
      "       False       0.95      1.00      0.97       527\n",
      "        True       0.60      0.09      0.16        33\n",
      "\n",
      "    accuracy                           0.94       560\n",
      "   macro avg       0.77      0.54      0.56       560\n",
      "weighted avg       0.93      0.94      0.92       560\n",
      "\n"
     ]
    },
    {
     "data": {
      "image/png": "[encoded data removed]",
      "text/plain": [
       "<Figure size 432x288 with 2 Axes>"
      ]
     },
     "metadata": {
      "needs_background": "light"
     },
     "output_type": "display_data"
    },
    {
     "data": {
      "image/png": "[encoded data removed]",
      "text/plain": [
       "<Figure size 720x576 with 1 Axes>"
      ]
     },
     "metadata": {
      "needs_background": "light"
     },
     "output_type": "display_data"
    },
    {
     "data": {
      "image/png": "[encoded data removed]",
      "text/plain": [
       "<Figure size 720x576 with 1 Axes>"
      ]
     },
     "metadata": {
      "needs_background": "light"
     },
     "output_type": "display_data"
    }
   ],
   "source": [
    "test_model(model, features, labels)"
   ]
  },
  {
   "cell_type": "code",
   "execution_count": 69,
   "id": "92e09307",
   "metadata": {},
   "outputs": [],
   "source": [
    "test_results = {}\n",
    "test_results = validation_results(model, features, labels, test_results)"
   ]
  },
  {
   "cell_type": "code",
   "execution_count": 70,
   "id": "416a3ea8",
   "metadata": {},
   "outputs": [
    {
     "data": {
      "text/plain": [
       "{'CLMBR': {'accuracy': 0.9428571428571428,\n",
       "  'balanced_accuracy': 0.5435570122477144,\n",
       "  'roc_auc': 0.7984014720257605,\n",
       "  'average_precision': 0.3031600339487732,\n",
       "  'f1': 0.15789473684210525,\n",
       "  'precision': 0.6,\n",
       "  'recall': 0.09090909090909091}}"
      ]
     },
     "execution_count": 70,
     "metadata": {},
     "output_type": "execute_result"
    }
   ],
   "source": [
    "test_results"
   ]
  },
  {
   "cell_type": "code",
   "execution_count": 76,
   "id": "1e72346e",
   "metadata": {},
   "outputs": [],
   "source": [
    "test_results_df = pd.DataFrame.from_dict(test_results, orient = 'index', columns = ['accuracy', 'balanced_accuracy', \n",
    "                                                                                   'roc_auc', 'average_precision', \n",
    "                                                                                   'f1', 'precision', 'recall'])"
   ]
  },
  {
   "cell_type": "code",
   "execution_count": 78,
   "id": "1ed19a15",
   "metadata": {},
   "outputs": [],
   "source": [
    "test_results_df.to_csv('/home/kbechler/piton_private/plots/test_results.csv')"
   ]
  },
  {
   "cell_type": "code",
   "execution_count": 107,
   "id": "96122e88",
   "metadata": {},
   "outputs": [],
   "source": [
    "# Plot both validation and test roc on same plot\n",
    "\n",
    "def plot_both(clf, X_val, y_val, X_test, y_test, fig_size=(10,8)):\n",
    "    # clf: trained classifier (i.e. after using fit function)\n",
    "    y_pred = clf.predict(X_val)\n",
    "    y_pred_proba = clf.predict_proba(X_val)\n",
    "\n",
    "\n",
    "    # ROC Curve and AUC\n",
    "    auroc = metrics.roc_auc_score(y_val, y_pred_proba[:, 1])\n",
    "    fig_roc, ax_roc = plt.subplots(1,1,figsize=fig_size)\n",
    "    roc_disp = metrics.plot_roc_curve(clf, X_val, y_val, ax=ax_roc, name = \"Internal Validation\")\n",
    "    ax_roc.set_xlabel(\"False Positive Rate\")\n",
    "    ax_roc.set_ylabel(\"True Positive Rate\")\n",
    "    ax_roc.set_title(\"Receiver Operating Characteristic (ROC) Curve\")\n",
    "    \n",
    "    y_pred_test = clf.predict(X_test)\n",
    "    y_pred_proba_test = clf.predict_proba(X_test)\n",
    "\n",
    "\n",
    "    auroc_test = metrics.roc_auc_score(y_test, y_pred_proba_test[:, 1])\n",
    "\n",
    "    roc_disp = metrics.plot_roc_curve(clf, X_test, y_test, ax=ax_roc, name = \"Internal Evaluation on Held-Out Test Set\")\n",
    "    plt.savefig('/home/kbechler/piton_private/plots/test_val_roc.png')\n",
    "    \n",
    "    plt.show()"
   ]
  },
  {
   "cell_type": "code",
   "execution_count": 108,
   "id": "1715c248",
   "metadata": {},
   "outputs": [
    {
     "data": {
      "image/png": "[encoded data removed]",
      "text/plain": [
       "<Figure size 720x576 with 1 Axes>"
      ]
     },
     "metadata": {
      "needs_background": "light"
     },
     "output_type": "display_data"
    }
   ],
   "source": [
    "plot_both(model, X_test, y_test, features, labels)\n"
   ]
  }
 ],
 "metadata": {
  "kernelspec": {
   "display_name": "Python 3",
   "language": "python",
   "name": "python3"
  },
  "language_info": {
   "codemirror_mode": {
    "name": "ipython",
    "version": 3
   },
   "file_extension": ".py",
   "mimetype": "text/x-python",
   "name": "python",
   "nbconvert_exporter": "python",
   "pygments_lexer": "ipython3",
   "version": "3.9.4"
  }
 },
 "nbformat": 4,
 "nbformat_minor": 5
}
