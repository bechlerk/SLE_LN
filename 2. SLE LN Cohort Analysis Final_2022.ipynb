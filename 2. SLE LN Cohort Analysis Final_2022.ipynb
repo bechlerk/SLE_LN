{
 "cells": [
  {
   "cell_type": "markdown",
   "metadata": {},
   "source": [
    "### 1. Import and Load Packages "
   ]
  },
  {
   "cell_type": "code",
   "execution_count": null,
   "metadata": {},
   "outputs": [],
   "source": [
    "# Load packages\n",
    "import pandas as pd\n",
    "import numpy as np\n",
    "from datetime import date\n",
    "import csv\n",
    "import re\n",
    "import datetime\n",
    "import os\n",
    "from sklearn.feature_selection import VarianceThreshold\n",
    "from pandas import read_csv\n",
    "from datetime import date\n",
    "import kaplanmeier as km\n",
    "\n",
    "import datetime\n",
    "from sklearn.decomposition import PCA\n",
    "import pylab as pl\n",
    "from itertools import cycle\n",
    "import matplotlib.pyplot as plt\n",
    "from sklearn.preprocessing import StandardScaler\n",
    "import seaborn as sns\n",
    "%matplotlib inline\n",
    "from qqman import qqman\n",
    "import pandas as pd\n",
    "from pandas_plink import read_plink\n",
    "from scipy.stats import ttest_ind\n",
    "import math\n",
    "import os\n",
    "from lifelines import KaplanMeierFitter\n",
    "from pandas import DataFrame\n",
    "import pandas as pd\n",
    "import seaborn as sns\n",
    "sns.set(color_codes=True)\n",
    "import numpy as np\n",
    "from pandas.plotting import scatter_matrix\n",
    "from sklearn import preprocessing\n",
    "from numpy import set_printoptions\n",
    "from sklearn.preprocessing import Normalizer\n",
    "from sklearn.preprocessing import Binarizer\n",
    "from sklearn.preprocessing import StandardScaler\n",
    "from sklearn import preprocessing\n",
    "from sklearn.feature_selection import SelectKBest\n",
    "from sklearn.feature_selection import chi2\n",
    "from sklearn.feature_selection import RFE\n",
    "from sklearn.linear_model import LogisticRegression\n",
    "from sklearn.decomposition import PCA\n",
    "from sklearn.ensemble import ExtraTreesClassifier\n",
    "from sklearn.model_selection import train_test_split\n",
    "from sklearn.naive_bayes import GaussianNB\n",
    "from sklearn.metrics import accuracy_score\n",
    "from sklearn.metrics import confusion_matrix\n",
    "from sklearn import datasets\n",
    "import seaborn as sns; sns.set()\n",
    "from sklearn.svm import SVC\n",
    "from sklearn import metrics\n",
    "from sklearn.metrics import classification_report, confusion_matrix\n",
    "from sklearn.ensemble import GradientBoostingClassifier\n",
    "from sklearn.preprocessing import MinMaxScaler\n",
    "#from xgboost import XGBClassifier\n",
    "from numpy import mean\n",
    "from numpy import std\n",
    "from numpy import absolute\n",
    "from pandas import read_csv\n",
    "from sklearn.model_selection import cross_val_score\n",
    "from sklearn.model_selection import RepeatedKFold\n",
    "from sklearn.linear_model import ElasticNet\n",
    "from numpy import arange\n",
    "from sklearn.model_selection import GridSearchCV\n",
    "from sklearn.metrics import precision_score, recall_score\n",
    "from sklearn.svm import SVC\n",
    "from sklearn.svm import LinearSVC\n",
    "import pandas as pd\n",
    "from google.cloud import bigquery\n",
    "import os\n",
    "import matplotlib.pyplot as plt\n",
    "import textwrap\n",
    "import re\n",
    "from tqdm import tqdm\n",
    "%matplotlib inline"
   ]
  },
  {
   "cell_type": "markdown",
   "metadata": {},
   "source": [
    "### 2. Load cohorts from BigQuery "
   ]
  },
  {
   "cell_type": "markdown",
   "metadata": {},
   "source": [
    "##### exp_2022 and out_2022"
   ]
  },
  {
   "cell_type": "code",
   "execution_count": null,
   "metadata": {},
   "outputs": [],
   "source": [
    "user_id = 'kbechler'\n",
    "nero_gcp_project = 'som-nero-nigam-starr'\n",
    "cdm_project_id = 'som-nero-nigam-starr'\n",
    "cdm_dataset_id = 'starr_omop_cdm5_deid_20211213'\n",
    "work_project_id = 'som-nero-nigam-starr'\n",
    "work_dataset_id = f'{user_id}_explore'\n",
    "cdm_subset_dataset_id = 'cdm_subset'"
   ]
  },
  {
   "cell_type": "markdown",
   "metadata": {},
   "source": [
    "Set up connection"
   ]
  },
  {
   "cell_type": "code",
   "execution_count": null,
   "metadata": {},
   "outputs": [],
   "source": [
    "# Use correct path whether you are local or Nero\n",
    "os.environ['GOOGLE_APPLICATION_CREDENTIALS'] = '/home/kbechler/adc.json' \n",
    "\n",
    "# Set correct Nero project\n",
    "os.environ['GCLOUD_PROJECT'] = nero_gcp_project\n",
    "client = bigquery.Client(project = work_project_id)"
   ]
  },
  {
   "cell_type": "code",
   "execution_count": null,
   "metadata": {},
   "outputs": [],
   "source": [
    "sql = \"select * from som-nero-nigam-starr.kbechler_explore.exp_2022\"\n",
    "exp_df = client.query(sql).to_dataframe()\n",
    "\n",
    "sql = \"select * from som-nero-nigam-starr.kbechler_explore.out_2022\"\n",
    "out_df = client.query(sql).to_dataframe()"
   ]
  },
  {
   "cell_type": "code",
   "execution_count": null,
   "metadata": {},
   "outputs": [],
   "source": [
    "print(\"Number of patients in exposure cohort: \", len(exp_df))\n",
    "print(\"Number of patients in outcome cohort:\", len(out_df))"
   ]
  },
  {
   "cell_type": "markdown",
   "metadata": {},
   "source": [
    "### 3. Find first instance of LN diagnosis in positive cases"
   ]
  },
  {
   "cell_type": "code",
   "execution_count": null,
   "metadata": {},
   "outputs": [],
   "source": [
    "# Merge with condition df\n",
    "condition_df = pd.read_csv('/home/kbechler/notebooks/data/condition_occurrence.tsv', sep='\\t')"
   ]
  },
  {
   "cell_type": "code",
   "execution_count": null,
   "metadata": {},
   "outputs": [],
   "source": [
    "condition_df.head()"
   ]
  },
  {
   "cell_type": "markdown",
   "metadata": {},
   "source": [
    "Confirm proper number of patients have LN condition concept id"
   ]
  },
  {
   "cell_type": "code",
   "execution_count": null,
   "metadata": {},
   "outputs": [],
   "source": [
    "ln_condition = condition_df[condition_df.condition_concept_id == 4285717]\n",
    "print(\"Number of patients with ln condition concept:\", ln_condition.person_id.nunique())"
   ]
  },
  {
   "cell_type": "markdown",
   "metadata": {},
   "source": [
    "Find minimum date of LN diagnosis per patient"
   ]
  },
  {
   "cell_type": "code",
   "execution_count": null,
   "metadata": {},
   "outputs": [],
   "source": [
    "# Group by unique person id and min condition concept ID for LN\n",
    "ln_min = ln_condition.groupby('person_id', as_index = False)['condition_start_DATETIME'].min()\n",
    "ln_min.columns = ['person_id', 'ln_diag_date']\n",
    "print(len(ln_min))\n",
    "print(sum(ln_min.ln_diag_date.isna()))\n",
    "ln_min.head()"
   ]
  },
  {
   "cell_type": "markdown",
   "metadata": {},
   "source": [
    "### 4. Create patient level dataframe "
   ]
  },
  {
   "cell_type": "code",
   "execution_count": null,
   "metadata": {},
   "outputs": [],
   "source": [
    "# Merge with exp cohort\n",
    "patient_df = pd.merge(exp_df, ln_min, left_on = 'subject_id', right_on = 'person_id', how = 'left')"
   ]
  },
  {
   "cell_type": "code",
   "execution_count": null,
   "metadata": {},
   "outputs": [],
   "source": [
    "print(len(patient_df))"
   ]
  },
  {
   "cell_type": "code",
   "execution_count": null,
   "metadata": {},
   "outputs": [],
   "source": [
    "patient_df.head()"
   ]
  },
  {
   "cell_type": "code",
   "execution_count": null,
   "metadata": {},
   "outputs": [],
   "source": [
    "sum(patient_df.ln_diag_date.notnull())"
   ]
  },
  {
   "cell_type": "code",
   "execution_count": null,
   "metadata": {},
   "outputs": [],
   "source": [
    "patient_df.dtypes"
   ]
  },
  {
   "cell_type": "code",
   "execution_count": null,
   "metadata": {},
   "outputs": [],
   "source": [
    "# Normalize diag data\n",
    "patient_df['cohort_start_date'] = pd.to_datetime(patient_df['cohort_start_date']).dt.normalize()\n",
    "patient_df['ln_diag_date'] = pd.to_datetime(patient_df['ln_diag_date']).dt.normalize()"
   ]
  },
  {
   "cell_type": "code",
   "execution_count": null,
   "metadata": {},
   "outputs": [],
   "source": [
    "patient_df.head()"
   ]
  },
  {
   "cell_type": "markdown",
   "metadata": {},
   "source": [
    "Check to see if patients need to be removed who have had LN diag date prior to cohort start date or same as \n",
    "cohort start date"
   ]
  },
  {
   "cell_type": "code",
   "execution_count": null,
   "metadata": {},
   "outputs": [],
   "source": [
    "# Calculate difference from first instance of SLE to first instance of LN\n",
    "patient_df['time_sle_to_ln'] = pd.to_numeric((patient_df.ln_diag_date - patient_df.cohort_start_date).dt.days, \n",
    "                                             downcast = \"integer\")"
   ]
  },
  {
   "cell_type": "code",
   "execution_count": null,
   "metadata": {},
   "outputs": [],
   "source": [
    "patient_df.time_sle_to_ln.describe()"
   ]
  },
  {
   "cell_type": "code",
   "execution_count": null,
   "metadata": {},
   "outputs": [],
   "source": [
    "print(sum(patient_df.time_sle_to_ln.isna()))"
   ]
  },
  {
   "cell_type": "code",
   "execution_count": null,
   "metadata": {},
   "outputs": [],
   "source": [
    "print(sum(patient_df.time_sle_to_ln > 0))"
   ]
  },
  {
   "cell_type": "code",
   "execution_count": null,
   "metadata": {},
   "outputs": [],
   "source": [
    "patient_df.time_sle_to_ln.describe()"
   ]
  },
  {
   "cell_type": "markdown",
   "metadata": {},
   "source": [
    "### 5. Time from SLE to LN diagnosis  "
   ]
  },
  {
   "cell_type": "code",
   "execution_count": null,
   "metadata": {},
   "outputs": [],
   "source": [
    "os.getcwd()"
   ]
  },
  {
   "cell_type": "code",
   "execution_count": null,
   "metadata": {},
   "outputs": [],
   "source": [
    "# Create bins of size 1\n",
    "w = 50\n",
    "n = math.ceil((patient_df.time_sle_to_ln.max() - patient_df.time_sle_to_ln.min())/w)\n",
    "\n",
    "\n",
    "# Plot histogram of # days to SLE\n",
    "plt.figure(figsize=(12,7))\n",
    "sns.displot(patient_df['time_sle_to_ln'], kde = False, bins = n)\n",
    "plt.title('Time from 1st Instance of SLE to LN Diagnosis', fontsize=18)\n",
    "plt.xlabel('# of Days', fontsize=16)\n",
    "plt.ylabel('Frequency', fontsize=16)\n",
    "plt.xlim(0,1000)\n",
    "plt.savefig('/home/kbechler/sle_to_ln.png')\n",
    "plt.show()"
   ]
  },
  {
   "cell_type": "code",
   "execution_count": null,
   "metadata": {},
   "outputs": [],
   "source": [
    "# Create bins of size 1\n",
    "w = 1\n",
    "n = math.ceil(((patient_df.time_sle_to_ln/365).max() - (patient_df.time_sle_to_ln/365).min())/w)\n",
    "\n",
    "\n",
    "# Plot histogram of # days to SLE\n",
    "plt.figure(figsize=(12,7))\n",
    "sns.distplot(patient_df['time_sle_to_ln']/365, kde = False, bins = n)\n",
    "plt.title('Time from SLE Diagnosis to LN Diagnosis', fontsize=18)\n",
    "plt.xlabel('# of Years', fontsize=16)\n",
    "plt.ylabel('# Number of Patients', fontsize=16)\n",
    "#plt.xlim(0,50)\n",
    "#plt.ylim = (0,1)\n",
    "plt.savefig('/home/kbechler/sle_to_ln2.png')\n",
    "plt.show()"
   ]
  },
  {
   "cell_type": "code",
   "execution_count": null,
   "metadata": {},
   "outputs": [],
   "source": [
    "person_df = pd.read_csv('/home/kbechler/notebooks/data/person.tsv', sep='\\t')"
   ]
  },
  {
   "cell_type": "code",
   "execution_count": null,
   "metadata": {},
   "outputs": [],
   "source": [
    "len(person_df)"
   ]
  },
  {
   "cell_type": "code",
   "execution_count": null,
   "metadata": {},
   "outputs": [],
   "source": [
    "patient_df_new = pd.merge(patient_df, person_df[['person_id', 'birth_DATETIME']], left_on = 'subject_id', \n",
    "                         right_on = 'person_id', how = 'left')"
   ]
  },
  {
   "cell_type": "code",
   "execution_count": null,
   "metadata": {},
   "outputs": [],
   "source": [
    "patient_df_new.head()"
   ]
  },
  {
   "cell_type": "code",
   "execution_count": null,
   "metadata": {},
   "outputs": [],
   "source": [
    "patient_df_new.dtypes"
   ]
  },
  {
   "cell_type": "code",
   "execution_count": null,
   "metadata": {},
   "outputs": [],
   "source": [
    "patient_df_new.birth_DATETIME = pd.to_datetime(patient_df_new.birth_DATETIME).dt.normalize()"
   ]
  },
  {
   "cell_type": "code",
   "execution_count": null,
   "metadata": {},
   "outputs": [],
   "source": [
    "# Subtract birth_DATETIME from cohort_start_date to get age of patient in years\n",
    "patient_df_new['age'] = pd.to_numeric((patient_df_new.cohort_start_date - patient_df_new.birth_DATETIME).dt.days, \n",
    "downcast = 'integer')"
   ]
  },
  {
   "cell_type": "code",
   "execution_count": null,
   "metadata": {},
   "outputs": [],
   "source": [
    "patient_df_new.head()"
   ]
  },
  {
   "cell_type": "code",
   "execution_count": null,
   "metadata": {},
   "outputs": [],
   "source": [
    "plt.figure(figsize=(12,7))\n",
    "sns.distplot(patient_df_new['age']/365, kde = False)\n",
    "plt.title('Age at SLE Diagnosis', fontsize=18)\n",
    "plt.xlabel('# of Years', fontsize=16)\n",
    "plt.ylabel('# of Patients', fontsize=16)\n",
    "plt.axvline((patient_df_new['age']/365).mean(), color='k', linestyle='dashed', linewidth=1)\n",
    "min_ylim, max_ylim = plt.ylim()\n",
    "plt.text((patient_df_new['age']/365).mean()*1.1, max_ylim*0.9, 'Mean: {:.2f}'.format((patient_df_new['age']/365).mean()))\n",
    "plt.savefig('/home/kbechler/sle_age.png')\n",
    "plt.show()"
   ]
  },
  {
   "cell_type": "markdown",
   "metadata": {},
   "source": [
    "### 6. Create Venn Diagram for SLE Cohort looking at condition vs. ICD vs. notes "
   ]
  },
  {
   "cell_type": "markdown",
   "metadata": {},
   "source": [
    "##### Original exposure cohort with sql from ATLAS "
   ]
  },
  {
   "cell_type": "code",
   "execution_count": null,
   "metadata": {},
   "outputs": [],
   "source": [
    "user_id = 'kbechler'\n",
    "nero_gcp_project = 'som-nero-nigam-starr'\n",
    "cdm_project_id = 'som-nero-nigam-starr'\n",
    "cdm_dataset_id = 'starr_omop_cdm5_deid_20211213'\n",
    "work_project_id = 'som-nero-nigam-starr'\n",
    "work_dataset_id = f'{user_id}_explore'\n",
    "cdm_subset_dataset_id = 'cdm_subset'\n",
    "cohort_table_id = 'exp_cohort'\n",
    "cohort_id = 21"
   ]
  },
  {
   "cell_type": "code",
   "execution_count": null,
   "metadata": {},
   "outputs": [],
   "source": [
    "sql = \"select * from som-nero-nigam-starr.kbechler_explore.exp_cohort\"\n",
    "atlas_exp_cohort = client.query(sql).to_dataframe()"
   ]
  },
  {
   "cell_type": "code",
   "execution_count": null,
   "metadata": {},
   "outputs": [],
   "source": [
    "import matplotlib_venn as venn\n",
    "from matplotlib_venn import venn3\n",
    "from matplotlib_venn import venn2"
   ]
  },
  {
   "cell_type": "code",
   "execution_count": null,
   "metadata": {},
   "outputs": [],
   "source": [
    "# Filter to person_id by condition_occurrence SLE per STARR_OMOP\n",
    "# Condition codes\n",
    "# 4055640: Lung disease with systemic lupus erythematosus\n",
    "# 4344158: Systemic lupus erythematosus with organ/system involvement\n",
    "# 4285717: SLE glomerulopehritis syndrome\n",
    "# 4063581: Drug-induced systemic lupus erythematosus\n",
    "# 4149913: Systemic lupus erythematosus with pericarditis\n",
    "# 257628: Systemic lupus erythematosus"
   ]
  },
  {
   "cell_type": "code",
   "execution_count": null,
   "metadata": {},
   "outputs": [],
   "source": [
    "# Condition occurrence of SLE\n",
    "# Mapped and descendants\n",
    "sle_condition_list = [4055640, 4344158, 4285717 , 4063581, 4149913, 257628]"
   ]
  },
  {
   "cell_type": "code",
   "execution_count": null,
   "metadata": {},
   "outputs": [],
   "source": [
    "# Read in data from condition occurrence table\n",
    "sql = \"\"\"SELECT * \n",
    "FROM `som-nero-nigam-starr.starr_omop_cdm5_deid_20211213.condition_occurrence`\n",
    "WHERE condition_concept_id IN (4055640, 4344158, 4285717 , 4063581, 4149913, 257628)\"\"\"\n",
    "sle_condition = client.query(sql).to_dataframe()"
   ]
  },
  {
   "cell_type": "code",
   "execution_count": null,
   "metadata": {},
   "outputs": [],
   "source": [
    "# Count how many times each patient has condition occurrence associated with SLE\n",
    "sle_condition_count = sle_condition.groupby(['person_id'], as_index = False).agg({\n",
    "    'condition_occurrence_id': 'count'\n",
    "})"
   ]
  },
  {
   "cell_type": "code",
   "execution_count": null,
   "metadata": {},
   "outputs": [],
   "source": [
    "# Draw histogram\n",
    "# Create bins\n",
    "w = 1\n",
    "n = math.ceil((sle_condition_count.condition_occurrence_id.max() - sle_condition_count.condition_occurrence_id.min())/w)\n",
    "\n",
    "\n",
    "# Plot histogram\n",
    "plt.figure(figsize = (12, 7))\n",
    "sns.histplot(sle_condition_count['condition_occurrence_id'], kde = False, color = 'c' , bins = n)\n",
    "plt.title('# SLE Condition Occurrences Per Patient')\n",
    "plt.xlabel('Number of Condition Occurrence Instances')\n",
    "plt.ylabel('Frequency')\n",
    "plt.xlim(0,50)\n",
    "plt.show()"
   ]
  },
  {
   "cell_type": "code",
   "execution_count": null,
   "metadata": {},
   "outputs": [],
   "source": [
    "print(\"Number of patients with SLE condition occurrence <= 1:\", sum(sle_condition_count.condition_occurrence_id <=1))\n",
    "print(\"Number of patients with SLE condition occurrence > 1:\", sum(sle_condition_count.condition_occurrence_id >1))"
   ]
  },
  {
   "cell_type": "code",
   "execution_count": null,
   "metadata": {},
   "outputs": [],
   "source": [
    "# Filter to person_id by ICD9/ICD10 diagnoses\n",
    "# ICD10 = M32.9\n",
    "# ICD9 = 710.0\n",
    "\n",
    "# Read data from condition occurrence table\n",
    "sql = \"\"\"SELECT * \n",
    "FROM `som-nero-nigam-starr.starr_omop_cdm5_deid_20211213.condition_occurrence`\n",
    "WHERE condition_source_value IN ('M32.9', '710.0')\"\"\"\n",
    "sle_icd = client.query(sql).to_dataframe()"
   ]
  },
  {
   "cell_type": "code",
   "execution_count": null,
   "metadata": {},
   "outputs": [],
   "source": [
    "print(\"Number of unique patients with ICD occurrence:\", len(sle_icd.person_id.unique()))"
   ]
  },
  {
   "cell_type": "code",
   "execution_count": null,
   "metadata": {},
   "outputs": [],
   "source": [
    "# Count number of times ICD code occurs per patient\n",
    "sle_icd_count = sle_icd.groupby(['person_id'], as_index = False).agg({\n",
    "    'condition_source_value': 'count'\n",
    "})"
   ]
  },
  {
   "cell_type": "code",
   "execution_count": null,
   "metadata": {},
   "outputs": [],
   "source": [
    "sle_icd_count.head()"
   ]
  },
  {
   "cell_type": "code",
   "execution_count": null,
   "metadata": {},
   "outputs": [],
   "source": [
    "print(\"Number of patients with <= 1 ICD SLE mention:\", sum(sle_icd_count.condition_source_value <= 1))\n",
    "print(\"Number of patients with > 1 ICD SLE mention:\", sum(sle_icd_count.condition_source_value > 1))"
   ]
  },
  {
   "cell_type": "code",
   "execution_count": null,
   "metadata": {},
   "outputs": [],
   "source": [
    "# Draw histogram\n",
    "# Create bins\n",
    "w = 1\n",
    "n = math.ceil((sle_icd_count.condition_source_value.max() - sle_icd_count.condition_source_value.min())/w)\n",
    "\n",
    "\n",
    "# Plot histogram\n",
    "plt.figure(figsize = (12, 7))\n",
    "sns.histplot(sle_icd_count['condition_source_value'], kde = False, color = 'c' , bins = n)\n",
    "plt.title('# SLE ICD9/10 Per Patient')\n",
    "plt.xlabel('Number of ICD Diag Instances')\n",
    "plt.ylabel('Frequency')\n",
    "plt.xlim(0,50)\n",
    "plt.show()"
   ]
  },
  {
   "cell_type": "code",
   "execution_count": null,
   "metadata": {},
   "outputs": [],
   "source": [
    "# Create Venn Diagram\n",
    "def venn_diagram(condition, icd, labels = ['condition', 'icd']):\n",
    "    \n",
    "    a = list(set(condition))\n",
    "    b = list(set(icd))\n",
    "\n",
    "    only_a = len([x for x in a if x not in b])\n",
    "    only_b = len([x for x in b if x not in a])\n",
    "    print(only_a)\n",
    "    print(only_b)\n",
    "    \n",
    "    a_b = len(np.intersect1d(a, b))\n",
    "    print(a_b)\n",
    "    \n",
    "    venn2(subsets = (only_a, only_b, a_b), set_labels=labels)"
   ]
  },
  {
   "cell_type": "code",
   "execution_count": null,
   "metadata": {},
   "outputs": [],
   "source": [
    "venn_diagram(sle_condition.person_id,sle_icd.person_id)\n",
    "plt.savefig('/home/kbechler/VennDiagram2_4_5.png')\n",
    "plt.show()"
   ]
  },
  {
   "cell_type": "code",
   "execution_count": null,
   "metadata": {},
   "outputs": [],
   "source": [
    "patient_df.head()"
   ]
  },
  {
   "cell_type": "code",
   "execution_count": null,
   "metadata": {},
   "outputs": [],
   "source": [
    "# Build 3 category venn diagram\n",
    "def venn_diagram(condition, icd, notes, labels = ['SLE Condition Occurrence', 'SLE ICD-9/ICD-9 Diags', 'SLE Clinical Notes']):\n",
    "    a = list(set(condition))\n",
    "    b = list(set(icd))\n",
    "    c = list(set(notes))\n",
    "    \n",
    "    only_a = len([x for x in a if x not in b+c])\n",
    "    only_b = len([x for x in b if x not in a+c])\n",
    "    only_c = len([x for x in c if x not in a+b])\n",
    "    \n",
    "    a_b = len(np.intersect1d(a,b))\n",
    "    a_c = len(np.intersect1d(a,c))\n",
    "    b_c = len(np.intersect1d(b,c))\n",
    "    \n",
    "    a_b_c = len([x for x in a if (x in b) and (x in c)])\n",
    "    venn3(subsets = (only_a, only_b, a_b, only_c, a_c, b_c, a_b_c), set_labels=labels)   \n",
    "    \n",
    "\n",
    "venn_diagram([1, 2], [1, 2, 3, 4], [1, 2, 3])"
   ]
  },
  {
   "cell_type": "code",
   "execution_count": null,
   "metadata": {},
   "outputs": [],
   "source": [
    "venn_diagram(sle_condition.person_id,sle_icd.person_id, patient_df.subject_id)\n",
    "plt.savefig('/home/kbechler/VennDiagram_3_31.png')\n",
    "plt.show()"
   ]
  },
  {
   "cell_type": "markdown",
   "metadata": {},
   "source": [
    "### 7. Look at patient numbers for multiple prediction models vs. survival model or single prediction model "
   ]
  },
  {
   "cell_type": "code",
   "execution_count": null,
   "metadata": {},
   "outputs": [],
   "source": [
    "# Multiple predictions fixed interval\n",
    "# Current patient dataframe\n",
    "print(\"Number of SLE patients:\", len(patient_df))\n",
    "print(\"Number of LN patients:\", len(patient_df[patient_df.ln_diag_date.notna()]))"
   ]
  },
  {
   "cell_type": "code",
   "execution_count": null,
   "metadata": {},
   "outputs": [],
   "source": [
    "# Create index 0 date = first instance of SLE diagnosis\n",
    "patient_df['index_0'] = patient_df['cohort_start_date']"
   ]
  },
  {
   "cell_type": "code",
   "execution_count": null,
   "metadata": {},
   "outputs": [],
   "source": [
    "patient_df['ln_event_0'] = np.where(patient_df['time_sle_to_ln'] <= 365, 1, 0)"
   ]
  },
  {
   "cell_type": "code",
   "execution_count": null,
   "metadata": {},
   "outputs": [],
   "source": [
    "sum(patient_df.ln_event_0)"
   ]
  },
  {
   "cell_type": "code",
   "execution_count": null,
   "metadata": {},
   "outputs": [],
   "source": [
    "from datetime import datetime, timedelta"
   ]
  },
  {
   "cell_type": "code",
   "execution_count": null,
   "metadata": {},
   "outputs": [],
   "source": [
    "# Create index 1 date = 1 year from first instance of SLE diagnosis\n",
    "patient_df['index_1'] = patient_df['index_0'] + timedelta(days = 365)"
   ]
  },
  {
   "cell_type": "code",
   "execution_count": null,
   "metadata": {},
   "outputs": [],
   "source": [
    "patient_df['ln_event_1'] = np.where((patient_df['time_sle_to_ln'] > 365) & (patient_df['time_sle_to_ln'] <= 730), 1, 0)\n",
    "patient_df['ln_event_1'] = np.where((patient_df['ln_event_0'] == 1), np.nan, patient_df['ln_event_1'])"
   ]
  },
  {
   "cell_type": "code",
   "execution_count": null,
   "metadata": {},
   "outputs": [],
   "source": [
    "print(patient_df.ln_event_1.sum(skipna = True))\n",
    "print(len(patient_df[patient_df.ln_event_1 == 0]))\n",
    "print(sum(patient_df.ln_event_1.isna()))"
   ]
  },
  {
   "cell_type": "code",
   "execution_count": null,
   "metadata": {},
   "outputs": [],
   "source": [
    "patient_df['index_2'] = patient_df['index_1'] + timedelta(days = 365)\n",
    "patient_df['index_3'] = patient_df['index_2'] + timedelta(days = 365)\n",
    "patient_df['index_4'] = patient_df['index_3'] + timedelta(days = 365)\n",
    "patient_df['index_5'] = patient_df['index_4'] + timedelta(days = 365)"
   ]
  },
  {
   "cell_type": "code",
   "execution_count": null,
   "metadata": {},
   "outputs": [],
   "source": [
    "patient_df['index_6'] = patient_df['index_5'] + timedelta(days = 365)\n",
    "patient_df['index_7'] = patient_df['index_6'] + timedelta(days = 365)\n",
    "patient_df['index_8'] = patient_df['index_7'] + timedelta(days = 365)\n",
    "patient_df['index_9'] = patient_df['index_8'] + timedelta(days = 365)"
   ]
  },
  {
   "cell_type": "code",
   "execution_count": null,
   "metadata": {},
   "outputs": [],
   "source": [
    "patient_df['ln_event_2'] = np.where((patient_df['time_sle_to_ln'] > 730) & (patient_df['time_sle_to_ln'] <= 1095), 1, 0)\n",
    "patient_df['ln_event_2'] = np.where((patient_df['ln_event_1'] == 1) | (patient_df['ln_event_0'] == 1), np.nan,patient_df['ln_event_2'])\n",
    "\n",
    "\n",
    "patient_df['ln_event_3'] = np.where((patient_df['time_sle_to_ln'] > 1095) & (patient_df['time_sle_to_ln'] <= 1490), 1, 0)\n",
    "patient_df['ln_event_3'] = np.where((patient_df['ln_event_2'] == 1) |(patient_df['ln_event_1'] == 1) | (patient_df['ln_event_0'] == 1), np.nan,patient_df['ln_event_3'])\n",
    "\n",
    "patient_df['ln_event_4'] = np.where((patient_df['time_sle_to_ln'] > 1490) & (patient_df['time_sle_to_ln'] <= 1825), 1, 0)\n",
    "patient_df['ln_event_4'] = np.where((patient_df['ln_event_3'] == 1) |(patient_df['ln_event_2'] == 1) | (patient_df['ln_event_1'] == 1) | (patient_df['ln_event_0'] == 1), np.nan,patient_df['ln_event_4'])\n",
    "\n",
    "patient_df['ln_event_5'] = np.where((patient_df['time_sle_to_ln'] > 1825) & (patient_df['time_sle_to_ln'] <= 2190), 1, 0)\n",
    "patient_df['ln_event_5'] = np.where((patient_df['ln_event_4'] == 1) |(patient_df['ln_event_3'] == 1) |(patient_df['ln_event_2'] == 1) | (patient_df['ln_event_1'] == 1) | (patient_df['ln_event_0'] == 1), np.nan,patient_df['ln_event_5'])\n",
    "\n",
    "\n",
    "patient_df['ln_event_6'] = np.where((patient_df['time_sle_to_ln'] > 2190) & (patient_df['time_sle_to_ln'] <= 2555), 1, 0)\n",
    "patient_df['ln_event_6'] = np.where((patient_df['ln_event_5'] == 1) |(patient_df['ln_event_4'] == 1) |(patient_df['ln_event_3'] == 1) |(patient_df['ln_event_2'] == 1) | (patient_df['ln_event_1'] == 1) | (patient_df['ln_event_0'] == 1), np.nan,patient_df['ln_event_6'])\n",
    "\n",
    "\n",
    "patient_df['ln_event_7'] = np.where((patient_df['time_sle_to_ln'] > 2555) & (patient_df['time_sle_to_ln'] <= 2920), 1, 0)\n",
    "patient_df['ln_event_7'] = np.where((patient_df['ln_event_6'] == 1) |(patient_df['ln_event_5'] == 1) |(patient_df['ln_event_4'] == 1) |(patient_df['ln_event_3'] == 1) |(patient_df['ln_event_2'] == 1) | (patient_df['ln_event_1'] == 1) | (patient_df['ln_event_0'] == 1), np.nan,patient_df['ln_event_7'])\n",
    "\n",
    "\n",
    "patient_df['ln_event_8'] = np.where((patient_df['time_sle_to_ln'] > 2920) & (patient_df['time_sle_to_ln'] <= 3285), 1, 0)\n",
    "patient_df['ln_event_8'] = np.where((patient_df['ln_event_7'] == 1) |(patient_df['ln_event_6'] == 1) |(patient_df['ln_event_5'] == 1) |(patient_df['ln_event_4'] == 1) |(patient_df['ln_event_3'] == 1) |(patient_df['ln_event_2'] == 1) | (patient_df['ln_event_1'] == 1) | (patient_df['ln_event_0'] == 1), np.nan,patient_df['ln_event_8'])\n",
    "\n",
    "\n",
    "patient_df['ln_event_9'] = np.where((patient_df['time_sle_to_ln'] > 3285) & (patient_df['time_sle_to_ln'] <= 3650), 1, 0)\n",
    "patient_df['ln_event_9'] = np.where((patient_df['ln_event_8'] == 1) |(patient_df['ln_event_7'] == 1) |(patient_df['ln_event_6'] == 1) |(patient_df['ln_event_5'] == 1) |(patient_df['ln_event_4'] == 1) |(patient_df['ln_event_3'] == 1) |(patient_df['ln_event_2'] == 1) | (patient_df['ln_event_1'] == 1) | (patient_df['ln_event_0'] == 1), np.nan,patient_df['ln_event_9'])\n",
    "\n",
    "\n",
    "patient_df['ln_event_10'] = np.where((patient_df['time_sle_to_ln'] > 3650) & (patient_df['time_sle_to_ln'] <= 4015), 1, 0)\n",
    "patient_df['ln_event_10'] = np.where((patient_df['ln_event_9'] == 1) |(patient_df['ln_event_8'] == 1) |(patient_df['ln_event_7'] == 1) |(patient_df['ln_event_6'] == 1) |(patient_df['ln_event_5'] == 1) |(patient_df['ln_event_4'] == 1) |(patient_df['ln_event_3'] == 1) |(patient_df['ln_event_2'] == 1) | (patient_df['ln_event_1'] == 1) | (patient_df['ln_event_0'] == 1), np.nan,patient_df['ln_event_10'])\n",
    "\n",
    "\n",
    "patient_df['ln_event_11'] = np.where((patient_df['time_sle_to_ln'] > 4015) & (patient_df['time_sle_to_ln'] <= 4380), 1, 0)\n",
    "patient_df['ln_event_11'] = np.where((patient_df['ln_event_10'] == 1) |(patient_df['ln_event_9'] == 1) |(patient_df['ln_event_8'] == 1) |(patient_df['ln_event_7'] == 1) |(patient_df['ln_event_6'] == 1) |(patient_df['ln_event_5'] == 1) |(patient_df['ln_event_4'] == 1) |(patient_df['ln_event_3'] == 1) |(patient_df['ln_event_2'] == 1) | (patient_df['ln_event_1'] == 1) | (patient_df['ln_event_0'] == 1), np.nan,patient_df['ln_event_11'])\n",
    "\n",
    "\n",
    "patient_df['ln_event_12'] = np.where((patient_df['time_sle_to_ln'] > 4380) & (patient_df['time_sle_to_ln'] <= 4745), 1, 0)\n",
    "patient_df['ln_event_12'] = np.where((patient_df['ln_event_11'] == 1) |(patient_df['ln_event_10'] == 1) |(patient_df['ln_event_9'] == 1) |(patient_df['ln_event_8'] == 1) |(patient_df['ln_event_7'] == 1) |(patient_df['ln_event_6'] == 1) |(patient_df['ln_event_5'] == 1) |(patient_df['ln_event_4'] == 1) |(patient_df['ln_event_3'] == 1) |(patient_df['ln_event_2'] == 1) | (patient_df['ln_event_1'] == 1) | (patient_df['ln_event_0'] == 1), np.nan,patient_df['ln_event_12'])\n"
   ]
  },
  {
   "cell_type": "code",
   "execution_count": null,
   "metadata": {},
   "outputs": [],
   "source": [
    "# Create dataframe\n",
    "one_year_predictions = pd.DataFrame()"
   ]
  },
  {
   "cell_type": "code",
   "execution_count": null,
   "metadata": {},
   "outputs": [],
   "source": [
    "row = (len(patient_df),patient_df.ln_event_0.sum(skipna = True))\n",
    "row = pd.Series(row)\n",
    "one_year_predictions = one_year_predictions.append(row, ignore_index = True )"
   ]
  },
  {
   "cell_type": "code",
   "execution_count": null,
   "metadata": {},
   "outputs": [],
   "source": [
    "row = (len(patient_df) - len(patient_df[patient_df.ln_event_0 == 1]),patient_df.ln_event_1.sum(skipna = True))\n",
    "row = pd.Series(row)\n",
    "one_year_predictions = one_year_predictions.append(row, ignore_index = True )\n",
    "\n",
    "row = (len(patient_df) - len(patient_df[patient_df.ln_event_1 == 1]) - len(patient_df[patient_df.ln_event_0 == 1]),patient_df.ln_event_2.sum(skipna = True))\n",
    "row = pd.Series(row)\n",
    "one_year_predictions = one_year_predictions.append(row, ignore_index = True )\n",
    "\n",
    "row = (len(patient_df) - len(patient_df[patient_df.ln_event_2 == 1]) - len(patient_df[patient_df.ln_event_1 == 1]) - len(patient_df[patient_df.ln_event_0 ==1]),patient_df.ln_event_3.sum(skipna = True))\n",
    "row = pd.Series(row)\n",
    "one_year_predictions = one_year_predictions.append(row, ignore_index = True )\n",
    "\n",
    "row = (len(patient_df) - len(patient_df[patient_df.ln_event_3 == 1]) - len(patient_df[patient_df.ln_event_2 ==1])- len(patient_df[patient_df.ln_event_1 == 1]) - len(patient_df[patient_df.ln_event_0 == 1]),patient_df.ln_event_4.sum(skipna = True))\n",
    "row = pd.Series(row)\n",
    "one_year_predictions = one_year_predictions.append(row, ignore_index = True )\n",
    "\n",
    "row = (len(patient_df) - len(patient_df[patient_df.ln_event_4 == 1]) - len(patient_df[patient_df.ln_event_3 == 1]) - len(patient_df[patient_df.ln_event_2 == 1]) - len(patient_df[patient_df.ln_event_1 == 1]) - len(patient_df[patient_df.ln_event_0 == 1]),patient_df.ln_event_5.sum(skipna = True))\n",
    "row = pd.Series(row)\n",
    "one_year_predictions = one_year_predictions.append(row, ignore_index = True )\n",
    "\n",
    "row = (len(patient_df) - len(patient_df[patient_df.ln_event_5 == 1]) - len(patient_df[patient_df.ln_event_4 == 1]) - len(patient_df[patient_df.ln_event_3 ==1]) - len(patient_df[patient_df.ln_event_2 ==1]) - len(patient_df[patient_df.ln_event_1 ==1]) - len(patient_df[patient_df.ln_event_0 == 1]),patient_df.ln_event_6.sum(skipna = True))\n",
    "row = pd.Series(row)\n",
    "one_year_predictions = one_year_predictions.append(row, ignore_index = True )\n",
    "\n",
    "row = (len(patient_df) - len(patient_df[patient_df.ln_event_6 == 1]) - len(patient_df[patient_df.ln_event_5 == 1]) - len(patient_df[patient_df.ln_event_4 == 1]) - len(patient_df[patient_df.ln_event_3 == 1]) - len(patient_df[patient_df.ln_event_2 == 1]) - len(patient_df[patient_df.ln_event_1 == 1]) - len(patient_df[patient_df.ln_event_0 ==1]),patient_df.ln_event_7.sum(skipna = True))\n",
    "row = pd.Series(row)\n",
    "one_year_predictions = one_year_predictions.append(row, ignore_index = True )\n",
    "\n",
    "row = (len(patient_df) - len(patient_df[patient_df.ln_event_7 == 1]) - len(patient_df[patient_df.ln_event_6 ==1]) - len(patient_df[patient_df.ln_event_5 ==1]) - len(patient_df[patient_df.ln_event_4 == 1]) - len(patient_df[patient_df.ln_event_3 == 1]) - len(patient_df[patient_df.ln_event_2 ==1]) - len(patient_df[patient_df.ln_event_1 ==1]) - len(patient_df[patient_df.ln_event_0 ==1]),patient_df.ln_event_8.sum(skipna = True))\n",
    "row = pd.Series(row)\n",
    "one_year_predictions = one_year_predictions.append(row, ignore_index = True )\n",
    "\n",
    "row = (len(patient_df) - len(patient_df[patient_df.ln_event_8 == 1]) - len(patient_df[patient_df.ln_event_7 == 1]) - len(patient_df[patient_df.ln_event_6 == 1])- len(patient_df[patient_df.ln_event_5 == 1]) - len(patient_df[patient_df.ln_event_4 == 1]) - len(patient_df[patient_df.ln_event_3 == 1]) - len(patient_df[patient_df.ln_event_2 == 1]) - len(patient_df[patient_df.ln_event_1 == 1]) - len(patient_df[patient_df.ln_event_0 == 1]),patient_df.ln_event_9.sum(skipna = True))\n",
    "row = pd.Series(row)\n",
    "one_year_predictions = one_year_predictions.append(row, ignore_index = True )\n",
    "\n",
    "row = (len(patient_df) - len(patient_df[patient_df.ln_event_9 == 1]) - len(patient_df[patient_df.ln_event_8 == 1]) - len(patient_df[patient_df.ln_event_7 == 1]) - len(patient_df[patient_df.ln_event_6 == 1]) - len(patient_df[patient_df.ln_event_5 == 1]) - len(patient_df[patient_df.ln_event_4 ==1]) - len(patient_df[patient_df.ln_event_3 == 1]) - len(patient_df[patient_df.ln_event_2 == 1]) - len(patient_df[patient_df.ln_event_1 == 1]) - len(patient_df[patient_df.ln_event_0 ==1]),patient_df.ln_event_10.sum(skipna = True))\n",
    "row = pd.Series(row)\n",
    "one_year_predictions = one_year_predictions.append(row, ignore_index = True )\n",
    "\n",
    "row = (len(patient_df) - len(patient_df[patient_df.ln_event_10 == 1]) - len(patient_df[patient_df.ln_event_9 ==1]) - len(patient_df[patient_df.ln_event_8 ==1]) - len(patient_df[patient_df.ln_event_7 == 1])- len(patient_df[patient_df.ln_event_6 ==1])- len(patient_df[patient_df.ln_event_5 ==1]) - len(patient_df[patient_df.ln_event_4 ==1])- len(patient_df[patient_df.ln_event_3 ==1])- len(patient_df[patient_df.ln_event_2 ==1]) - len(patient_df[patient_df.ln_event_1 ==1]) - len(patient_df[patient_df.ln_event_0 ==1]),patient_df.ln_event_11.sum(skipna = True))\n",
    "row = pd.Series(row)\n",
    "one_year_predictions = one_year_predictions.append(row, ignore_index = True )\n",
    "\n",
    "row = (len(patient_df) - len(patient_df[patient_df.ln_event_11 == 1]) - len(patient_df[patient_df.ln_event_10 ==1]) - len(patient_df[patient_df.ln_event_9 == 1]) - len(patient_df[patient_df.ln_event_8 == 1]) - len(patient_df[patient_df.ln_event_7 ==1]) - len(patient_df[patient_df.ln_event_6 ==1]) - len(patient_df[patient_df.ln_event_5 ==1]) - len(patient_df[patient_df.ln_event_4 ==1]) - len(patient_df[patient_df.ln_event_3 == 1]) - len(patient_df[patient_df.ln_event_2 == 1]) - len(patient_df[patient_df.ln_event_1 ==1]) - len(patient_df[patient_df.ln_event_0 ==1]),patient_df.ln_event_12.sum(skipna = True))\n",
    "row = pd.Series(row)\n",
    "one_year_predictions = one_year_predictions.append(row, ignore_index = True )"
   ]
  },
  {
   "cell_type": "code",
   "execution_count": null,
   "metadata": {},
   "outputs": [],
   "source": [
    "one_year_predictions.head()"
   ]
  },
  {
   "cell_type": "code",
   "execution_count": null,
   "metadata": {},
   "outputs": [],
   "source": [
    "one_year_predictions.columns = ['sle_patients', 'ln_event_patients']"
   ]
  },
  {
   "cell_type": "code",
   "execution_count": null,
   "metadata": {},
   "outputs": [],
   "source": [
    "one_year_predictions['ln_cum'] = one_year_predictions.ln_event_patients.cumsum()"
   ]
  },
  {
   "cell_type": "code",
   "execution_count": null,
   "metadata": {},
   "outputs": [],
   "source": [
    "print(sum(patient_df.ln_event_0))\n",
    "print(patient_df.ln_event_1.sum(skipna = True))\n",
    "print(patient_df.ln_event_2.sum(skipna = True))\n",
    "print(patient_df.ln_event_3.sum(skipna = True))\n",
    "print(patient_df.ln_event_4.sum(skipna = True))\n",
    "print(patient_df.ln_event_5.sum(skipna = True))\n",
    "print(patient_df.ln_event_6.sum(skipna = True))\n",
    "print(patient_df.ln_event_7.sum(skipna = True))\n",
    "print(patient_df.ln_event_8.sum(skipna = True))\n",
    "print(patient_df.ln_event_9.sum(skipna = True))\n",
    "print(patient_df.ln_event_10.sum(skipna = True))\n",
    "print(patient_df.ln_event_11.sum(skipna = True))\n",
    "print(patient_df.ln_event_12.sum(skipna = True))"
   ]
  },
  {
   "cell_type": "code",
   "execution_count": null,
   "metadata": {},
   "outputs": [],
   "source": [
    "one_year_predictions"
   ]
  },
  {
   "cell_type": "code",
   "execution_count": null,
   "metadata": {},
   "outputs": [],
   "source": [
    "# Number of patients who will develop LN in 1 year?\n",
    "# Number of patient who will develop LN in the next 2 years?\n",
    "# Next 3 years?\n",
    "# Next 4 years?\n",
    "# Next 5 years?\n",
    "patient_df['ln_1year'] = np.where(patient_df['time_sle_to_ln'] <= 365, 1, 0)\n",
    "patient_df['ln_2years'] = np.where(patient_df['time_sle_to_ln'] <= 730, 1, 0)\n",
    "patient_df['ln_3years'] = np.where(patient_df['time_sle_to_ln'] <= 1095, 1, 0)\n",
    "patient_df['ln_4years'] = np.where(patient_df['time_sle_to_ln'] <= 1460, 1, 0)\n",
    "patient_df['ln_5years'] = np.where(patient_df['time_sle_to_ln'] <= (365*5), 1, 0)\n",
    "patient_df['ln_6years'] = np.where(patient_df['time_sle_to_ln'] <= (365*6), 1, 0)\n",
    "patient_df['ln_7years'] = np.where(patient_df['time_sle_to_ln'] <= (365*7), 1, 0)\n",
    "patient_df['ln_8years'] = np.where(patient_df['time_sle_to_ln'] <= (365*8), 1, 0)\n",
    "patient_df['ln_9years'] = np.where(patient_df['time_sle_to_ln'] <= (365*9), 1, 0)\n",
    "patient_df['ln_10years'] = np.where(patient_df['time_sle_to_ln'] <= (365*10), 1, 0)\n",
    "patient_df['ln_11years'] = np.where(patient_df['time_sle_to_ln'] <= (365*11), 1, 0)\n",
    "patient_df['ln_12years'] = np.where(patient_df['time_sle_to_ln'] <= (365*12), 1, 0)"
   ]
  },
  {
   "cell_type": "code",
   "execution_count": null,
   "metadata": {},
   "outputs": [],
   "source": [
    "# Create dataframe\n",
    "multiple_year_predictions = pd.DataFrame()"
   ]
  },
  {
   "cell_type": "code",
   "execution_count": null,
   "metadata": {},
   "outputs": [],
   "source": [
    "row = (len(patient_df),patient_df.ln_1year.sum(skipna = True))\n",
    "row = pd.Series(row)\n",
    "multiple_year_predictions = multiple_year_predictions.append(row, ignore_index = True )"
   ]
  },
  {
   "cell_type": "code",
   "execution_count": null,
   "metadata": {},
   "outputs": [],
   "source": [
    "row = (len(patient_df),patient_df.ln_2years.sum(skipna = True))\n",
    "row = pd.Series(row)\n",
    "multiple_year_predictions = multiple_year_predictions.append(row, ignore_index = True )\n",
    "\n",
    "row = (len(patient_df),patient_df.ln_3years.sum(skipna = True))\n",
    "row = pd.Series(row)\n",
    "multiple_year_predictions = multiple_year_predictions.append(row, ignore_index = True )\n",
    "\n",
    "row = (len(patient_df),patient_df.ln_4years.sum(skipna = True))\n",
    "row = pd.Series(row)\n",
    "multiple_year_predictions = multiple_year_predictions.append(row, ignore_index = True )\n",
    "\n",
    "row = (len(patient_df),patient_df.ln_5years.sum(skipna = True))\n",
    "row = pd.Series(row)\n",
    "multiple_year_predictions = multiple_year_predictions.append(row, ignore_index = True )\n",
    "\n",
    "row = (len(patient_df),patient_df.ln_6years.sum(skipna = True))\n",
    "row = pd.Series(row)\n",
    "multiple_year_predictions = multiple_year_predictions.append(row, ignore_index = True )\n",
    "\n",
    "row = (len(patient_df),patient_df.ln_7years.sum(skipna = True))\n",
    "row = pd.Series(row)\n",
    "multiple_year_predictions = multiple_year_predictions.append(row, ignore_index = True )\n",
    "\n",
    "\n",
    "row = (len(patient_df),patient_df.ln_8years.sum(skipna = True))\n",
    "row = pd.Series(row)\n",
    "multiple_year_predictions = multiple_year_predictions.append(row, ignore_index = True )\n",
    "\n",
    "row = (len(patient_df),patient_df.ln_9years.sum(skipna = True))\n",
    "row = pd.Series(row)\n",
    "multiple_year_predictions = multiple_year_predictions.append(row, ignore_index = True )\n",
    "\n",
    "row = (len(patient_df),patient_df.ln_10years.sum(skipna = True))\n",
    "row = pd.Series(row)\n",
    "multiple_year_predictions = multiple_year_predictions.append(row, ignore_index = True )\n",
    "\n",
    "row = (len(patient_df),patient_df.ln_11years.sum(skipna = True))\n",
    "row = pd.Series(row)\n",
    "multiple_year_predictions = multiple_year_predictions.append(row, ignore_index = True )\n",
    "\n",
    "row = (len(patient_df),patient_df.ln_12years.sum(skipna = True))\n",
    "row = pd.Series(row)\n",
    "multiple_year_predictions = multiple_year_predictions.append(row, ignore_index = True )\n"
   ]
  },
  {
   "cell_type": "code",
   "execution_count": null,
   "metadata": {},
   "outputs": [],
   "source": [
    "multiple_year_predictions['year'] = np.arange(start = 1, stop = 13, step = 1)"
   ]
  },
  {
   "cell_type": "code",
   "execution_count": null,
   "metadata": {},
   "outputs": [],
   "source": [
    "multiple_year_predictions.columns = ['sle_patients', 'ln_events', 'year']"
   ]
  },
  {
   "cell_type": "code",
   "execution_count": null,
   "metadata": {},
   "outputs": [],
   "source": [
    "multiple_year_predictions"
   ]
  },
  {
   "cell_type": "code",
   "execution_count": null,
   "metadata": {},
   "outputs": [],
   "source": [
    "# Export dataframes\n",
    "multiple_year_predictions.to_csv('/home/kbechler/multiple_year_predictions_2022.csv', index = False)\n",
    "one_year_predictions.to_csv('/home/kbechler/one_year_predictions_2022.csv', index = False)"
   ]
  },
  {
   "cell_type": "markdown",
   "metadata": {},
   "source": [
    "##### Make plots"
   ]
  },
  {
   "cell_type": "code",
   "execution_count": null,
   "metadata": {},
   "outputs": [],
   "source": [
    "labels = ['index_0', 'index_1', 'index_2', 'index_3', 'index_4', 'index_5', 'index_6', 'index_7', 'index_8', \n",
    "         'index_9', 'index_10', 'index_11', 'index_12']"
   ]
  },
  {
   "cell_type": "code",
   "execution_count": null,
   "metadata": {},
   "outputs": [],
   "source": [
    "num_sle_patients = one_year_predictions.sle_patients\n",
    "num_ln_patients = one_year_predictions.ln_event_patients"
   ]
  },
  {
   "cell_type": "code",
   "execution_count": null,
   "metadata": {},
   "outputs": [],
   "source": [
    "width = 0.35\n",
    "fig, ax = plt.subplots()\n",
    "\n",
    "ax.bar(labels, num_ln_patients, width, label = \"ln_patients\")\n",
    "ax.bar(labels, num_sle_patients, width, label = \"sle_patients\", bottom = num_ln_patients)\n",
    "\n",
    "ax.set_ylabel('Number of Patients')\n",
    "ax.set_title('Patients per Cohort')\n",
    "ax.legend()\n",
    "\n",
    "\n",
    "plt.show()"
   ]
  },
  {
   "cell_type": "code",
   "execution_count": null,
   "metadata": {},
   "outputs": [],
   "source": [
    "labels = ['1year', '2years', '3years', '4years', '5years', '6years', '7years', '8years', '9years', '10years', \n",
    "         '11years', '12years']\n",
    "list(multiple_year_predictions)\n",
    "\n",
    "num_sle_patients = multiple_year_predictions['sle_patients']\n",
    "num_ln_patients = multiple_year_predictions['ln_events']\n",
    "\n",
    "width = 0.35\n",
    "\n",
    "fig, ax = plt.subplots()\n",
    "\n",
    "ax.bar(labels, num_ln_patients, width, label = \"ln_patients\")\n",
    "ax.bar(labels, num_sle_patients, width, label = \"sle_patients\", bottom = num_ln_patients)\n",
    "\n",
    "ax.set_ylabel('Number of Patients')\n",
    "ax.set_title('Patients per Cohort')\n",
    "ax.legend()\n",
    "\n",
    "\n",
    "plt.show()"
   ]
  },
  {
   "cell_type": "code",
   "execution_count": null,
   "metadata": {},
   "outputs": [],
   "source": [
    "patient_df.groupby('ln_event').count()"
   ]
  },
  {
   "cell_type": "markdown",
   "metadata": {},
   "source": [
    "### 8. Kaplan Meier Curve "
   ]
  },
  {
   "cell_type": "code",
   "execution_count": null,
   "metadata": {},
   "outputs": [],
   "source": [
    "# Get full observation window\n",
    "sql = \"select * from som-nero-nigam-starr.cdm_subset.observation_period\"\n",
    "observation_period = client.query(sql).to_dataframe()"
   ]
  },
  {
   "cell_type": "code",
   "execution_count": null,
   "metadata": {},
   "outputs": [],
   "source": [
    "len(observation_period)"
   ]
  },
  {
   "cell_type": "code",
   "execution_count": null,
   "metadata": {},
   "outputs": [],
   "source": [
    "# Merge with patient_df\n",
    "list(observation_period)"
   ]
  },
  {
   "cell_type": "code",
   "execution_count": null,
   "metadata": {},
   "outputs": [],
   "source": [
    "patient_df = pd.merge(patient_df, observation_period[['person_id', 'observation_period_end_DATE']],left_on = 'subject_id',\n",
    "                     right_on = 'person_id', how = 'inner')"
   ]
  },
  {
   "cell_type": "code",
   "execution_count": null,
   "metadata": {},
   "outputs": [],
   "source": [
    "len(patient_df)"
   ]
  },
  {
   "cell_type": "code",
   "execution_count": null,
   "metadata": {},
   "outputs": [],
   "source": [
    "# Convert to datetime\n",
    "patient_df.observation_period_end_DATE = pd.to_datetime(patient_df.observation_period_end_DATE)"
   ]
  },
  {
   "cell_type": "code",
   "execution_count": null,
   "metadata": {},
   "outputs": [],
   "source": [
    "patient_df['observation_post_sle_obs'] = pd.to_numeric((patient_df.observation_period_end_DATE - \n",
    "                                                        patient_df.cohort_start_date).dt.days, downcast = \"integer\")"
   ]
  },
  {
   "cell_type": "code",
   "execution_count": null,
   "metadata": {},
   "outputs": [],
   "source": [
    "# Create bins of size 1\n",
    "w = 1\n",
    "n = math.ceil((patient_df.observation_post_sle_obs.max() - patient_df.observation_post_sle_obs.min())/w)\n",
    "\n",
    "\n",
    "# Plot histogram of # days to SLE\n",
    "plt.figure(figsize=(12,7))\n",
    "sns.displot(patient_df['observation_post_sle_obs'], kde = False, bins = n)\n",
    "plt.title('Observation Time Post SLE', fontsize=18)\n",
    "plt.xlabel('# of Days', fontsize=16)\n",
    "plt.ylabel('# of Patients', fontsize=16)\n",
    "#plt.xlim(0,)\n",
    "plt.savefig('/home/kbechler/sle_to_end_obs.png')\n",
    "plt.show()"
   ]
  },
  {
   "cell_type": "code",
   "execution_count": null,
   "metadata": {},
   "outputs": [],
   "source": [
    "# Create \"event_date\"\n",
    "# If patient doesn't have ln diag, event date is last observation date of patient\n",
    "patient_df['event_date'] = np.where(patient_df.time_sle_to_ln.isna(), patient_df.observation_post_sle_obs,\n",
    "                                   patient_df.time_sle_to_ln)"
   ]
  },
  {
   "cell_type": "code",
   "execution_count": null,
   "metadata": {},
   "outputs": [],
   "source": [
    "patient_df.event_date.describe()"
   ]
  },
  {
   "cell_type": "code",
   "execution_count": null,
   "metadata": {},
   "outputs": [],
   "source": [
    "kmf = KaplanMeierFitter()"
   ]
  },
  {
   "cell_type": "code",
   "execution_count": null,
   "metadata": {},
   "outputs": [],
   "source": [
    "patient_df['ln_event'] = np.where(patient_df.time_sle_to_ln.isna(), 0, 1)"
   ]
  },
  {
   "cell_type": "code",
   "execution_count": null,
   "metadata": {},
   "outputs": [],
   "source": [
    "kmf.fit(durations = patient_df['event_date'], event_observed = patient_df['ln_event'])"
   ]
  },
  {
   "cell_type": "code",
   "execution_count": null,
   "metadata": {},
   "outputs": [],
   "source": [
    "kmf.event_table"
   ]
  },
  {
   "cell_type": "code",
   "execution_count": null,
   "metadata": {},
   "outputs": [],
   "source": [
    "# Plot the graph\n",
    "kmf.plot()\n",
    "plt.title(\"Kaplan-Meier Estimate\")\n",
    "plt.ylabel(\"Probability patient not diagnosed with LN\")\n",
    "plt.savefig('/home/kbechler/km_test.png')\n",
    "plt.show()\n",
    "print(\"The median survival time: \" ,kmf.median_survival_time_)"
   ]
  },
  {
   "cell_type": "code",
   "execution_count": null,
   "metadata": {},
   "outputs": [],
   "source": [
    "kmf.plot_cumulative_density()"
   ]
  },
  {
   "cell_type": "markdown",
   "metadata": {},
   "source": [
    "### 9. Export patient dataframe for labels with patients to get LN in x years "
   ]
  },
  {
   "cell_type": "code",
   "execution_count": null,
   "metadata": {},
   "outputs": [],
   "source": [
    " patient_df.head()"
   ]
  },
  {
   "cell_type": "code",
   "execution_count": null,
   "metadata": {},
   "outputs": [],
   "source": [
    "patient_df.to_csv('/home/kbechler/patient_df_labels_2022.csv', index = False)"
   ]
  }
 ],
 "metadata": {
  "kernelspec": {
   "display_name": "Python 3",
   "language": "python",
   "name": "python3"
  },
  "language_info": {
   "codemirror_mode": {
    "name": "ipython",
    "version": 3
   },
   "file_extension": ".py",
   "mimetype": "text/x-python",
   "name": "python",
   "nbconvert_exporter": "python",
   "pygments_lexer": "ipython3",
   "version": "3.8.5"
  }
 },
 "nbformat": 4,
 "nbformat_minor": 4
}
