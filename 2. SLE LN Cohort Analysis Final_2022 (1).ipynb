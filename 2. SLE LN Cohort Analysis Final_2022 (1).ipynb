{
 "cells": [
  {
   "cell_type": "markdown",
   "metadata": {},
   "source": [
    "### 1. Import and Load Packages "
   ]
  },
  {
   "cell_type": "code",
   "execution_count": 1,
   "metadata": {},
   "outputs": [],
   "source": [
    "# Load packages\n",
    "import pandas as pd\n",
    "import numpy as np\n",
    "from datetime import date\n",
    "import csv\n",
    "import re\n",
    "import datetime\n",
    "import os\n",
    "from sklearn.feature_selection import VarianceThreshold\n",
    "from pandas import read_csv\n",
    "from datetime import date\n",
    "import kaplanmeier as km\n",
    "\n",
    "import datetime\n",
    "from sklearn.decomposition import PCA\n",
    "import pylab as pl\n",
    "from itertools import cycle\n",
    "import matplotlib.pyplot as plt\n",
    "from sklearn.preprocessing import StandardScaler\n",
    "import seaborn as sns\n",
    "%matplotlib inline\n",
    "from qqman import qqman\n",
    "import pandas as pd\n",
    "from pandas_plink import read_plink\n",
    "from scipy.stats import ttest_ind\n",
    "import math\n",
    "import os\n",
    "from lifelines import KaplanMeierFitter\n",
    "from pandas import DataFrame\n",
    "import pandas as pd\n",
    "import seaborn as sns\n",
    "sns.set(color_codes=True)\n",
    "import numpy as np\n",
    "from pandas.plotting import scatter_matrix\n",
    "from sklearn import preprocessing\n",
    "from numpy import set_printoptions\n",
    "from sklearn.preprocessing import Normalizer\n",
    "from sklearn.preprocessing import Binarizer\n",
    "from sklearn.preprocessing import StandardScaler\n",
    "from sklearn import preprocessing\n",
    "from sklearn.feature_selection import SelectKBest\n",
    "from sklearn.feature_selection import chi2\n",
    "from sklearn.feature_selection import RFE\n",
    "from sklearn.linear_model import LogisticRegression\n",
    "from sklearn.decomposition import PCA\n",
    "from sklearn.ensemble import ExtraTreesClassifier\n",
    "from sklearn.model_selection import train_test_split\n",
    "from sklearn.naive_bayes import GaussianNB\n",
    "from sklearn.metrics import accuracy_score\n",
    "from sklearn.metrics import confusion_matrix\n",
    "from sklearn import datasets\n",
    "import seaborn as sns; sns.set()\n",
    "from sklearn.svm import SVC\n",
    "from sklearn import metrics\n",
    "from sklearn.metrics import classification_report, confusion_matrix\n",
    "from sklearn.ensemble import GradientBoostingClassifier\n",
    "from sklearn.preprocessing import MinMaxScaler\n",
    "#from xgboost import XGBClassifier\n",
    "from numpy import mean\n",
    "from numpy import std\n",
    "from numpy import absolute\n",
    "from pandas import read_csv\n",
    "from sklearn.model_selection import cross_val_score\n",
    "from sklearn.model_selection import RepeatedKFold\n",
    "from sklearn.linear_model import ElasticNet\n",
    "from numpy import arange\n",
    "from sklearn.model_selection import GridSearchCV\n",
    "from sklearn.metrics import precision_score, recall_score\n",
    "from sklearn.svm import SVC\n",
    "from sklearn.svm import LinearSVC\n",
    "import pandas as pd\n",
    "from google.cloud import bigquery\n",
    "import os\n",
    "import matplotlib.pyplot as plt\n",
    "import textwrap\n",
    "import re\n",
    "from tqdm import tqdm\n",
    "%matplotlib inline"
   ]
  },
  {
   "cell_type": "markdown",
   "metadata": {},
   "source": [
    "### 2. Load cohorts from BigQuery "
   ]
  },
  {
   "cell_type": "markdown",
   "metadata": {},
   "source": [
    "##### exp_2022 and out_2022"
   ]
  },
  {
   "cell_type": "code",
   "execution_count": 2,
   "metadata": {},
   "outputs": [],
   "source": [
    "user_id = 'kbechler'\n",
    "nero_gcp_project = 'som-nero-nigam-starr'\n",
    "cdm_project_id = 'som-nero-nigam-starr'\n",
    "cdm_dataset_id = 'starr_omop_cdm5_deid_20211213'\n",
    "work_project_id = 'som-nero-nigam-starr'\n",
    "work_dataset_id = f'{user_id}_explore'\n",
    "cdm_subset_dataset_id = 'cdm_subset'"
   ]
  },
  {
   "cell_type": "markdown",
   "metadata": {},
   "source": [
    "Set up connection"
   ]
  },
  {
   "cell_type": "code",
   "execution_count": 3,
   "metadata": {},
   "outputs": [],
   "source": [
    "# Use correct path whether you are local or Nero\n",
    "os.environ['GOOGLE_APPLICATION_CREDENTIALS'] = '/home/kbechler/adc.json' \n",
    "\n",
    "# Set correct Nero project\n",
    "os.environ['GCLOUD_PROJECT'] = nero_gcp_project\n",
    "client = bigquery.Client(project = work_project_id)"
   ]
  },
  {
   "cell_type": "code",
   "execution_count": 4,
   "metadata": {},
   "outputs": [
    {
     "name": "stderr",
     "output_type": "stream",
     "text": [
      "/home/kbechler/.conda/envs/env_name/lib/python3.9/site-packages/google/cloud/bigquery/client.py:461: UserWarning: Cannot create BigQuery Storage client, the dependency google-cloud-bigquery-storage is not installed.\n",
      "  warnings.warn(\n"
     ]
    }
   ],
   "source": [
    "sql = \"select * from som-nero-nigam-starr.kbechler_explore.exp_2022\"\n",
    "exp_df = client.query(sql).to_dataframe()\n",
    "\n",
    "sql = \"select * from som-nero-nigam-starr.kbechler_explore.out_2022\"\n",
    "out_df = client.query(sql).to_dataframe()"
   ]
  },
  {
   "cell_type": "code",
   "execution_count": 5,
   "metadata": {},
   "outputs": [
    {
     "name": "stdout",
     "output_type": "stream",
     "text": [
      "Number of patients in exposure cohort:  2853\n",
      "Number of patients in outcome cohort: 363\n"
     ]
    }
   ],
   "source": [
    "print(\"Number of patients in exposure cohort: \", len(exp_df))\n",
    "print(\"Number of patients in outcome cohort:\", len(out_df))"
   ]
  },
  {
   "cell_type": "markdown",
   "metadata": {},
   "source": [
    "### 3. Find first instance of LN diagnosis in positive cases"
   ]
  },
  {
   "cell_type": "code",
   "execution_count": 6,
   "metadata": {},
   "outputs": [
    {
     "name": "stderr",
     "output_type": "stream",
     "text": [
      "/home/kbechler/.conda/envs/env_name/lib/python3.9/site-packages/IPython/core/interactiveshell.py:3169: DtypeWarning: Columns (6,7,15,18) have mixed types.Specify dtype option on import or set low_memory=False.\n",
      "  has_raised = await self.run_ast_nodes(code_ast.body, cell_name,\n"
     ]
    }
   ],
   "source": [
    "# Merge with condition df\n",
    "condition_df = pd.read_csv('/home/kbechler/notebooks/data/condition_occurrence.tsv', sep='\\t')"
   ]
  },
  {
   "cell_type": "code",
   "execution_count": 7,
   "metadata": {},
   "outputs": [
    {
     "data": {
      "text/html": [
       "<div>\n",
       "<style scoped>\n",
       "    .dataframe tbody tr th:only-of-type {\n",
       "        vertical-align: middle;\n",
       "    }\n",
       "\n",
       "    .dataframe tbody tr th {\n",
       "        vertical-align: top;\n",
       "    }\n",
       "\n",
       "    .dataframe thead th {\n",
       "        text-align: right;\n",
       "    }\n",
       "</style>\n",
       "<table border=\"1\" class=\"dataframe\">\n",
       "  <thead>\n",
       "    <tr style=\"text-align: right;\">\n",
       "      <th></th>\n",
       "      <th>_condition_name</th>\n",
       "      <th>condition_occurrence_id</th>\n",
       "      <th>person_id</th>\n",
       "      <th>condition_concept_id</th>\n",
       "      <th>condition_start_DATE</th>\n",
       "      <th>condition_start_DATETIME</th>\n",
       "      <th>condition_end_DATE</th>\n",
       "      <th>condition_end_DATETIME</th>\n",
       "      <th>condition_type_concept_id</th>\n",
       "      <th>stop_reason</th>\n",
       "      <th>provider_id</th>\n",
       "      <th>visit_occurrence_id</th>\n",
       "      <th>visit_detail_id</th>\n",
       "      <th>condition_source_value</th>\n",
       "      <th>condition_source_concept_id</th>\n",
       "      <th>condition_status_source_value</th>\n",
       "      <th>condition_status_concept_id</th>\n",
       "      <th>trace_id</th>\n",
       "      <th>unit_id</th>\n",
       "      <th>load_table_id</th>\n",
       "    </tr>\n",
       "  </thead>\n",
       "  <tbody>\n",
       "    <tr>\n",
       "      <th>0</th>\n",
       "      <td>Autoimmune disease</td>\n",
       "      <td>38425473</td>\n",
       "      <td>31141055</td>\n",
       "      <td>434621</td>\n",
       "      <td>2014-07-31</td>\n",
       "      <td>2014-07-31 00:00:00</td>\n",
       "      <td>2017-06-12</td>\n",
       "      <td>2017-06-12 00:00:00</td>\n",
       "      <td>38000245</td>\n",
       "      <td>NaN</td>\n",
       "      <td>NaN</td>\n",
       "      <td>NaN</td>\n",
       "      <td>NaN</td>\n",
       "      <td>279.49</td>\n",
       "      <td>44836939</td>\n",
       "      <td>Resolved</td>\n",
       "      <td>37109701</td>\n",
       "      <td>NaN</td>\n",
       "      <td>condition.rule.1.lpch_problem_list</td>\n",
       "      <td>lpch_problem_list</td>\n",
       "    </tr>\n",
       "    <tr>\n",
       "      <th>1</th>\n",
       "      <td>Late effect of motor vehicle accident</td>\n",
       "      <td>87246961</td>\n",
       "      <td>31545787</td>\n",
       "      <td>438329</td>\n",
       "      <td>2017-10-01</td>\n",
       "      <td>2017-10-01 15:13:00</td>\n",
       "      <td>NaN</td>\n",
       "      <td>NaN</td>\n",
       "      <td>32019</td>\n",
       "      <td>NaN</td>\n",
       "      <td>NaN</td>\n",
       "      <td>117074992.0</td>\n",
       "      <td>NaN</td>\n",
       "      <td>V49.9XXS</td>\n",
       "      <td>45609521</td>\n",
       "      <td>Exempt from POA reporting</td>\n",
       "      <td>0</td>\n",
       "      <td>NaN</td>\n",
       "      <td>NaN</td>\n",
       "      <td>shc_hsp_acct_extinj_cd</td>\n",
       "    </tr>\n",
       "    <tr>\n",
       "      <th>2</th>\n",
       "      <td>Infectious mononucleosis</td>\n",
       "      <td>48416317</td>\n",
       "      <td>31140798</td>\n",
       "      <td>437784</td>\n",
       "      <td>2015-05-22</td>\n",
       "      <td>2015-05-22 00:00:00</td>\n",
       "      <td>2015-07-10</td>\n",
       "      <td>2015-07-10 00:00:00</td>\n",
       "      <td>38000245</td>\n",
       "      <td>NaN</td>\n",
       "      <td>NaN</td>\n",
       "      <td>NaN</td>\n",
       "      <td>NaN</td>\n",
       "      <td>075</td>\n",
       "      <td>44819380</td>\n",
       "      <td>Resolved</td>\n",
       "      <td>37109701</td>\n",
       "      <td>NaN</td>\n",
       "      <td>condition.rule.1.lpch_problem_list</td>\n",
       "      <td>lpch_problem_list</td>\n",
       "    </tr>\n",
       "    <tr>\n",
       "      <th>3</th>\n",
       "      <td>Disorder of muscle</td>\n",
       "      <td>50469648</td>\n",
       "      <td>31671534</td>\n",
       "      <td>137275</td>\n",
       "      <td>2015-06-27</td>\n",
       "      <td>2015-06-27 00:00:00</td>\n",
       "      <td>2018-09-04</td>\n",
       "      <td>2018-09-04 00:00:00</td>\n",
       "      <td>38000245</td>\n",
       "      <td>NaN</td>\n",
       "      <td>NaN</td>\n",
       "      <td>NaN</td>\n",
       "      <td>NaN</td>\n",
       "      <td>729.1</td>\n",
       "      <td>44831524</td>\n",
       "      <td>Resolved</td>\n",
       "      <td>37109701</td>\n",
       "      <td>NaN</td>\n",
       "      <td>condition.rule.1.lpch_problem_list</td>\n",
       "      <td>lpch_problem_list</td>\n",
       "    </tr>\n",
       "    <tr>\n",
       "      <th>4</th>\n",
       "      <td>Acute renal failure syndrome</td>\n",
       "      <td>48736185</td>\n",
       "      <td>30465198</td>\n",
       "      <td>197320</td>\n",
       "      <td>2015-06-19</td>\n",
       "      <td>2015-06-19 00:00:00</td>\n",
       "      <td>2015-08-02</td>\n",
       "      <td>2015-08-02 00:00:00</td>\n",
       "      <td>38000245</td>\n",
       "      <td>NaN</td>\n",
       "      <td>NaN</td>\n",
       "      <td>NaN</td>\n",
       "      <td>NaN</td>\n",
       "      <td>584.9</td>\n",
       "      <td>44826731</td>\n",
       "      <td>Resolved</td>\n",
       "      <td>37109701</td>\n",
       "      <td>NaN</td>\n",
       "      <td>condition.rule.1.lpch_problem_list</td>\n",
       "      <td>lpch_problem_list</td>\n",
       "    </tr>\n",
       "  </tbody>\n",
       "</table>\n",
       "</div>"
      ],
      "text/plain": [
       "                         _condition_name  condition_occurrence_id  person_id  \\\n",
       "0                     Autoimmune disease                 38425473   31141055   \n",
       "1  Late effect of motor vehicle accident                 87246961   31545787   \n",
       "2               Infectious mononucleosis                 48416317   31140798   \n",
       "3                     Disorder of muscle                 50469648   31671534   \n",
       "4           Acute renal failure syndrome                 48736185   30465198   \n",
       "\n",
       "   condition_concept_id condition_start_DATE condition_start_DATETIME  \\\n",
       "0                434621           2014-07-31      2014-07-31 00:00:00   \n",
       "1                438329           2017-10-01      2017-10-01 15:13:00   \n",
       "2                437784           2015-05-22      2015-05-22 00:00:00   \n",
       "3                137275           2015-06-27      2015-06-27 00:00:00   \n",
       "4                197320           2015-06-19      2015-06-19 00:00:00   \n",
       "\n",
       "  condition_end_DATE condition_end_DATETIME  condition_type_concept_id  \\\n",
       "0         2017-06-12    2017-06-12 00:00:00                   38000245   \n",
       "1                NaN                    NaN                      32019   \n",
       "2         2015-07-10    2015-07-10 00:00:00                   38000245   \n",
       "3         2018-09-04    2018-09-04 00:00:00                   38000245   \n",
       "4         2015-08-02    2015-08-02 00:00:00                   38000245   \n",
       "\n",
       "   stop_reason  provider_id  visit_occurrence_id  visit_detail_id  \\\n",
       "0          NaN          NaN                  NaN              NaN   \n",
       "1          NaN          NaN          117074992.0              NaN   \n",
       "2          NaN          NaN                  NaN              NaN   \n",
       "3          NaN          NaN                  NaN              NaN   \n",
       "4          NaN          NaN                  NaN              NaN   \n",
       "\n",
       "  condition_source_value  condition_source_concept_id  \\\n",
       "0                 279.49                     44836939   \n",
       "1               V49.9XXS                     45609521   \n",
       "2                    075                     44819380   \n",
       "3                  729.1                     44831524   \n",
       "4                  584.9                     44826731   \n",
       "\n",
       "  condition_status_source_value  condition_status_concept_id  trace_id  \\\n",
       "0                      Resolved                     37109701       NaN   \n",
       "1     Exempt from POA reporting                            0       NaN   \n",
       "2                      Resolved                     37109701       NaN   \n",
       "3                      Resolved                     37109701       NaN   \n",
       "4                      Resolved                     37109701       NaN   \n",
       "\n",
       "                              unit_id           load_table_id  \n",
       "0  condition.rule.1.lpch_problem_list       lpch_problem_list  \n",
       "1                                 NaN  shc_hsp_acct_extinj_cd  \n",
       "2  condition.rule.1.lpch_problem_list       lpch_problem_list  \n",
       "3  condition.rule.1.lpch_problem_list       lpch_problem_list  \n",
       "4  condition.rule.1.lpch_problem_list       lpch_problem_list  "
      ]
     },
     "execution_count": 7,
     "metadata": {},
     "output_type": "execute_result"
    }
   ],
   "source": [
    "condition_df.head()"
   ]
  },
  {
   "cell_type": "markdown",
   "metadata": {},
   "source": [
    "Confirm proper number of patients have LN condition concept id"
   ]
  },
  {
   "cell_type": "code",
   "execution_count": 8,
   "metadata": {},
   "outputs": [
    {
     "name": "stdout",
     "output_type": "stream",
     "text": [
      "Number of patients with ln condition concept: 363\n"
     ]
    }
   ],
   "source": [
    "ln_condition = condition_df[condition_df.condition_concept_id == 4285717]\n",
    "print(\"Number of patients with ln condition concept:\", ln_condition.person_id.nunique())"
   ]
  },
  {
   "cell_type": "markdown",
   "metadata": {},
   "source": [
    "Find minimum date of LN diagnosis per patient"
   ]
  },
  {
   "cell_type": "code",
   "execution_count": 9,
   "metadata": {},
   "outputs": [
    {
     "name": "stdout",
     "output_type": "stream",
     "text": [
      "363\n",
      "0\n"
     ]
    },
    {
     "data": {
      "text/html": [
       "<div>\n",
       "<style scoped>\n",
       "    .dataframe tbody tr th:only-of-type {\n",
       "        vertical-align: middle;\n",
       "    }\n",
       "\n",
       "    .dataframe tbody tr th {\n",
       "        vertical-align: top;\n",
       "    }\n",
       "\n",
       "    .dataframe thead th {\n",
       "        text-align: right;\n",
       "    }\n",
       "</style>\n",
       "<table border=\"1\" class=\"dataframe\">\n",
       "  <thead>\n",
       "    <tr style=\"text-align: right;\">\n",
       "      <th></th>\n",
       "      <th>person_id</th>\n",
       "      <th>ln_diag_date</th>\n",
       "    </tr>\n",
       "  </thead>\n",
       "  <tbody>\n",
       "    <tr>\n",
       "      <th>0</th>\n",
       "      <td>29927202</td>\n",
       "      <td>2015-12-13 00:00:00</td>\n",
       "    </tr>\n",
       "    <tr>\n",
       "      <th>1</th>\n",
       "      <td>29927432</td>\n",
       "      <td>2016-06-16 00:00:00</td>\n",
       "    </tr>\n",
       "    <tr>\n",
       "      <th>2</th>\n",
       "      <td>29929485</td>\n",
       "      <td>2016-02-27 00:00:00</td>\n",
       "    </tr>\n",
       "    <tr>\n",
       "      <th>3</th>\n",
       "      <td>29934816</td>\n",
       "      <td>2016-07-14 15:30:00</td>\n",
       "    </tr>\n",
       "    <tr>\n",
       "      <th>4</th>\n",
       "      <td>29936481</td>\n",
       "      <td>2016-08-05 00:00:00</td>\n",
       "    </tr>\n",
       "  </tbody>\n",
       "</table>\n",
       "</div>"
      ],
      "text/plain": [
       "   person_id         ln_diag_date\n",
       "0   29927202  2015-12-13 00:00:00\n",
       "1   29927432  2016-06-16 00:00:00\n",
       "2   29929485  2016-02-27 00:00:00\n",
       "3   29934816  2016-07-14 15:30:00\n",
       "4   29936481  2016-08-05 00:00:00"
      ]
     },
     "execution_count": 9,
     "metadata": {},
     "output_type": "execute_result"
    }
   ],
   "source": [
    "# Group by unique person id and min condition concept ID for LN\n",
    "ln_min = ln_condition.groupby('person_id', as_index = False)['condition_start_DATETIME'].min()\n",
    "ln_min.columns = ['person_id', 'ln_diag_date']\n",
    "print(len(ln_min))\n",
    "print(sum(ln_min.ln_diag_date.isna()))\n",
    "ln_min.head()"
   ]
  },
  {
   "cell_type": "markdown",
   "metadata": {},
   "source": [
    "### 4. Create patient level dataframe "
   ]
  },
  {
   "cell_type": "code",
   "execution_count": 10,
   "metadata": {},
   "outputs": [],
   "source": [
    "# Merge with exp cohort\n",
    "patient_df = pd.merge(exp_df, ln_min, left_on = 'subject_id', right_on = 'person_id', how = 'left')"
   ]
  },
  {
   "cell_type": "code",
   "execution_count": 11,
   "metadata": {},
   "outputs": [
    {
     "name": "stdout",
     "output_type": "stream",
     "text": [
      "2853\n"
     ]
    }
   ],
   "source": [
    "print(len(patient_df))"
   ]
  },
  {
   "cell_type": "code",
   "execution_count": 12,
   "metadata": {},
   "outputs": [
    {
     "data": {
      "text/html": [
       "<div>\n",
       "<style scoped>\n",
       "    .dataframe tbody tr th:only-of-type {\n",
       "        vertical-align: middle;\n",
       "    }\n",
       "\n",
       "    .dataframe tbody tr th {\n",
       "        vertical-align: top;\n",
       "    }\n",
       "\n",
       "    .dataframe thead th {\n",
       "        text-align: right;\n",
       "    }\n",
       "</style>\n",
       "<table border=\"1\" class=\"dataframe\">\n",
       "  <thead>\n",
       "    <tr style=\"text-align: right;\">\n",
       "      <th></th>\n",
       "      <th>cohort_definition_id</th>\n",
       "      <th>subject_id</th>\n",
       "      <th>cohort_start_date</th>\n",
       "      <th>cohort_end_date</th>\n",
       "      <th>person_id</th>\n",
       "      <th>ln_diag_date</th>\n",
       "    </tr>\n",
       "  </thead>\n",
       "  <tbody>\n",
       "    <tr>\n",
       "      <th>0</th>\n",
       "      <td>21</td>\n",
       "      <td>32209409</td>\n",
       "      <td>2011-08-12</td>\n",
       "      <td>2015-07-24</td>\n",
       "      <td>NaN</td>\n",
       "      <td>NaN</td>\n",
       "    </tr>\n",
       "    <tr>\n",
       "      <th>1</th>\n",
       "      <td>21</td>\n",
       "      <td>30924418</td>\n",
       "      <td>2011-09-27</td>\n",
       "      <td>2017-08-30</td>\n",
       "      <td>NaN</td>\n",
       "      <td>NaN</td>\n",
       "    </tr>\n",
       "    <tr>\n",
       "      <th>2</th>\n",
       "      <td>21</td>\n",
       "      <td>31008811</td>\n",
       "      <td>2010-09-16</td>\n",
       "      <td>2019-01-24</td>\n",
       "      <td>31008811.0</td>\n",
       "      <td>2016-01-28 08:58:00</td>\n",
       "    </tr>\n",
       "    <tr>\n",
       "      <th>3</th>\n",
       "      <td>21</td>\n",
       "      <td>30742058</td>\n",
       "      <td>2011-11-29</td>\n",
       "      <td>2019-10-07</td>\n",
       "      <td>NaN</td>\n",
       "      <td>NaN</td>\n",
       "    </tr>\n",
       "    <tr>\n",
       "      <th>4</th>\n",
       "      <td>21</td>\n",
       "      <td>32400899</td>\n",
       "      <td>2012-08-06</td>\n",
       "      <td>2021-03-02</td>\n",
       "      <td>NaN</td>\n",
       "      <td>NaN</td>\n",
       "    </tr>\n",
       "  </tbody>\n",
       "</table>\n",
       "</div>"
      ],
      "text/plain": [
       "   cohort_definition_id  subject_id cohort_start_date cohort_end_date  \\\n",
       "0                    21    32209409        2011-08-12      2015-07-24   \n",
       "1                    21    30924418        2011-09-27      2017-08-30   \n",
       "2                    21    31008811        2010-09-16      2019-01-24   \n",
       "3                    21    30742058        2011-11-29      2019-10-07   \n",
       "4                    21    32400899        2012-08-06      2021-03-02   \n",
       "\n",
       "    person_id         ln_diag_date  \n",
       "0         NaN                  NaN  \n",
       "1         NaN                  NaN  \n",
       "2  31008811.0  2016-01-28 08:58:00  \n",
       "3         NaN                  NaN  \n",
       "4         NaN                  NaN  "
      ]
     },
     "execution_count": 12,
     "metadata": {},
     "output_type": "execute_result"
    }
   ],
   "source": [
    "patient_df.head()"
   ]
  },
  {
   "cell_type": "code",
   "execution_count": 13,
   "metadata": {},
   "outputs": [
    {
     "data": {
      "text/plain": [
       "363"
      ]
     },
     "execution_count": 13,
     "metadata": {},
     "output_type": "execute_result"
    }
   ],
   "source": [
    "sum(patient_df.ln_diag_date.notnull())"
   ]
  },
  {
   "cell_type": "code",
   "execution_count": 16,
   "metadata": {},
   "outputs": [
    {
     "data": {
      "text/plain": [
       "cohort_definition_id             int64\n",
       "subject_id                       int64\n",
       "cohort_start_date       datetime64[ns]\n",
       "cohort_end_date                 object\n",
       "person_id                      float64\n",
       "ln_diag_date                    object\n",
       "dtype: object"
      ]
     },
     "execution_count": 16,
     "metadata": {},
     "output_type": "execute_result"
    }
   ],
   "source": [
    "patient_df.dtypes"
   ]
  },
  {
   "cell_type": "code",
   "execution_count": 17,
   "metadata": {},
   "outputs": [],
   "source": [
    "# Normalize diag data\n",
    "patient_df['cohort_start_date'] = pd.to_datetime(patient_df['cohort_start_date']).dt.normalize()\n",
    "patient_df['ln_diag_date'] = pd.to_datetime(patient_df['ln_diag_date']).dt.normalize()"
   ]
  },
  {
   "cell_type": "code",
   "execution_count": 18,
   "metadata": {},
   "outputs": [
    {
     "data": {
      "text/html": [
       "<div>\n",
       "<style scoped>\n",
       "    .dataframe tbody tr th:only-of-type {\n",
       "        vertical-align: middle;\n",
       "    }\n",
       "\n",
       "    .dataframe tbody tr th {\n",
       "        vertical-align: top;\n",
       "    }\n",
       "\n",
       "    .dataframe thead th {\n",
       "        text-align: right;\n",
       "    }\n",
       "</style>\n",
       "<table border=\"1\" class=\"dataframe\">\n",
       "  <thead>\n",
       "    <tr style=\"text-align: right;\">\n",
       "      <th></th>\n",
       "      <th>cohort_definition_id</th>\n",
       "      <th>subject_id</th>\n",
       "      <th>cohort_start_date</th>\n",
       "      <th>cohort_end_date</th>\n",
       "      <th>person_id</th>\n",
       "      <th>ln_diag_date</th>\n",
       "    </tr>\n",
       "  </thead>\n",
       "  <tbody>\n",
       "    <tr>\n",
       "      <th>0</th>\n",
       "      <td>21</td>\n",
       "      <td>32209409</td>\n",
       "      <td>2011-08-12</td>\n",
       "      <td>2015-07-24</td>\n",
       "      <td>NaN</td>\n",
       "      <td>NaT</td>\n",
       "    </tr>\n",
       "    <tr>\n",
       "      <th>1</th>\n",
       "      <td>21</td>\n",
       "      <td>30924418</td>\n",
       "      <td>2011-09-27</td>\n",
       "      <td>2017-08-30</td>\n",
       "      <td>NaN</td>\n",
       "      <td>NaT</td>\n",
       "    </tr>\n",
       "    <tr>\n",
       "      <th>2</th>\n",
       "      <td>21</td>\n",
       "      <td>31008811</td>\n",
       "      <td>2010-09-16</td>\n",
       "      <td>2019-01-24</td>\n",
       "      <td>31008811.0</td>\n",
       "      <td>2016-01-28</td>\n",
       "    </tr>\n",
       "    <tr>\n",
       "      <th>3</th>\n",
       "      <td>21</td>\n",
       "      <td>30742058</td>\n",
       "      <td>2011-11-29</td>\n",
       "      <td>2019-10-07</td>\n",
       "      <td>NaN</td>\n",
       "      <td>NaT</td>\n",
       "    </tr>\n",
       "    <tr>\n",
       "      <th>4</th>\n",
       "      <td>21</td>\n",
       "      <td>32400899</td>\n",
       "      <td>2012-08-06</td>\n",
       "      <td>2021-03-02</td>\n",
       "      <td>NaN</td>\n",
       "      <td>NaT</td>\n",
       "    </tr>\n",
       "  </tbody>\n",
       "</table>\n",
       "</div>"
      ],
      "text/plain": [
       "   cohort_definition_id  subject_id cohort_start_date cohort_end_date  \\\n",
       "0                    21    32209409        2011-08-12      2015-07-24   \n",
       "1                    21    30924418        2011-09-27      2017-08-30   \n",
       "2                    21    31008811        2010-09-16      2019-01-24   \n",
       "3                    21    30742058        2011-11-29      2019-10-07   \n",
       "4                    21    32400899        2012-08-06      2021-03-02   \n",
       "\n",
       "    person_id ln_diag_date  \n",
       "0         NaN          NaT  \n",
       "1         NaN          NaT  \n",
       "2  31008811.0   2016-01-28  \n",
       "3         NaN          NaT  \n",
       "4         NaN          NaT  "
      ]
     },
     "execution_count": 18,
     "metadata": {},
     "output_type": "execute_result"
    }
   ],
   "source": [
    "patient_df.head()"
   ]
  },
  {
   "cell_type": "markdown",
   "metadata": {},
   "source": [
    "Check to see if patients need to be removed who have had LN diag date prior to cohort start date or same as \n",
    "cohort start date"
   ]
  },
  {
   "cell_type": "code",
   "execution_count": 19,
   "metadata": {},
   "outputs": [],
   "source": [
    "# Calculate difference from first instance of SLE to first instance of LN\n",
    "patient_df['time_sle_to_ln'] = pd.to_numeric((patient_df.ln_diag_date - patient_df.cohort_start_date).dt.days, \n",
    "                                             downcast = \"integer\")"
   ]
  },
  {
   "cell_type": "code",
   "execution_count": 20,
   "metadata": {},
   "outputs": [
    {
     "data": {
      "text/plain": [
       "count     363.000000\n",
       "mean     1813.382920\n",
       "std      1215.310387\n",
       "min         1.000000\n",
       "25%       714.000000\n",
       "50%      1886.000000\n",
       "75%      2637.000000\n",
       "max      5854.000000\n",
       "Name: time_sle_to_ln, dtype: float64"
      ]
     },
     "execution_count": 20,
     "metadata": {},
     "output_type": "execute_result"
    }
   ],
   "source": [
    "patient_df.time_sle_to_ln.describe()"
   ]
  },
  {
   "cell_type": "code",
   "execution_count": 21,
   "metadata": {},
   "outputs": [
    {
     "name": "stdout",
     "output_type": "stream",
     "text": [
      "2490\n"
     ]
    }
   ],
   "source": [
    "print(sum(patient_df.time_sle_to_ln.isna()))"
   ]
  },
  {
   "cell_type": "code",
   "execution_count": 22,
   "metadata": {},
   "outputs": [
    {
     "name": "stdout",
     "output_type": "stream",
     "text": [
      "363\n"
     ]
    }
   ],
   "source": [
    "print(sum(patient_df.time_sle_to_ln > 0))"
   ]
  },
  {
   "cell_type": "code",
   "execution_count": 78,
   "metadata": {},
   "outputs": [
    {
     "data": {
      "text/plain": [
       "count     363.000000\n",
       "mean     1813.382920\n",
       "std      1215.310387\n",
       "min         1.000000\n",
       "25%       714.000000\n",
       "50%      1886.000000\n",
       "75%      2637.000000\n",
       "max      5854.000000\n",
       "Name: time_sle_to_ln, dtype: float64"
      ]
     },
     "execution_count": 78,
     "metadata": {},
     "output_type": "execute_result"
    }
   ],
   "source": [
    "patient_df.time_sle_to_ln.describe()"
   ]
  },
  {
   "cell_type": "markdown",
   "metadata": {},
   "source": [
    "### 5. Time from SLE to LN diagnosis  "
   ]
  },
  {
   "cell_type": "code",
   "execution_count": 23,
   "metadata": {},
   "outputs": [
    {
     "data": {
      "text/plain": [
       "'/home/kbechler/notebooks'"
      ]
     },
     "execution_count": 23,
     "metadata": {},
     "output_type": "execute_result"
    }
   ],
   "source": [
    "os.getcwd()"
   ]
  },
  {
   "cell_type": "code",
   "execution_count": 25,
   "metadata": {},
   "outputs": [
    {
     "data": {
      "text/plain": [
       "<Figure size 864x504 with 0 Axes>"
      ]
     },
     "metadata": {},
     "output_type": "display_data"
    },
    {
     "data": {
      "image/png": "[encoded data removed]",
      "text/plain": [
       "<Figure size 360x360 with 1 Axes>"
      ]
     },
     "metadata": {
      "needs_background": "light"
     },
     "output_type": "display_data"
    }
   ],
   "source": [
    "# Create bins of size 1\n",
    "w = 50\n",
    "n = math.ceil((patient_df.time_sle_to_ln.max() - patient_df.time_sle_to_ln.min())/w)\n",
    "\n",
    "\n",
    "# Plot histogram of # days to SLE\n",
    "plt.figure(figsize=(12,7))\n",
    "sns.displot(patient_df['time_sle_to_ln'], kde = False, bins = n)\n",
    "plt.title('Time from 1st Instance of SLE to LN Diagnosis', fontsize=18)\n",
    "plt.xlabel('# of Days', fontsize=16)\n",
    "plt.ylabel('Frequency', fontsize=16)\n",
    "plt.xlim(0,1000)\n",
    "plt.savefig('/home/kbechler/sle_to_ln.png')\n",
    "plt.show()"
   ]
  },
  {
   "cell_type": "code",
   "execution_count": 26,
   "metadata": {},
   "outputs": [
    {
     "name": "stderr",
     "output_type": "stream",
     "text": [
      "/home/kbechler/.conda/envs/env_name/lib/python3.9/site-packages/seaborn/distributions.py:2619: FutureWarning: `distplot` is a deprecated function and will be removed in a future version. Please adapt your code to use either `displot` (a figure-level function with similar flexibility) or `histplot` (an axes-level function for histograms).\n",
      "  warnings.warn(msg, FutureWarning)\n"
     ]
    },
    {
     "data": {
      "image/png": "[encoded data removed]",
      "text/plain": [
       "<Figure size 864x504 with 1 Axes>"
      ]
     },
     "metadata": {
      "needs_background": "light"
     },
     "output_type": "display_data"
    }
   ],
   "source": [
    "# Create bins of size 1\n",
    "w = 1\n",
    "n = math.ceil(((patient_df.time_sle_to_ln/365).max() - (patient_df.time_sle_to_ln/365).min())/w)\n",
    "\n",
    "\n",
    "# Plot histogram of # days to SLE\n",
    "plt.figure(figsize=(12,7))\n",
    "sns.distplot(patient_df['time_sle_to_ln']/365, kde = False, bins = n)\n",
    "plt.title('Time from SLE Diagnosis to LN Diagnosis', fontsize=18)\n",
    "plt.xlabel('# of Years', fontsize=16)\n",
    "plt.ylabel('# Number of Patients', fontsize=16)\n",
    "#plt.xlim(0,50)\n",
    "#plt.ylim = (0,1)\n",
    "plt.savefig('/home/kbechler/sle_to_ln2.png')\n",
    "plt.show()"
   ]
  },
  {
   "cell_type": "code",
   "execution_count": 27,
   "metadata": {},
   "outputs": [],
   "source": [
    "person_df = pd.read_csv('/home/kbechler/notebooks/data/person.tsv', sep='\\t')"
   ]
  },
  {
   "cell_type": "code",
   "execution_count": 28,
   "metadata": {},
   "outputs": [
    {
     "data": {
      "text/plain": [
       "2853"
      ]
     },
     "execution_count": 28,
     "metadata": {},
     "output_type": "execute_result"
    }
   ],
   "source": [
    "len(person_df)"
   ]
  },
  {
   "cell_type": "code",
   "execution_count": 29,
   "metadata": {},
   "outputs": [],
   "source": [
    "patient_df_new = pd.merge(patient_df, person_df[['person_id', 'birth_DATETIME']], left_on = 'subject_id', \n",
    "                         right_on = 'person_id', how = 'left')"
   ]
  },
  {
   "cell_type": "code",
   "execution_count": 30,
   "metadata": {},
   "outputs": [
    {
     "data": {
      "text/html": [
       "<div>\n",
       "<style scoped>\n",
       "    .dataframe tbody tr th:only-of-type {\n",
       "        vertical-align: middle;\n",
       "    }\n",
       "\n",
       "    .dataframe tbody tr th {\n",
       "        vertical-align: top;\n",
       "    }\n",
       "\n",
       "    .dataframe thead th {\n",
       "        text-align: right;\n",
       "    }\n",
       "</style>\n",
       "<table border=\"1\" class=\"dataframe\">\n",
       "  <thead>\n",
       "    <tr style=\"text-align: right;\">\n",
       "      <th></th>\n",
       "      <th>cohort_definition_id</th>\n",
       "      <th>subject_id</th>\n",
       "      <th>cohort_start_date</th>\n",
       "      <th>cohort_end_date</th>\n",
       "      <th>person_id_x</th>\n",
       "      <th>ln_diag_date</th>\n",
       "      <th>time_sle_to_ln</th>\n",
       "      <th>person_id_y</th>\n",
       "      <th>birth_DATETIME</th>\n",
       "    </tr>\n",
       "  </thead>\n",
       "  <tbody>\n",
       "    <tr>\n",
       "      <th>0</th>\n",
       "      <td>21</td>\n",
       "      <td>32209409</td>\n",
       "      <td>2011-08-12</td>\n",
       "      <td>2015-07-24</td>\n",
       "      <td>NaN</td>\n",
       "      <td>NaT</td>\n",
       "      <td>NaN</td>\n",
       "      <td>32209409</td>\n",
       "      <td>1982-10-28 00:00:00</td>\n",
       "    </tr>\n",
       "    <tr>\n",
       "      <th>1</th>\n",
       "      <td>21</td>\n",
       "      <td>30924418</td>\n",
       "      <td>2011-09-27</td>\n",
       "      <td>2017-08-30</td>\n",
       "      <td>NaN</td>\n",
       "      <td>NaT</td>\n",
       "      <td>NaN</td>\n",
       "      <td>30924418</td>\n",
       "      <td>1954-12-23 00:00:00</td>\n",
       "    </tr>\n",
       "    <tr>\n",
       "      <th>2</th>\n",
       "      <td>21</td>\n",
       "      <td>31008811</td>\n",
       "      <td>2010-09-16</td>\n",
       "      <td>2019-01-24</td>\n",
       "      <td>31008811.0</td>\n",
       "      <td>2016-01-28</td>\n",
       "      <td>1960.0</td>\n",
       "      <td>31008811</td>\n",
       "      <td>1995-01-31 00:00:00</td>\n",
       "    </tr>\n",
       "    <tr>\n",
       "      <th>3</th>\n",
       "      <td>21</td>\n",
       "      <td>30742058</td>\n",
       "      <td>2011-11-29</td>\n",
       "      <td>2019-10-07</td>\n",
       "      <td>NaN</td>\n",
       "      <td>NaT</td>\n",
       "      <td>NaN</td>\n",
       "      <td>30742058</td>\n",
       "      <td>1968-05-01 00:00:00</td>\n",
       "    </tr>\n",
       "    <tr>\n",
       "      <th>4</th>\n",
       "      <td>21</td>\n",
       "      <td>32400899</td>\n",
       "      <td>2012-08-06</td>\n",
       "      <td>2021-03-02</td>\n",
       "      <td>NaN</td>\n",
       "      <td>NaT</td>\n",
       "      <td>NaN</td>\n",
       "      <td>32400899</td>\n",
       "      <td>1948-01-11 00:00:00</td>\n",
       "    </tr>\n",
       "  </tbody>\n",
       "</table>\n",
       "</div>"
      ],
      "text/plain": [
       "   cohort_definition_id  subject_id cohort_start_date cohort_end_date  \\\n",
       "0                    21    32209409        2011-08-12      2015-07-24   \n",
       "1                    21    30924418        2011-09-27      2017-08-30   \n",
       "2                    21    31008811        2010-09-16      2019-01-24   \n",
       "3                    21    30742058        2011-11-29      2019-10-07   \n",
       "4                    21    32400899        2012-08-06      2021-03-02   \n",
       "\n",
       "   person_id_x ln_diag_date  time_sle_to_ln  person_id_y       birth_DATETIME  \n",
       "0          NaN          NaT             NaN     32209409  1982-10-28 00:00:00  \n",
       "1          NaN          NaT             NaN     30924418  1954-12-23 00:00:00  \n",
       "2   31008811.0   2016-01-28          1960.0     31008811  1995-01-31 00:00:00  \n",
       "3          NaN          NaT             NaN     30742058  1968-05-01 00:00:00  \n",
       "4          NaN          NaT             NaN     32400899  1948-01-11 00:00:00  "
      ]
     },
     "execution_count": 30,
     "metadata": {},
     "output_type": "execute_result"
    }
   ],
   "source": [
    "patient_df_new.head()"
   ]
  },
  {
   "cell_type": "code",
   "execution_count": 32,
   "metadata": {},
   "outputs": [
    {
     "data": {
      "text/plain": [
       "cohort_definition_id             int64\n",
       "subject_id                       int64\n",
       "cohort_start_date       datetime64[ns]\n",
       "cohort_end_date                 object\n",
       "person_id_x                    float64\n",
       "ln_diag_date            datetime64[ns]\n",
       "time_sle_to_ln                 float64\n",
       "person_id_y                      int64\n",
       "birth_DATETIME                  object\n",
       "dtype: object"
      ]
     },
     "execution_count": 32,
     "metadata": {},
     "output_type": "execute_result"
    }
   ],
   "source": [
    "patient_df_new.dtypes"
   ]
  },
  {
   "cell_type": "code",
   "execution_count": 33,
   "metadata": {},
   "outputs": [],
   "source": [
    "patient_df_new.birth_DATETIME = pd.to_datetime(patient_df_new.birth_DATETIME).dt.normalize()"
   ]
  },
  {
   "cell_type": "code",
   "execution_count": 34,
   "metadata": {},
   "outputs": [],
   "source": [
    "# Subtract birth_DATETIME from cohort_start_date to get age of patient in years\n",
    "patient_df_new['age'] = pd.to_numeric((patient_df_new.cohort_start_date - patient_df_new.birth_DATETIME).dt.days, \n",
    "downcast = 'integer')"
   ]
  },
  {
   "cell_type": "code",
   "execution_count": 35,
   "metadata": {},
   "outputs": [
    {
     "data": {
      "text/html": [
       "<div>\n",
       "<style scoped>\n",
       "    .dataframe tbody tr th:only-of-type {\n",
       "        vertical-align: middle;\n",
       "    }\n",
       "\n",
       "    .dataframe tbody tr th {\n",
       "        vertical-align: top;\n",
       "    }\n",
       "\n",
       "    .dataframe thead th {\n",
       "        text-align: right;\n",
       "    }\n",
       "</style>\n",
       "<table border=\"1\" class=\"dataframe\">\n",
       "  <thead>\n",
       "    <tr style=\"text-align: right;\">\n",
       "      <th></th>\n",
       "      <th>cohort_definition_id</th>\n",
       "      <th>subject_id</th>\n",
       "      <th>cohort_start_date</th>\n",
       "      <th>cohort_end_date</th>\n",
       "      <th>person_id_x</th>\n",
       "      <th>ln_diag_date</th>\n",
       "      <th>time_sle_to_ln</th>\n",
       "      <th>person_id_y</th>\n",
       "      <th>birth_DATETIME</th>\n",
       "      <th>age</th>\n",
       "    </tr>\n",
       "  </thead>\n",
       "  <tbody>\n",
       "    <tr>\n",
       "      <th>0</th>\n",
       "      <td>21</td>\n",
       "      <td>32209409</td>\n",
       "      <td>2011-08-12</td>\n",
       "      <td>2015-07-24</td>\n",
       "      <td>NaN</td>\n",
       "      <td>NaT</td>\n",
       "      <td>NaN</td>\n",
       "      <td>32209409</td>\n",
       "      <td>1982-10-28</td>\n",
       "      <td>10515</td>\n",
       "    </tr>\n",
       "    <tr>\n",
       "      <th>1</th>\n",
       "      <td>21</td>\n",
       "      <td>30924418</td>\n",
       "      <td>2011-09-27</td>\n",
       "      <td>2017-08-30</td>\n",
       "      <td>NaN</td>\n",
       "      <td>NaT</td>\n",
       "      <td>NaN</td>\n",
       "      <td>30924418</td>\n",
       "      <td>1954-12-23</td>\n",
       "      <td>20732</td>\n",
       "    </tr>\n",
       "    <tr>\n",
       "      <th>2</th>\n",
       "      <td>21</td>\n",
       "      <td>31008811</td>\n",
       "      <td>2010-09-16</td>\n",
       "      <td>2019-01-24</td>\n",
       "      <td>31008811.0</td>\n",
       "      <td>2016-01-28</td>\n",
       "      <td>1960.0</td>\n",
       "      <td>31008811</td>\n",
       "      <td>1995-01-31</td>\n",
       "      <td>5707</td>\n",
       "    </tr>\n",
       "    <tr>\n",
       "      <th>3</th>\n",
       "      <td>21</td>\n",
       "      <td>30742058</td>\n",
       "      <td>2011-11-29</td>\n",
       "      <td>2019-10-07</td>\n",
       "      <td>NaN</td>\n",
       "      <td>NaT</td>\n",
       "      <td>NaN</td>\n",
       "      <td>30742058</td>\n",
       "      <td>1968-05-01</td>\n",
       "      <td>15917</td>\n",
       "    </tr>\n",
       "    <tr>\n",
       "      <th>4</th>\n",
       "      <td>21</td>\n",
       "      <td>32400899</td>\n",
       "      <td>2012-08-06</td>\n",
       "      <td>2021-03-02</td>\n",
       "      <td>NaN</td>\n",
       "      <td>NaT</td>\n",
       "      <td>NaN</td>\n",
       "      <td>32400899</td>\n",
       "      <td>1948-01-11</td>\n",
       "      <td>23584</td>\n",
       "    </tr>\n",
       "  </tbody>\n",
       "</table>\n",
       "</div>"
      ],
      "text/plain": [
       "   cohort_definition_id  subject_id cohort_start_date cohort_end_date  \\\n",
       "0                    21    32209409        2011-08-12      2015-07-24   \n",
       "1                    21    30924418        2011-09-27      2017-08-30   \n",
       "2                    21    31008811        2010-09-16      2019-01-24   \n",
       "3                    21    30742058        2011-11-29      2019-10-07   \n",
       "4                    21    32400899        2012-08-06      2021-03-02   \n",
       "\n",
       "   person_id_x ln_diag_date  time_sle_to_ln  person_id_y birth_DATETIME    age  \n",
       "0          NaN          NaT             NaN     32209409     1982-10-28  10515  \n",
       "1          NaN          NaT             NaN     30924418     1954-12-23  20732  \n",
       "2   31008811.0   2016-01-28          1960.0     31008811     1995-01-31   5707  \n",
       "3          NaN          NaT             NaN     30742058     1968-05-01  15917  \n",
       "4          NaN          NaT             NaN     32400899     1948-01-11  23584  "
      ]
     },
     "execution_count": 35,
     "metadata": {},
     "output_type": "execute_result"
    }
   ],
   "source": [
    "patient_df_new.head()"
   ]
  },
  {
   "cell_type": "code",
   "execution_count": 36,
   "metadata": {},
   "outputs": [
    {
     "name": "stderr",
     "output_type": "stream",
     "text": [
      "/home/kbechler/.conda/envs/env_name/lib/python3.9/site-packages/seaborn/distributions.py:2619: FutureWarning: `distplot` is a deprecated function and will be removed in a future version. Please adapt your code to use either `displot` (a figure-level function with similar flexibility) or `histplot` (an axes-level function for histograms).\n",
      "  warnings.warn(msg, FutureWarning)\n"
     ]
    },
    {
     "data": {
      "image/png": "[encoded data removed]",
      "text/plain": [
       "<Figure size 864x504 with 1 Axes>"
      ]
     },
     "metadata": {
      "needs_background": "light"
     },
     "output_type": "display_data"
    }
   ],
   "source": [
    "plt.figure(figsize=(12,7))\n",
    "sns.distplot(patient_df_new['age']/365, kde = False)\n",
    "plt.title('Age at SLE Diagnosis', fontsize=18)\n",
    "plt.xlabel('# of Years', fontsize=16)\n",
    "plt.ylabel('# of Patients', fontsize=16)\n",
    "plt.axvline((patient_df_new['age']/365).mean(), color='k', linestyle='dashed', linewidth=1)\n",
    "min_ylim, max_ylim = plt.ylim()\n",
    "plt.text((patient_df_new['age']/365).mean()*1.1, max_ylim*0.9, 'Mean: {:.2f}'.format((patient_df_new['age']/365).mean()))\n",
    "plt.savefig('/home/kbechler/sle_age.png')\n",
    "plt.show()"
   ]
  },
  {
   "cell_type": "markdown",
   "metadata": {},
   "source": [
    "### 6. Create Venn Diagram for SLE Cohort looking at condition vs. ICD vs. notes "
   ]
  },
  {
   "cell_type": "markdown",
   "metadata": {},
   "source": [
    "##### Original exposure cohort with sql from ATLAS "
   ]
  },
  {
   "cell_type": "code",
   "execution_count": 37,
   "metadata": {},
   "outputs": [],
   "source": [
    "user_id = 'kbechler'\n",
    "nero_gcp_project = 'som-nero-nigam-starr'\n",
    "cdm_project_id = 'som-nero-nigam-starr'\n",
    "cdm_dataset_id = 'starr_omop_cdm5_deid_20211213'\n",
    "work_project_id = 'som-nero-nigam-starr'\n",
    "work_dataset_id = f'{user_id}_explore'\n",
    "cdm_subset_dataset_id = 'cdm_subset'\n",
    "cohort_table_id = 'exp_cohort'\n",
    "cohort_id = 21"
   ]
  },
  {
   "cell_type": "code",
   "execution_count": 38,
   "metadata": {},
   "outputs": [
    {
     "name": "stderr",
     "output_type": "stream",
     "text": [
      "/home/kbechler/.conda/envs/env_name/lib/python3.9/site-packages/google/cloud/bigquery/client.py:461: UserWarning: Cannot create BigQuery Storage client, the dependency google-cloud-bigquery-storage is not installed.\n",
      "  warnings.warn(\n"
     ]
    }
   ],
   "source": [
    "sql = \"select * from som-nero-nigam-starr.kbechler_explore.exp_cohort\"\n",
    "atlas_exp_cohort = client.query(sql).to_dataframe()"
   ]
  },
  {
   "cell_type": "code",
   "execution_count": 39,
   "metadata": {},
   "outputs": [],
   "source": [
    "import matplotlib_venn as venn\n",
    "from matplotlib_venn import venn3\n",
    "from matplotlib_venn import venn2"
   ]
  },
  {
   "cell_type": "code",
   "execution_count": 40,
   "metadata": {},
   "outputs": [],
   "source": [
    "# Filter to person_id by condition_occurrence SLE per STARR_OMOP\n",
    "# Condition codes\n",
    "# 4055640: Lung disease with systemic lupus erythematosus\n",
    "# 4344158: Systemic lupus erythematosus with organ/system involvement\n",
    "# 4285717: SLE glomerulopehritis syndrome\n",
    "# 4063581: Drug-induced systemic lupus erythematosus\n",
    "# 4149913: Systemic lupus erythematosus with pericarditis\n",
    "# 257628: Systemic lupus erythematosus"
   ]
  },
  {
   "cell_type": "code",
   "execution_count": 41,
   "metadata": {},
   "outputs": [],
   "source": [
    "# Condition occurrence of SLE\n",
    "# Mapped and descendants\n",
    "sle_condition_list = [4055640, 4344158, 4285717 , 4063581, 4149913, 257628]"
   ]
  },
  {
   "cell_type": "code",
   "execution_count": 42,
   "metadata": {},
   "outputs": [],
   "source": [
    "# Read in data from condition occurrence table\n",
    "sql = \"\"\"SELECT * \n",
    "FROM `som-nero-nigam-starr.starr_omop_cdm5_deid_20211213.condition_occurrence`\n",
    "WHERE condition_concept_id IN (4055640, 4344158, 4285717 , 4063581, 4149913, 257628)\"\"\"\n",
    "sle_condition = client.query(sql).to_dataframe()"
   ]
  },
  {
   "cell_type": "code",
   "execution_count": 43,
   "metadata": {},
   "outputs": [],
   "source": [
    "# Count how many times each patient has condition occurrence associated with SLE\n",
    "sle_condition_count = sle_condition.groupby(['person_id'], as_index = False).agg({\n",
    "    'condition_occurrence_id': 'count'\n",
    "})"
   ]
  },
  {
   "cell_type": "code",
   "execution_count": 44,
   "metadata": {},
   "outputs": [
    {
     "data": {
      "image/png": "[encoded data removed]",
      "text/plain": [
       "<Figure size 864x504 with 1 Axes>"
      ]
     },
     "metadata": {
      "needs_background": "light"
     },
     "output_type": "display_data"
    }
   ],
   "source": [
    "# Draw histogram\n",
    "# Create bins\n",
    "w = 1\n",
    "n = math.ceil((sle_condition_count.condition_occurrence_id.max() - sle_condition_count.condition_occurrence_id.min())/w)\n",
    "\n",
    "\n",
    "# Plot histogram\n",
    "plt.figure(figsize = (12, 7))\n",
    "sns.histplot(sle_condition_count['condition_occurrence_id'], kde = False, color = 'c' , bins = n)\n",
    "plt.title('# SLE Condition Occurrences Per Patient')\n",
    "plt.xlabel('Number of Condition Occurrence Instances')\n",
    "plt.ylabel('Frequency')\n",
    "plt.xlim(0,50)\n",
    "plt.show()"
   ]
  },
  {
   "cell_type": "code",
   "execution_count": 45,
   "metadata": {},
   "outputs": [
    {
     "name": "stdout",
     "output_type": "stream",
     "text": [
      "Number of patients with SLE condition occurrence <= 1: 1080\n",
      "Number of patients with SLE condition occurrence > 1: 5351\n"
     ]
    }
   ],
   "source": [
    "print(\"Number of patients with SLE condition occurrence <= 1:\", sum(sle_condition_count.condition_occurrence_id <=1))\n",
    "print(\"Number of patients with SLE condition occurrence > 1:\", sum(sle_condition_count.condition_occurrence_id >1))"
   ]
  },
  {
   "cell_type": "code",
   "execution_count": 46,
   "metadata": {},
   "outputs": [
    {
     "name": "stderr",
     "output_type": "stream",
     "text": [
      "/home/kbechler/.conda/envs/env_name/lib/python3.9/site-packages/google/cloud/bigquery/client.py:461: UserWarning: Cannot create BigQuery Storage client, the dependency google-cloud-bigquery-storage is not installed.\n",
      "  warnings.warn(\n"
     ]
    }
   ],
   "source": [
    "# Filter to person_id by ICD9/ICD10 diagnoses\n",
    "# ICD10 = M32.9\n",
    "# ICD9 = 710.0\n",
    "\n",
    "# Read data from condition occurrence table\n",
    "sql = \"\"\"SELECT * \n",
    "FROM `som-nero-nigam-starr.starr_omop_cdm5_deid_20211213.condition_occurrence`\n",
    "WHERE condition_source_value IN ('M32.9', '710.0')\"\"\"\n",
    "sle_icd = client.query(sql).to_dataframe()"
   ]
  },
  {
   "cell_type": "code",
   "execution_count": 47,
   "metadata": {},
   "outputs": [
    {
     "name": "stdout",
     "output_type": "stream",
     "text": [
      "Number of unique patients with ICD occurrence: 5976\n"
     ]
    }
   ],
   "source": [
    "print(\"Number of unique patients with ICD occurrence:\", len(sle_icd.person_id.unique()))"
   ]
  },
  {
   "cell_type": "code",
   "execution_count": 48,
   "metadata": {},
   "outputs": [],
   "source": [
    "# Count number of times ICD code occurs per patient\n",
    "sle_icd_count = sle_icd.groupby(['person_id'], as_index = False).agg({\n",
    "    'condition_source_value': 'count'\n",
    "})"
   ]
  },
  {
   "cell_type": "code",
   "execution_count": 49,
   "metadata": {},
   "outputs": [
    {
     "data": {
      "text/html": [
       "<div>\n",
       "<style scoped>\n",
       "    .dataframe tbody tr th:only-of-type {\n",
       "        vertical-align: middle;\n",
       "    }\n",
       "\n",
       "    .dataframe tbody tr th {\n",
       "        vertical-align: top;\n",
       "    }\n",
       "\n",
       "    .dataframe thead th {\n",
       "        text-align: right;\n",
       "    }\n",
       "</style>\n",
       "<table border=\"1\" class=\"dataframe\">\n",
       "  <thead>\n",
       "    <tr style=\"text-align: right;\">\n",
       "      <th></th>\n",
       "      <th>person_id</th>\n",
       "      <th>condition_source_value</th>\n",
       "    </tr>\n",
       "  </thead>\n",
       "  <tbody>\n",
       "    <tr>\n",
       "      <th>0</th>\n",
       "      <td>29923372</td>\n",
       "      <td>301</td>\n",
       "    </tr>\n",
       "    <tr>\n",
       "      <th>1</th>\n",
       "      <td>29924282</td>\n",
       "      <td>10</td>\n",
       "    </tr>\n",
       "    <tr>\n",
       "      <th>2</th>\n",
       "      <td>29925496</td>\n",
       "      <td>1</td>\n",
       "    </tr>\n",
       "    <tr>\n",
       "      <th>3</th>\n",
       "      <td>29927014</td>\n",
       "      <td>72</td>\n",
       "    </tr>\n",
       "    <tr>\n",
       "      <th>4</th>\n",
       "      <td>29927175</td>\n",
       "      <td>26</td>\n",
       "    </tr>\n",
       "  </tbody>\n",
       "</table>\n",
       "</div>"
      ],
      "text/plain": [
       "   person_id  condition_source_value\n",
       "0   29923372                     301\n",
       "1   29924282                      10\n",
       "2   29925496                       1\n",
       "3   29927014                      72\n",
       "4   29927175                      26"
      ]
     },
     "execution_count": 49,
     "metadata": {},
     "output_type": "execute_result"
    }
   ],
   "source": [
    "sle_icd_count.head()"
   ]
  },
  {
   "cell_type": "code",
   "execution_count": 50,
   "metadata": {},
   "outputs": [
    {
     "name": "stdout",
     "output_type": "stream",
     "text": [
      "Number of patients with <= 1 ICD SLE mention: 1129\n",
      "Number of patients with > 1 ICD SLE mention: 4847\n"
     ]
    }
   ],
   "source": [
    "print(\"Number of patients with <= 1 ICD SLE mention:\", sum(sle_icd_count.condition_source_value <= 1))\n",
    "print(\"Number of patients with > 1 ICD SLE mention:\", sum(sle_icd_count.condition_source_value > 1))"
   ]
  },
  {
   "cell_type": "code",
   "execution_count": 51,
   "metadata": {},
   "outputs": [
    {
     "data": {
      "image/png": "[encoded data removed]",
      "text/plain": [
       "<Figure size 864x504 with 1 Axes>"
      ]
     },
     "metadata": {
      "needs_background": "light"
     },
     "output_type": "display_data"
    }
   ],
   "source": [
    "# Draw histogram\n",
    "# Create bins\n",
    "w = 1\n",
    "n = math.ceil((sle_icd_count.condition_source_value.max() - sle_icd_count.condition_source_value.min())/w)\n",
    "\n",
    "\n",
    "# Plot histogram\n",
    "plt.figure(figsize = (12, 7))\n",
    "sns.histplot(sle_icd_count['condition_source_value'], kde = False, color = 'c' , bins = n)\n",
    "plt.title('# SLE ICD9/10 Per Patient')\n",
    "plt.xlabel('Number of ICD Diag Instances')\n",
    "plt.ylabel('Frequency')\n",
    "plt.xlim(0,50)\n",
    "plt.show()"
   ]
  },
  {
   "cell_type": "code",
   "execution_count": 52,
   "metadata": {},
   "outputs": [],
   "source": [
    "# Create Venn Diagram\n",
    "def venn_diagram(condition, icd, labels = ['condition', 'icd']):\n",
    "    \n",
    "    a = list(set(condition))\n",
    "    b = list(set(icd))\n",
    "\n",
    "    only_a = len([x for x in a if x not in b])\n",
    "    only_b = len([x for x in b if x not in a])\n",
    "    print(only_a)\n",
    "    print(only_b)\n",
    "    \n",
    "    a_b = len(np.intersect1d(a, b))\n",
    "    print(a_b)\n",
    "    \n",
    "    venn2(subsets = (only_a, only_b, a_b), set_labels=labels)"
   ]
  },
  {
   "cell_type": "code",
   "execution_count": 53,
   "metadata": {},
   "outputs": [
    {
     "name": "stdout",
     "output_type": "stream",
     "text": [
      "455\n",
      "0\n",
      "5976\n"
     ]
    },
    {
     "data": {
      "image/png": "[encoded data removed]",
      "text/plain": [
       "<Figure size 432x288 with 1 Axes>"
      ]
     },
     "metadata": {},
     "output_type": "display_data"
    }
   ],
   "source": [
    "venn_diagram(sle_condition.person_id,sle_icd.person_id)\n",
    "plt.savefig('/home/kbechler/VennDiagram2_4_5.png')\n",
    "plt.show()"
   ]
  },
  {
   "cell_type": "code",
   "execution_count": 54,
   "metadata": {},
   "outputs": [
    {
     "data": {
      "text/html": [
       "<div>\n",
       "<style scoped>\n",
       "    .dataframe tbody tr th:only-of-type {\n",
       "        vertical-align: middle;\n",
       "    }\n",
       "\n",
       "    .dataframe tbody tr th {\n",
       "        vertical-align: top;\n",
       "    }\n",
       "\n",
       "    .dataframe thead th {\n",
       "        text-align: right;\n",
       "    }\n",
       "</style>\n",
       "<table border=\"1\" class=\"dataframe\">\n",
       "  <thead>\n",
       "    <tr style=\"text-align: right;\">\n",
       "      <th></th>\n",
       "      <th>cohort_definition_id</th>\n",
       "      <th>subject_id</th>\n",
       "      <th>cohort_start_date</th>\n",
       "      <th>cohort_end_date</th>\n",
       "      <th>person_id</th>\n",
       "      <th>ln_diag_date</th>\n",
       "      <th>time_sle_to_ln</th>\n",
       "    </tr>\n",
       "  </thead>\n",
       "  <tbody>\n",
       "    <tr>\n",
       "      <th>0</th>\n",
       "      <td>21</td>\n",
       "      <td>32209409</td>\n",
       "      <td>2011-08-12</td>\n",
       "      <td>2015-07-24</td>\n",
       "      <td>NaN</td>\n",
       "      <td>NaT</td>\n",
       "      <td>NaN</td>\n",
       "    </tr>\n",
       "    <tr>\n",
       "      <th>1</th>\n",
       "      <td>21</td>\n",
       "      <td>30924418</td>\n",
       "      <td>2011-09-27</td>\n",
       "      <td>2017-08-30</td>\n",
       "      <td>NaN</td>\n",
       "      <td>NaT</td>\n",
       "      <td>NaN</td>\n",
       "    </tr>\n",
       "    <tr>\n",
       "      <th>2</th>\n",
       "      <td>21</td>\n",
       "      <td>31008811</td>\n",
       "      <td>2010-09-16</td>\n",
       "      <td>2019-01-24</td>\n",
       "      <td>31008811.0</td>\n",
       "      <td>2016-01-28</td>\n",
       "      <td>1960.0</td>\n",
       "    </tr>\n",
       "    <tr>\n",
       "      <th>3</th>\n",
       "      <td>21</td>\n",
       "      <td>30742058</td>\n",
       "      <td>2011-11-29</td>\n",
       "      <td>2019-10-07</td>\n",
       "      <td>NaN</td>\n",
       "      <td>NaT</td>\n",
       "      <td>NaN</td>\n",
       "    </tr>\n",
       "    <tr>\n",
       "      <th>4</th>\n",
       "      <td>21</td>\n",
       "      <td>32400899</td>\n",
       "      <td>2012-08-06</td>\n",
       "      <td>2021-03-02</td>\n",
       "      <td>NaN</td>\n",
       "      <td>NaT</td>\n",
       "      <td>NaN</td>\n",
       "    </tr>\n",
       "  </tbody>\n",
       "</table>\n",
       "</div>"
      ],
      "text/plain": [
       "   cohort_definition_id  subject_id cohort_start_date cohort_end_date  \\\n",
       "0                    21    32209409        2011-08-12      2015-07-24   \n",
       "1                    21    30924418        2011-09-27      2017-08-30   \n",
       "2                    21    31008811        2010-09-16      2019-01-24   \n",
       "3                    21    30742058        2011-11-29      2019-10-07   \n",
       "4                    21    32400899        2012-08-06      2021-03-02   \n",
       "\n",
       "    person_id ln_diag_date  time_sle_to_ln  \n",
       "0         NaN          NaT             NaN  \n",
       "1         NaN          NaT             NaN  \n",
       "2  31008811.0   2016-01-28          1960.0  \n",
       "3         NaN          NaT             NaN  \n",
       "4         NaN          NaT             NaN  "
      ]
     },
     "execution_count": 54,
     "metadata": {},
     "output_type": "execute_result"
    }
   ],
   "source": [
    "patient_df.head()"
   ]
  },
  {
   "cell_type": "code",
   "execution_count": 55,
   "metadata": {},
   "outputs": [
    {
     "data": {
      "image/png": "[encoded data removed]",
      "text/plain": [
       "<Figure size 432x288 with 1 Axes>"
      ]
     },
     "metadata": {},
     "output_type": "display_data"
    }
   ],
   "source": [
    "# Build 3 category venn diagram\n",
    "def venn_diagram(condition, icd, notes, labels = ['SLE Condition Occurrence', 'SLE ICD-9/ICD-9 Diags', 'SLE Clinical Notes']):\n",
    "    a = list(set(condition))\n",
    "    b = list(set(icd))\n",
    "    c = list(set(notes))\n",
    "    \n",
    "    only_a = len([x for x in a if x not in b+c])\n",
    "    only_b = len([x for x in b if x not in a+c])\n",
    "    only_c = len([x for x in c if x not in a+b])\n",
    "    \n",
    "    a_b = len(np.intersect1d(a,b))\n",
    "    a_c = len(np.intersect1d(a,c))\n",
    "    b_c = len(np.intersect1d(b,c))\n",
    "    \n",
    "    a_b_c = len([x for x in a if (x in b) and (x in c)])\n",
    "    venn3(subsets = (only_a, only_b, a_b, only_c, a_c, b_c, a_b_c), set_labels=labels)   \n",
    "    \n",
    "\n",
    "venn_diagram([1, 2], [1, 2, 3, 4], [1, 2, 3])"
   ]
  },
  {
   "cell_type": "code",
   "execution_count": 56,
   "metadata": {},
   "outputs": [
    {
     "data": {
      "image/png": "[encoded data removed]",
      "text/plain": [
       "<Figure size 432x288 with 1 Axes>"
      ]
     },
     "metadata": {},
     "output_type": "display_data"
    }
   ],
   "source": [
    "venn_diagram(sle_condition.person_id,sle_icd.person_id, patient_df.subject_id)\n",
    "plt.savefig('/home/kbechler/VennDiagram_3_31.png')\n",
    "plt.show()"
   ]
  },
  {
   "cell_type": "markdown",
   "metadata": {},
   "source": [
    "### 7. Look at patient numbers for multiple prediction models vs. survival model or single prediction model "
   ]
  },
  {
   "cell_type": "code",
   "execution_count": 57,
   "metadata": {},
   "outputs": [
    {
     "name": "stdout",
     "output_type": "stream",
     "text": [
      "Number of SLE patients: 2853\n",
      "Number of LN patients: 363\n"
     ]
    }
   ],
   "source": [
    "# Multiple predictions fixed interval\n",
    "# Current patient dataframe\n",
    "print(\"Number of SLE patients:\", len(patient_df))\n",
    "print(\"Number of LN patients:\", len(patient_df[patient_df.ln_diag_date.notna()]))"
   ]
  },
  {
   "cell_type": "code",
   "execution_count": 58,
   "metadata": {},
   "outputs": [],
   "source": [
    "# Create index 0 date = first instance of SLE diagnosis\n",
    "patient_df['index_0'] = patient_df['cohort_start_date']"
   ]
  },
  {
   "cell_type": "code",
   "execution_count": 59,
   "metadata": {},
   "outputs": [],
   "source": [
    "patient_df['ln_event_0'] = np.where(patient_df['time_sle_to_ln'] <= 365, 1, 0)"
   ]
  },
  {
   "cell_type": "code",
   "execution_count": 60,
   "metadata": {},
   "outputs": [
    {
     "data": {
      "text/plain": [
       "63"
      ]
     },
     "execution_count": 60,
     "metadata": {},
     "output_type": "execute_result"
    }
   ],
   "source": [
    "sum(patient_df.ln_event_0)"
   ]
  },
  {
   "cell_type": "code",
   "execution_count": 61,
   "metadata": {},
   "outputs": [],
   "source": [
    "from datetime import datetime, timedelta"
   ]
  },
  {
   "cell_type": "code",
   "execution_count": 62,
   "metadata": {},
   "outputs": [],
   "source": [
    "# Create index 1 date = 1 year from first instance of SLE diagnosis\n",
    "patient_df['index_1'] = patient_df['index_0'] + timedelta(days = 365)"
   ]
  },
  {
   "cell_type": "code",
   "execution_count": 63,
   "metadata": {},
   "outputs": [],
   "source": [
    "patient_df['ln_event_1'] = np.where((patient_df['time_sle_to_ln'] > 365) & (patient_df['time_sle_to_ln'] <= 730), 1, 0)\n",
    "patient_df['ln_event_1'] = np.where((patient_df['ln_event_0'] == 1), np.nan, patient_df['ln_event_1'])"
   ]
  },
  {
   "cell_type": "code",
   "execution_count": 64,
   "metadata": {},
   "outputs": [
    {
     "name": "stdout",
     "output_type": "stream",
     "text": [
      "29.0\n",
      "2761\n",
      "63\n"
     ]
    }
   ],
   "source": [
    "print(patient_df.ln_event_1.sum(skipna = True))\n",
    "print(len(patient_df[patient_df.ln_event_1 == 0]))\n",
    "print(sum(patient_df.ln_event_1.isna()))"
   ]
  },
  {
   "cell_type": "code",
   "execution_count": 65,
   "metadata": {},
   "outputs": [],
   "source": [
    "patient_df['index_2'] = patient_df['index_1'] + timedelta(days = 365)\n",
    "patient_df['index_3'] = patient_df['index_2'] + timedelta(days = 365)\n",
    "patient_df['index_4'] = patient_df['index_3'] + timedelta(days = 365)\n",
    "patient_df['index_5'] = patient_df['index_4'] + timedelta(days = 365)"
   ]
  },
  {
   "cell_type": "code",
   "execution_count": 66,
   "metadata": {},
   "outputs": [],
   "source": [
    "patient_df['index_6'] = patient_df['index_5'] + timedelta(days = 365)\n",
    "patient_df['index_7'] = patient_df['index_6'] + timedelta(days = 365)\n",
    "patient_df['index_8'] = patient_df['index_7'] + timedelta(days = 365)\n",
    "patient_df['index_9'] = patient_df['index_8'] + timedelta(days = 365)"
   ]
  },
  {
   "cell_type": "code",
   "execution_count": 67,
   "metadata": {},
   "outputs": [],
   "source": [
    "patient_df['ln_event_2'] = np.where((patient_df['time_sle_to_ln'] > 730) & (patient_df['time_sle_to_ln'] <= 1095), 1, 0)\n",
    "patient_df['ln_event_2'] = np.where((patient_df['ln_event_1'] == 1) | (patient_df['ln_event_0'] == 1), np.nan,patient_df['ln_event_2'])\n",
    "\n",
    "\n",
    "patient_df['ln_event_3'] = np.where((patient_df['time_sle_to_ln'] > 1095) & (patient_df['time_sle_to_ln'] <= 1490), 1, 0)\n",
    "patient_df['ln_event_3'] = np.where((patient_df['ln_event_2'] == 1) |(patient_df['ln_event_1'] == 1) | (patient_df['ln_event_0'] == 1), np.nan,patient_df['ln_event_3'])\n",
    "\n",
    "patient_df['ln_event_4'] = np.where((patient_df['time_sle_to_ln'] > 1490) & (patient_df['time_sle_to_ln'] <= 1825), 1, 0)\n",
    "patient_df['ln_event_4'] = np.where((patient_df['ln_event_3'] == 1) |(patient_df['ln_event_2'] == 1) | (patient_df['ln_event_1'] == 1) | (patient_df['ln_event_0'] == 1), np.nan,patient_df['ln_event_4'])\n",
    "\n",
    "patient_df['ln_event_5'] = np.where((patient_df['time_sle_to_ln'] > 1825) & (patient_df['time_sle_to_ln'] <= 2190), 1, 0)\n",
    "patient_df['ln_event_5'] = np.where((patient_df['ln_event_4'] == 1) |(patient_df['ln_event_3'] == 1) |(patient_df['ln_event_2'] == 1) | (patient_df['ln_event_1'] == 1) | (patient_df['ln_event_0'] == 1), np.nan,patient_df['ln_event_5'])\n",
    "\n",
    "\n",
    "patient_df['ln_event_6'] = np.where((patient_df['time_sle_to_ln'] > 2190) & (patient_df['time_sle_to_ln'] <= 2555), 1, 0)\n",
    "patient_df['ln_event_6'] = np.where((patient_df['ln_event_5'] == 1) |(patient_df['ln_event_4'] == 1) |(patient_df['ln_event_3'] == 1) |(patient_df['ln_event_2'] == 1) | (patient_df['ln_event_1'] == 1) | (patient_df['ln_event_0'] == 1), np.nan,patient_df['ln_event_6'])\n",
    "\n",
    "\n",
    "patient_df['ln_event_7'] = np.where((patient_df['time_sle_to_ln'] > 2555) & (patient_df['time_sle_to_ln'] <= 2920), 1, 0)\n",
    "patient_df['ln_event_7'] = np.where((patient_df['ln_event_6'] == 1) |(patient_df['ln_event_5'] == 1) |(patient_df['ln_event_4'] == 1) |(patient_df['ln_event_3'] == 1) |(patient_df['ln_event_2'] == 1) | (patient_df['ln_event_1'] == 1) | (patient_df['ln_event_0'] == 1), np.nan,patient_df['ln_event_7'])\n",
    "\n",
    "\n",
    "patient_df['ln_event_8'] = np.where((patient_df['time_sle_to_ln'] > 2920) & (patient_df['time_sle_to_ln'] <= 3285), 1, 0)\n",
    "patient_df['ln_event_8'] = np.where((patient_df['ln_event_7'] == 1) |(patient_df['ln_event_6'] == 1) |(patient_df['ln_event_5'] == 1) |(patient_df['ln_event_4'] == 1) |(patient_df['ln_event_3'] == 1) |(patient_df['ln_event_2'] == 1) | (patient_df['ln_event_1'] == 1) | (patient_df['ln_event_0'] == 1), np.nan,patient_df['ln_event_8'])\n",
    "\n",
    "\n",
    "patient_df['ln_event_9'] = np.where((patient_df['time_sle_to_ln'] > 3285) & (patient_df['time_sle_to_ln'] <= 3650), 1, 0)\n",
    "patient_df['ln_event_9'] = np.where((patient_df['ln_event_8'] == 1) |(patient_df['ln_event_7'] == 1) |(patient_df['ln_event_6'] == 1) |(patient_df['ln_event_5'] == 1) |(patient_df['ln_event_4'] == 1) |(patient_df['ln_event_3'] == 1) |(patient_df['ln_event_2'] == 1) | (patient_df['ln_event_1'] == 1) | (patient_df['ln_event_0'] == 1), np.nan,patient_df['ln_event_9'])\n",
    "\n",
    "\n",
    "patient_df['ln_event_10'] = np.where((patient_df['time_sle_to_ln'] > 3650) & (patient_df['time_sle_to_ln'] <= 4015), 1, 0)\n",
    "patient_df['ln_event_10'] = np.where((patient_df['ln_event_9'] == 1) |(patient_df['ln_event_8'] == 1) |(patient_df['ln_event_7'] == 1) |(patient_df['ln_event_6'] == 1) |(patient_df['ln_event_5'] == 1) |(patient_df['ln_event_4'] == 1) |(patient_df['ln_event_3'] == 1) |(patient_df['ln_event_2'] == 1) | (patient_df['ln_event_1'] == 1) | (patient_df['ln_event_0'] == 1), np.nan,patient_df['ln_event_10'])\n",
    "\n",
    "\n",
    "patient_df['ln_event_11'] = np.where((patient_df['time_sle_to_ln'] > 4015) & (patient_df['time_sle_to_ln'] <= 4380), 1, 0)\n",
    "patient_df['ln_event_11'] = np.where((patient_df['ln_event_10'] == 1) |(patient_df['ln_event_9'] == 1) |(patient_df['ln_event_8'] == 1) |(patient_df['ln_event_7'] == 1) |(patient_df['ln_event_6'] == 1) |(patient_df['ln_event_5'] == 1) |(patient_df['ln_event_4'] == 1) |(patient_df['ln_event_3'] == 1) |(patient_df['ln_event_2'] == 1) | (patient_df['ln_event_1'] == 1) | (patient_df['ln_event_0'] == 1), np.nan,patient_df['ln_event_11'])\n",
    "\n",
    "\n",
    "patient_df['ln_event_12'] = np.where((patient_df['time_sle_to_ln'] > 4380) & (patient_df['time_sle_to_ln'] <= 4745), 1, 0)\n",
    "patient_df['ln_event_12'] = np.where((patient_df['ln_event_11'] == 1) |(patient_df['ln_event_10'] == 1) |(patient_df['ln_event_9'] == 1) |(patient_df['ln_event_8'] == 1) |(patient_df['ln_event_7'] == 1) |(patient_df['ln_event_6'] == 1) |(patient_df['ln_event_5'] == 1) |(patient_df['ln_event_4'] == 1) |(patient_df['ln_event_3'] == 1) |(patient_df['ln_event_2'] == 1) | (patient_df['ln_event_1'] == 1) | (patient_df['ln_event_0'] == 1), np.nan,patient_df['ln_event_12'])\n"
   ]
  },
  {
   "cell_type": "code",
   "execution_count": 68,
   "metadata": {},
   "outputs": [],
   "source": [
    "# Create dataframe\n",
    "one_year_predictions = pd.DataFrame()"
   ]
  },
  {
   "cell_type": "code",
   "execution_count": 69,
   "metadata": {},
   "outputs": [],
   "source": [
    "row = (len(patient_df),patient_df.ln_event_0.sum(skipna = True))\n",
    "row = pd.Series(row)\n",
    "one_year_predictions = one_year_predictions.append(row, ignore_index = True )"
   ]
  },
  {
   "cell_type": "code",
   "execution_count": 70,
   "metadata": {},
   "outputs": [],
   "source": [
    "row = (len(patient_df) - len(patient_df[patient_df.ln_event_0 == 1]),patient_df.ln_event_1.sum(skipna = True))\n",
    "row = pd.Series(row)\n",
    "one_year_predictions = one_year_predictions.append(row, ignore_index = True )\n",
    "\n",
    "row = (len(patient_df) - len(patient_df[patient_df.ln_event_1 == 1]) - len(patient_df[patient_df.ln_event_0 == 1]),patient_df.ln_event_2.sum(skipna = True))\n",
    "row = pd.Series(row)\n",
    "one_year_predictions = one_year_predictions.append(row, ignore_index = True )\n",
    "\n",
    "row = (len(patient_df) - len(patient_df[patient_df.ln_event_2 == 1]) - len(patient_df[patient_df.ln_event_1 == 1]) - len(patient_df[patient_df.ln_event_0 ==1]),patient_df.ln_event_3.sum(skipna = True))\n",
    "row = pd.Series(row)\n",
    "one_year_predictions = one_year_predictions.append(row, ignore_index = True )\n",
    "\n",
    "row = (len(patient_df) - len(patient_df[patient_df.ln_event_3 == 1]) - len(patient_df[patient_df.ln_event_2 ==1])- len(patient_df[patient_df.ln_event_1 == 1]) - len(patient_df[patient_df.ln_event_0 == 1]),patient_df.ln_event_4.sum(skipna = True))\n",
    "row = pd.Series(row)\n",
    "one_year_predictions = one_year_predictions.append(row, ignore_index = True )\n",
    "\n",
    "row = (len(patient_df) - len(patient_df[patient_df.ln_event_4 == 1]) - len(patient_df[patient_df.ln_event_3 == 1]) - len(patient_df[patient_df.ln_event_2 == 1]) - len(patient_df[patient_df.ln_event_1 == 1]) - len(patient_df[patient_df.ln_event_0 == 1]),patient_df.ln_event_5.sum(skipna = True))\n",
    "row = pd.Series(row)\n",
    "one_year_predictions = one_year_predictions.append(row, ignore_index = True )\n",
    "\n",
    "row = (len(patient_df) - len(patient_df[patient_df.ln_event_5 == 1]) - len(patient_df[patient_df.ln_event_4 == 1]) - len(patient_df[patient_df.ln_event_3 ==1]) - len(patient_df[patient_df.ln_event_2 ==1]) - len(patient_df[patient_df.ln_event_1 ==1]) - len(patient_df[patient_df.ln_event_0 == 1]),patient_df.ln_event_6.sum(skipna = True))\n",
    "row = pd.Series(row)\n",
    "one_year_predictions = one_year_predictions.append(row, ignore_index = True )\n",
    "\n",
    "row = (len(patient_df) - len(patient_df[patient_df.ln_event_6 == 1]) - len(patient_df[patient_df.ln_event_5 == 1]) - len(patient_df[patient_df.ln_event_4 == 1]) - len(patient_df[patient_df.ln_event_3 == 1]) - len(patient_df[patient_df.ln_event_2 == 1]) - len(patient_df[patient_df.ln_event_1 == 1]) - len(patient_df[patient_df.ln_event_0 ==1]),patient_df.ln_event_7.sum(skipna = True))\n",
    "row = pd.Series(row)\n",
    "one_year_predictions = one_year_predictions.append(row, ignore_index = True )\n",
    "\n",
    "row = (len(patient_df) - len(patient_df[patient_df.ln_event_7 == 1]) - len(patient_df[patient_df.ln_event_6 ==1]) - len(patient_df[patient_df.ln_event_5 ==1]) - len(patient_df[patient_df.ln_event_4 == 1]) - len(patient_df[patient_df.ln_event_3 == 1]) - len(patient_df[patient_df.ln_event_2 ==1]) - len(patient_df[patient_df.ln_event_1 ==1]) - len(patient_df[patient_df.ln_event_0 ==1]),patient_df.ln_event_8.sum(skipna = True))\n",
    "row = pd.Series(row)\n",
    "one_year_predictions = one_year_predictions.append(row, ignore_index = True )\n",
    "\n",
    "row = (len(patient_df) - len(patient_df[patient_df.ln_event_8 == 1]) - len(patient_df[patient_df.ln_event_7 == 1]) - len(patient_df[patient_df.ln_event_6 == 1])- len(patient_df[patient_df.ln_event_5 == 1]) - len(patient_df[patient_df.ln_event_4 == 1]) - len(patient_df[patient_df.ln_event_3 == 1]) - len(patient_df[patient_df.ln_event_2 == 1]) - len(patient_df[patient_df.ln_event_1 == 1]) - len(patient_df[patient_df.ln_event_0 == 1]),patient_df.ln_event_9.sum(skipna = True))\n",
    "row = pd.Series(row)\n",
    "one_year_predictions = one_year_predictions.append(row, ignore_index = True )\n",
    "\n",
    "row = (len(patient_df) - len(patient_df[patient_df.ln_event_9 == 1]) - len(patient_df[patient_df.ln_event_8 == 1]) - len(patient_df[patient_df.ln_event_7 == 1]) - len(patient_df[patient_df.ln_event_6 == 1]) - len(patient_df[patient_df.ln_event_5 == 1]) - len(patient_df[patient_df.ln_event_4 ==1]) - len(patient_df[patient_df.ln_event_3 == 1]) - len(patient_df[patient_df.ln_event_2 == 1]) - len(patient_df[patient_df.ln_event_1 == 1]) - len(patient_df[patient_df.ln_event_0 ==1]),patient_df.ln_event_10.sum(skipna = True))\n",
    "row = pd.Series(row)\n",
    "one_year_predictions = one_year_predictions.append(row, ignore_index = True )\n",
    "\n",
    "row = (len(patient_df) - len(patient_df[patient_df.ln_event_10 == 1]) - len(patient_df[patient_df.ln_event_9 ==1]) - len(patient_df[patient_df.ln_event_8 ==1]) - len(patient_df[patient_df.ln_event_7 == 1])- len(patient_df[patient_df.ln_event_6 ==1])- len(patient_df[patient_df.ln_event_5 ==1]) - len(patient_df[patient_df.ln_event_4 ==1])- len(patient_df[patient_df.ln_event_3 ==1])- len(patient_df[patient_df.ln_event_2 ==1]) - len(patient_df[patient_df.ln_event_1 ==1]) - len(patient_df[patient_df.ln_event_0 ==1]),patient_df.ln_event_11.sum(skipna = True))\n",
    "row = pd.Series(row)\n",
    "one_year_predictions = one_year_predictions.append(row, ignore_index = True )\n",
    "\n",
    "row = (len(patient_df) - len(patient_df[patient_df.ln_event_11 == 1]) - len(patient_df[patient_df.ln_event_10 ==1]) - len(patient_df[patient_df.ln_event_9 == 1]) - len(patient_df[patient_df.ln_event_8 == 1]) - len(patient_df[patient_df.ln_event_7 ==1]) - len(patient_df[patient_df.ln_event_6 ==1]) - len(patient_df[patient_df.ln_event_5 ==1]) - len(patient_df[patient_df.ln_event_4 ==1]) - len(patient_df[patient_df.ln_event_3 == 1]) - len(patient_df[patient_df.ln_event_2 == 1]) - len(patient_df[patient_df.ln_event_1 ==1]) - len(patient_df[patient_df.ln_event_0 ==1]),patient_df.ln_event_12.sum(skipna = True))\n",
    "row = pd.Series(row)\n",
    "one_year_predictions = one_year_predictions.append(row, ignore_index = True )"
   ]
  },
  {
   "cell_type": "code",
   "execution_count": 71,
   "metadata": {},
   "outputs": [
    {
     "data": {
      "text/html": [
       "<div>\n",
       "<style scoped>\n",
       "    .dataframe tbody tr th:only-of-type {\n",
       "        vertical-align: middle;\n",
       "    }\n",
       "\n",
       "    .dataframe tbody tr th {\n",
       "        vertical-align: top;\n",
       "    }\n",
       "\n",
       "    .dataframe thead th {\n",
       "        text-align: right;\n",
       "    }\n",
       "</style>\n",
       "<table border=\"1\" class=\"dataframe\">\n",
       "  <thead>\n",
       "    <tr style=\"text-align: right;\">\n",
       "      <th></th>\n",
       "      <th>0</th>\n",
       "      <th>1</th>\n",
       "    </tr>\n",
       "  </thead>\n",
       "  <tbody>\n",
       "    <tr>\n",
       "      <th>0</th>\n",
       "      <td>2853.0</td>\n",
       "      <td>63.0</td>\n",
       "    </tr>\n",
       "    <tr>\n",
       "      <th>1</th>\n",
       "      <td>2790.0</td>\n",
       "      <td>29.0</td>\n",
       "    </tr>\n",
       "    <tr>\n",
       "      <th>2</th>\n",
       "      <td>2761.0</td>\n",
       "      <td>26.0</td>\n",
       "    </tr>\n",
       "    <tr>\n",
       "      <th>3</th>\n",
       "      <td>2735.0</td>\n",
       "      <td>34.0</td>\n",
       "    </tr>\n",
       "    <tr>\n",
       "      <th>4</th>\n",
       "      <td>2701.0</td>\n",
       "      <td>25.0</td>\n",
       "    </tr>\n",
       "  </tbody>\n",
       "</table>\n",
       "</div>"
      ],
      "text/plain": [
       "        0     1\n",
       "0  2853.0  63.0\n",
       "1  2790.0  29.0\n",
       "2  2761.0  26.0\n",
       "3  2735.0  34.0\n",
       "4  2701.0  25.0"
      ]
     },
     "execution_count": 71,
     "metadata": {},
     "output_type": "execute_result"
    }
   ],
   "source": [
    "one_year_predictions.head()"
   ]
  },
  {
   "cell_type": "code",
   "execution_count": 72,
   "metadata": {},
   "outputs": [],
   "source": [
    "one_year_predictions.columns = ['sle_patients', 'ln_event_patients']"
   ]
  },
  {
   "cell_type": "code",
   "execution_count": 76,
   "metadata": {},
   "outputs": [],
   "source": [
    "one_year_predictions['ln_cum'] = one_year_predictions.ln_event_patients.cumsum()"
   ]
  },
  {
   "cell_type": "code",
   "execution_count": 73,
   "metadata": {},
   "outputs": [
    {
     "name": "stdout",
     "output_type": "stream",
     "text": [
      "63\n",
      "29.0\n",
      "26.0\n",
      "34.0\n",
      "25.0\n",
      "32.0\n",
      "50.0\n",
      "34.0\n",
      "30.0\n",
      "20.0\n",
      "8.0\n",
      "5.0\n",
      "5.0\n"
     ]
    }
   ],
   "source": [
    "print(sum(patient_df.ln_event_0))\n",
    "print(patient_df.ln_event_1.sum(skipna = True))\n",
    "print(patient_df.ln_event_2.sum(skipna = True))\n",
    "print(patient_df.ln_event_3.sum(skipna = True))\n",
    "print(patient_df.ln_event_4.sum(skipna = True))\n",
    "print(patient_df.ln_event_5.sum(skipna = True))\n",
    "print(patient_df.ln_event_6.sum(skipna = True))\n",
    "print(patient_df.ln_event_7.sum(skipna = True))\n",
    "print(patient_df.ln_event_8.sum(skipna = True))\n",
    "print(patient_df.ln_event_9.sum(skipna = True))\n",
    "print(patient_df.ln_event_10.sum(skipna = True))\n",
    "print(patient_df.ln_event_11.sum(skipna = True))\n",
    "print(patient_df.ln_event_12.sum(skipna = True))"
   ]
  },
  {
   "cell_type": "code",
   "execution_count": 77,
   "metadata": {},
   "outputs": [
    {
     "data": {
      "text/html": [
       "<div>\n",
       "<style scoped>\n",
       "    .dataframe tbody tr th:only-of-type {\n",
       "        vertical-align: middle;\n",
       "    }\n",
       "\n",
       "    .dataframe tbody tr th {\n",
       "        vertical-align: top;\n",
       "    }\n",
       "\n",
       "    .dataframe thead th {\n",
       "        text-align: right;\n",
       "    }\n",
       "</style>\n",
       "<table border=\"1\" class=\"dataframe\">\n",
       "  <thead>\n",
       "    <tr style=\"text-align: right;\">\n",
       "      <th></th>\n",
       "      <th>sle_patients</th>\n",
       "      <th>ln_event_patients</th>\n",
       "      <th>ln_cum</th>\n",
       "    </tr>\n",
       "  </thead>\n",
       "  <tbody>\n",
       "    <tr>\n",
       "      <th>0</th>\n",
       "      <td>2853.0</td>\n",
       "      <td>63.0</td>\n",
       "      <td>63.0</td>\n",
       "    </tr>\n",
       "    <tr>\n",
       "      <th>1</th>\n",
       "      <td>2790.0</td>\n",
       "      <td>29.0</td>\n",
       "      <td>92.0</td>\n",
       "    </tr>\n",
       "    <tr>\n",
       "      <th>2</th>\n",
       "      <td>2761.0</td>\n",
       "      <td>26.0</td>\n",
       "      <td>118.0</td>\n",
       "    </tr>\n",
       "    <tr>\n",
       "      <th>3</th>\n",
       "      <td>2735.0</td>\n",
       "      <td>34.0</td>\n",
       "      <td>152.0</td>\n",
       "    </tr>\n",
       "    <tr>\n",
       "      <th>4</th>\n",
       "      <td>2701.0</td>\n",
       "      <td>25.0</td>\n",
       "      <td>177.0</td>\n",
       "    </tr>\n",
       "    <tr>\n",
       "      <th>5</th>\n",
       "      <td>2676.0</td>\n",
       "      <td>32.0</td>\n",
       "      <td>209.0</td>\n",
       "    </tr>\n",
       "    <tr>\n",
       "      <th>6</th>\n",
       "      <td>2644.0</td>\n",
       "      <td>50.0</td>\n",
       "      <td>259.0</td>\n",
       "    </tr>\n",
       "    <tr>\n",
       "      <th>7</th>\n",
       "      <td>2594.0</td>\n",
       "      <td>34.0</td>\n",
       "      <td>293.0</td>\n",
       "    </tr>\n",
       "    <tr>\n",
       "      <th>8</th>\n",
       "      <td>2560.0</td>\n",
       "      <td>30.0</td>\n",
       "      <td>323.0</td>\n",
       "    </tr>\n",
       "    <tr>\n",
       "      <th>9</th>\n",
       "      <td>2530.0</td>\n",
       "      <td>20.0</td>\n",
       "      <td>343.0</td>\n",
       "    </tr>\n",
       "    <tr>\n",
       "      <th>10</th>\n",
       "      <td>2510.0</td>\n",
       "      <td>8.0</td>\n",
       "      <td>351.0</td>\n",
       "    </tr>\n",
       "    <tr>\n",
       "      <th>11</th>\n",
       "      <td>2502.0</td>\n",
       "      <td>5.0</td>\n",
       "      <td>356.0</td>\n",
       "    </tr>\n",
       "    <tr>\n",
       "      <th>12</th>\n",
       "      <td>2497.0</td>\n",
       "      <td>5.0</td>\n",
       "      <td>361.0</td>\n",
       "    </tr>\n",
       "  </tbody>\n",
       "</table>\n",
       "</div>"
      ],
      "text/plain": [
       "    sle_patients  ln_event_patients  ln_cum\n",
       "0         2853.0               63.0    63.0\n",
       "1         2790.0               29.0    92.0\n",
       "2         2761.0               26.0   118.0\n",
       "3         2735.0               34.0   152.0\n",
       "4         2701.0               25.0   177.0\n",
       "5         2676.0               32.0   209.0\n",
       "6         2644.0               50.0   259.0\n",
       "7         2594.0               34.0   293.0\n",
       "8         2560.0               30.0   323.0\n",
       "9         2530.0               20.0   343.0\n",
       "10        2510.0                8.0   351.0\n",
       "11        2502.0                5.0   356.0\n",
       "12        2497.0                5.0   361.0"
      ]
     },
     "execution_count": 77,
     "metadata": {},
     "output_type": "execute_result"
    }
   ],
   "source": [
    "one_year_predictions"
   ]
  },
  {
   "cell_type": "code",
   "execution_count": 79,
   "metadata": {},
   "outputs": [],
   "source": [
    "# Number of patients who will develop LN in 1 year?\n",
    "# Number of patient who will develop LN in the next 2 years?\n",
    "# Next 3 years?\n",
    "# Next 4 years?\n",
    "# Next 5 years?\n",
    "patient_df['ln_1year'] = np.where(patient_df['time_sle_to_ln'] <= 365, 1, 0)\n",
    "patient_df['ln_2years'] = np.where(patient_df['time_sle_to_ln'] <= 730, 1, 0)\n",
    "patient_df['ln_3years'] = np.where(patient_df['time_sle_to_ln'] <= 1095, 1, 0)\n",
    "patient_df['ln_4years'] = np.where(patient_df['time_sle_to_ln'] <= 1460, 1, 0)\n",
    "patient_df['ln_5years'] = np.where(patient_df['time_sle_to_ln'] <= (365*5), 1, 0)\n",
    "patient_df['ln_6years'] = np.where(patient_df['time_sle_to_ln'] <= (365*6), 1, 0)\n",
    "patient_df['ln_7years'] = np.where(patient_df['time_sle_to_ln'] <= (365*7), 1, 0)\n",
    "patient_df['ln_8years'] = np.where(patient_df['time_sle_to_ln'] <= (365*8), 1, 0)\n",
    "patient_df['ln_9years'] = np.where(patient_df['time_sle_to_ln'] <= (365*9), 1, 0)\n",
    "patient_df['ln_10years'] = np.where(patient_df['time_sle_to_ln'] <= (365*10), 1, 0)\n",
    "patient_df['ln_11years'] = np.where(patient_df['time_sle_to_ln'] <= (365*11), 1, 0)\n",
    "patient_df['ln_12years'] = np.where(patient_df['time_sle_to_ln'] <= (365*12), 1, 0)"
   ]
  },
  {
   "cell_type": "code",
   "execution_count": 80,
   "metadata": {},
   "outputs": [],
   "source": [
    "# Create dataframe\n",
    "multiple_year_predictions = pd.DataFrame()"
   ]
  },
  {
   "cell_type": "code",
   "execution_count": 81,
   "metadata": {},
   "outputs": [],
   "source": [
    "row = (len(patient_df),patient_df.ln_1year.sum(skipna = True))\n",
    "row = pd.Series(row)\n",
    "multiple_year_predictions = multiple_year_predictions.append(row, ignore_index = True )"
   ]
  },
  {
   "cell_type": "code",
   "execution_count": 82,
   "metadata": {},
   "outputs": [],
   "source": [
    "row = (len(patient_df),patient_df.ln_2years.sum(skipna = True))\n",
    "row = pd.Series(row)\n",
    "multiple_year_predictions = multiple_year_predictions.append(row, ignore_index = True )\n",
    "\n",
    "row = (len(patient_df),patient_df.ln_3years.sum(skipna = True))\n",
    "row = pd.Series(row)\n",
    "multiple_year_predictions = multiple_year_predictions.append(row, ignore_index = True )\n",
    "\n",
    "row = (len(patient_df),patient_df.ln_4years.sum(skipna = True))\n",
    "row = pd.Series(row)\n",
    "multiple_year_predictions = multiple_year_predictions.append(row, ignore_index = True )\n",
    "\n",
    "row = (len(patient_df),patient_df.ln_5years.sum(skipna = True))\n",
    "row = pd.Series(row)\n",
    "multiple_year_predictions = multiple_year_predictions.append(row, ignore_index = True )\n",
    "\n",
    "row = (len(patient_df),patient_df.ln_6years.sum(skipna = True))\n",
    "row = pd.Series(row)\n",
    "multiple_year_predictions = multiple_year_predictions.append(row, ignore_index = True )\n",
    "\n",
    "row = (len(patient_df),patient_df.ln_7years.sum(skipna = True))\n",
    "row = pd.Series(row)\n",
    "multiple_year_predictions = multiple_year_predictions.append(row, ignore_index = True )\n",
    "\n",
    "\n",
    "row = (len(patient_df),patient_df.ln_8years.sum(skipna = True))\n",
    "row = pd.Series(row)\n",
    "multiple_year_predictions = multiple_year_predictions.append(row, ignore_index = True )\n",
    "\n",
    "row = (len(patient_df),patient_df.ln_9years.sum(skipna = True))\n",
    "row = pd.Series(row)\n",
    "multiple_year_predictions = multiple_year_predictions.append(row, ignore_index = True )\n",
    "\n",
    "row = (len(patient_df),patient_df.ln_10years.sum(skipna = True))\n",
    "row = pd.Series(row)\n",
    "multiple_year_predictions = multiple_year_predictions.append(row, ignore_index = True )\n",
    "\n",
    "row = (len(patient_df),patient_df.ln_11years.sum(skipna = True))\n",
    "row = pd.Series(row)\n",
    "multiple_year_predictions = multiple_year_predictions.append(row, ignore_index = True )\n",
    "\n",
    "row = (len(patient_df),patient_df.ln_12years.sum(skipna = True))\n",
    "row = pd.Series(row)\n",
    "multiple_year_predictions = multiple_year_predictions.append(row, ignore_index = True )\n"
   ]
  },
  {
   "cell_type": "code",
   "execution_count": 87,
   "metadata": {},
   "outputs": [],
   "source": [
    "multiple_year_predictions['year'] = np.arange(start = 1, stop = 13, step = 1)"
   ]
  },
  {
   "cell_type": "code",
   "execution_count": 88,
   "metadata": {},
   "outputs": [],
   "source": [
    "multiple_year_predictions.columns = ['sle_patients', 'ln_events', 'year']"
   ]
  },
  {
   "cell_type": "code",
   "execution_count": 90,
   "metadata": {},
   "outputs": [
    {
     "data": {
      "text/html": [
       "<div>\n",
       "<style scoped>\n",
       "    .dataframe tbody tr th:only-of-type {\n",
       "        vertical-align: middle;\n",
       "    }\n",
       "\n",
       "    .dataframe tbody tr th {\n",
       "        vertical-align: top;\n",
       "    }\n",
       "\n",
       "    .dataframe thead th {\n",
       "        text-align: right;\n",
       "    }\n",
       "</style>\n",
       "<table border=\"1\" class=\"dataframe\">\n",
       "  <thead>\n",
       "    <tr style=\"text-align: right;\">\n",
       "      <th></th>\n",
       "      <th>sle_patients</th>\n",
       "      <th>ln_events</th>\n",
       "      <th>year</th>\n",
       "    </tr>\n",
       "  </thead>\n",
       "  <tbody>\n",
       "    <tr>\n",
       "      <th>0</th>\n",
       "      <td>2853.0</td>\n",
       "      <td>63.0</td>\n",
       "      <td>1</td>\n",
       "    </tr>\n",
       "    <tr>\n",
       "      <th>1</th>\n",
       "      <td>2853.0</td>\n",
       "      <td>92.0</td>\n",
       "      <td>2</td>\n",
       "    </tr>\n",
       "    <tr>\n",
       "      <th>2</th>\n",
       "      <td>2853.0</td>\n",
       "      <td>118.0</td>\n",
       "      <td>3</td>\n",
       "    </tr>\n",
       "    <tr>\n",
       "      <th>3</th>\n",
       "      <td>2853.0</td>\n",
       "      <td>148.0</td>\n",
       "      <td>4</td>\n",
       "    </tr>\n",
       "    <tr>\n",
       "      <th>4</th>\n",
       "      <td>2853.0</td>\n",
       "      <td>177.0</td>\n",
       "      <td>5</td>\n",
       "    </tr>\n",
       "    <tr>\n",
       "      <th>5</th>\n",
       "      <td>2853.0</td>\n",
       "      <td>209.0</td>\n",
       "      <td>6</td>\n",
       "    </tr>\n",
       "    <tr>\n",
       "      <th>6</th>\n",
       "      <td>2853.0</td>\n",
       "      <td>259.0</td>\n",
       "      <td>7</td>\n",
       "    </tr>\n",
       "    <tr>\n",
       "      <th>7</th>\n",
       "      <td>2853.0</td>\n",
       "      <td>293.0</td>\n",
       "      <td>8</td>\n",
       "    </tr>\n",
       "    <tr>\n",
       "      <th>8</th>\n",
       "      <td>2853.0</td>\n",
       "      <td>323.0</td>\n",
       "      <td>9</td>\n",
       "    </tr>\n",
       "    <tr>\n",
       "      <th>9</th>\n",
       "      <td>2853.0</td>\n",
       "      <td>343.0</td>\n",
       "      <td>10</td>\n",
       "    </tr>\n",
       "    <tr>\n",
       "      <th>10</th>\n",
       "      <td>2853.0</td>\n",
       "      <td>351.0</td>\n",
       "      <td>11</td>\n",
       "    </tr>\n",
       "    <tr>\n",
       "      <th>11</th>\n",
       "      <td>2853.0</td>\n",
       "      <td>356.0</td>\n",
       "      <td>12</td>\n",
       "    </tr>\n",
       "  </tbody>\n",
       "</table>\n",
       "</div>"
      ],
      "text/plain": [
       "    sle_patients  ln_events  year\n",
       "0         2853.0       63.0     1\n",
       "1         2853.0       92.0     2\n",
       "2         2853.0      118.0     3\n",
       "3         2853.0      148.0     4\n",
       "4         2853.0      177.0     5\n",
       "5         2853.0      209.0     6\n",
       "6         2853.0      259.0     7\n",
       "7         2853.0      293.0     8\n",
       "8         2853.0      323.0     9\n",
       "9         2853.0      343.0    10\n",
       "10        2853.0      351.0    11\n",
       "11        2853.0      356.0    12"
      ]
     },
     "execution_count": 90,
     "metadata": {},
     "output_type": "execute_result"
    }
   ],
   "source": [
    "multiple_year_predictions"
   ]
  },
  {
   "cell_type": "code",
   "execution_count": 91,
   "metadata": {},
   "outputs": [],
   "source": [
    "# Export dataframes\n",
    "multiple_year_predictions.to_csv('/home/kbechler/multiple_year_predictions_2022.csv', index = False)\n",
    "one_year_predictions.to_csv('/home/kbechler/one_year_predictions_2022.csv', index = False)"
   ]
  },
  {
   "cell_type": "markdown",
   "metadata": {},
   "source": [
    "##### Make plots"
   ]
  },
  {
   "cell_type": "code",
   "execution_count": 92,
   "metadata": {},
   "outputs": [],
   "source": [
    "labels = ['index_0', 'index_1', 'index_2', 'index_3', 'index_4', 'index_5', 'index_6', 'index_7', 'index_8', \n",
    "         'index_9', 'index_10', 'index_11', 'index_12']"
   ]
  },
  {
   "cell_type": "code",
   "execution_count": 93,
   "metadata": {},
   "outputs": [],
   "source": [
    "num_sle_patients = one_year_predictions.sle_patients\n",
    "num_ln_patients = one_year_predictions.ln_event_patients"
   ]
  },
  {
   "cell_type": "code",
   "execution_count": 94,
   "metadata": {},
   "outputs": [
    {
     "data": {
      "image/png": "[encoded data removed]",
      "text/plain": [
       "<Figure size 432x288 with 1 Axes>"
      ]
     },
     "metadata": {
      "needs_background": "light"
     },
     "output_type": "display_data"
    }
   ],
   "source": [
    "width = 0.35\n",
    "fig, ax = plt.subplots()\n",
    "\n",
    "ax.bar(labels, num_ln_patients, width, label = \"ln_patients\")\n",
    "ax.bar(labels, num_sle_patients, width, label = \"sle_patients\", bottom = num_ln_patients)\n",
    "\n",
    "ax.set_ylabel('Number of Patients')\n",
    "ax.set_title('Patients per Cohort')\n",
    "ax.legend()\n",
    "\n",
    "\n",
    "plt.show()"
   ]
  },
  {
   "cell_type": "code",
   "execution_count": 96,
   "metadata": {},
   "outputs": [
    {
     "data": {
      "image/png": "[encoded data removed]",
      "text/plain": [
       "<Figure size 432x288 with 1 Axes>"
      ]
     },
     "metadata": {
      "needs_background": "light"
     },
     "output_type": "display_data"
    }
   ],
   "source": [
    "labels = ['1year', '2years', '3years', '4years', '5years', '6years', '7years', '8years', '9years', '10years', \n",
    "         '11years', '12years']\n",
    "list(multiple_year_predictions)\n",
    "\n",
    "num_sle_patients = multiple_year_predictions['sle_patients']\n",
    "num_ln_patients = multiple_year_predictions['ln_events']\n",
    "\n",
    "width = 0.35\n",
    "\n",
    "fig, ax = plt.subplots()\n",
    "\n",
    "ax.bar(labels, num_ln_patients, width, label = \"ln_patients\")\n",
    "ax.bar(labels, num_sle_patients, width, label = \"sle_patients\", bottom = num_ln_patients)\n",
    "\n",
    "ax.set_ylabel('Number of Patients')\n",
    "ax.set_title('Patients per Cohort')\n",
    "ax.legend()\n",
    "\n",
    "\n",
    "plt.show()"
   ]
  },
  {
   "cell_type": "code",
   "execution_count": 116,
   "metadata": {},
   "outputs": [
    {
     "data": {
      "text/html": [
       "<div>\n",
       "<style scoped>\n",
       "    .dataframe tbody tr th:only-of-type {\n",
       "        vertical-align: middle;\n",
       "    }\n",
       "\n",
       "    .dataframe tbody tr th {\n",
       "        vertical-align: top;\n",
       "    }\n",
       "\n",
       "    .dataframe thead th {\n",
       "        text-align: right;\n",
       "    }\n",
       "</style>\n",
       "<table border=\"1\" class=\"dataframe\">\n",
       "  <thead>\n",
       "    <tr style=\"text-align: right;\">\n",
       "      <th></th>\n",
       "      <th>cohort_definition_id</th>\n",
       "      <th>subject_id</th>\n",
       "      <th>cohort_start_date</th>\n",
       "      <th>cohort_end_date</th>\n",
       "      <th>person_id_x</th>\n",
       "      <th>ln_diag_date</th>\n",
       "      <th>time_sle_to_ln</th>\n",
       "      <th>index_0</th>\n",
       "      <th>ln_event_0</th>\n",
       "      <th>index_1</th>\n",
       "      <th>...</th>\n",
       "      <th>ln_7years</th>\n",
       "      <th>ln_8years</th>\n",
       "      <th>ln_9years</th>\n",
       "      <th>ln_10years</th>\n",
       "      <th>ln_11years</th>\n",
       "      <th>ln_12years</th>\n",
       "      <th>person_id_y</th>\n",
       "      <th>observation_period_end_DATE</th>\n",
       "      <th>observation_post_sle_obs</th>\n",
       "      <th>event_date</th>\n",
       "    </tr>\n",
       "    <tr>\n",
       "      <th>ln_event</th>\n",
       "      <th></th>\n",
       "      <th></th>\n",
       "      <th></th>\n",
       "      <th></th>\n",
       "      <th></th>\n",
       "      <th></th>\n",
       "      <th></th>\n",
       "      <th></th>\n",
       "      <th></th>\n",
       "      <th></th>\n",
       "      <th></th>\n",
       "      <th></th>\n",
       "      <th></th>\n",
       "      <th></th>\n",
       "      <th></th>\n",
       "      <th></th>\n",
       "      <th></th>\n",
       "      <th></th>\n",
       "      <th></th>\n",
       "      <th></th>\n",
       "      <th></th>\n",
       "    </tr>\n",
       "  </thead>\n",
       "  <tbody>\n",
       "    <tr>\n",
       "      <th>0</th>\n",
       "      <td>2490</td>\n",
       "      <td>2490</td>\n",
       "      <td>2490</td>\n",
       "      <td>2490</td>\n",
       "      <td>0</td>\n",
       "      <td>0</td>\n",
       "      <td>0</td>\n",
       "      <td>2490</td>\n",
       "      <td>2490</td>\n",
       "      <td>2490</td>\n",
       "      <td>...</td>\n",
       "      <td>2490</td>\n",
       "      <td>2490</td>\n",
       "      <td>2490</td>\n",
       "      <td>2490</td>\n",
       "      <td>2490</td>\n",
       "      <td>2490</td>\n",
       "      <td>2490</td>\n",
       "      <td>2490</td>\n",
       "      <td>2490</td>\n",
       "      <td>2490</td>\n",
       "    </tr>\n",
       "    <tr>\n",
       "      <th>1</th>\n",
       "      <td>363</td>\n",
       "      <td>363</td>\n",
       "      <td>363</td>\n",
       "      <td>363</td>\n",
       "      <td>363</td>\n",
       "      <td>363</td>\n",
       "      <td>363</td>\n",
       "      <td>363</td>\n",
       "      <td>363</td>\n",
       "      <td>363</td>\n",
       "      <td>...</td>\n",
       "      <td>363</td>\n",
       "      <td>363</td>\n",
       "      <td>363</td>\n",
       "      <td>363</td>\n",
       "      <td>363</td>\n",
       "      <td>363</td>\n",
       "      <td>363</td>\n",
       "      <td>363</td>\n",
       "      <td>363</td>\n",
       "      <td>363</td>\n",
       "    </tr>\n",
       "  </tbody>\n",
       "</table>\n",
       "<p>2 rows × 46 columns</p>\n",
       "</div>"
      ],
      "text/plain": [
       "          cohort_definition_id  subject_id  cohort_start_date  \\\n",
       "ln_event                                                        \n",
       "0                         2490        2490               2490   \n",
       "1                          363         363                363   \n",
       "\n",
       "          cohort_end_date  person_id_x  ln_diag_date  time_sle_to_ln  index_0  \\\n",
       "ln_event                                                                        \n",
       "0                    2490            0             0               0     2490   \n",
       "1                     363          363           363             363      363   \n",
       "\n",
       "          ln_event_0  index_1  ...  ln_7years  ln_8years  ln_9years  \\\n",
       "ln_event                       ...                                    \n",
       "0               2490     2490  ...       2490       2490       2490   \n",
       "1                363      363  ...        363        363        363   \n",
       "\n",
       "          ln_10years  ln_11years  ln_12years  person_id_y  \\\n",
       "ln_event                                                    \n",
       "0               2490        2490        2490         2490   \n",
       "1                363         363         363          363   \n",
       "\n",
       "          observation_period_end_DATE  observation_post_sle_obs  event_date  \n",
       "ln_event                                                                     \n",
       "0                                2490                      2490        2490  \n",
       "1                                 363                       363         363  \n",
       "\n",
       "[2 rows x 46 columns]"
      ]
     },
     "execution_count": 116,
     "metadata": {},
     "output_type": "execute_result"
    }
   ],
   "source": [
    "patient_df.groupby('ln_event').count()"
   ]
  },
  {
   "cell_type": "markdown",
   "metadata": {},
   "source": [
    "### 8. Kaplan Meier Curve "
   ]
  },
  {
   "cell_type": "code",
   "execution_count": 97,
   "metadata": {},
   "outputs": [
    {
     "name": "stderr",
     "output_type": "stream",
     "text": [
      "/home/kbechler/.conda/envs/env_name/lib/python3.9/site-packages/google/cloud/bigquery/client.py:461: UserWarning: Cannot create BigQuery Storage client, the dependency google-cloud-bigquery-storage is not installed.\n",
      "  warnings.warn(\n"
     ]
    }
   ],
   "source": [
    "# Get full observation window\n",
    "sql = \"select * from som-nero-nigam-starr.cdm_subset.observation_period\"\n",
    "observation_period = client.query(sql).to_dataframe()"
   ]
  },
  {
   "cell_type": "code",
   "execution_count": 98,
   "metadata": {},
   "outputs": [
    {
     "data": {
      "text/plain": [
       "2853"
      ]
     },
     "execution_count": 98,
     "metadata": {},
     "output_type": "execute_result"
    }
   ],
   "source": [
    "len(observation_period)"
   ]
  },
  {
   "cell_type": "code",
   "execution_count": 99,
   "metadata": {},
   "outputs": [
    {
     "data": {
      "text/plain": [
       "['_period_type_name',\n",
       " 'observation_period_id',\n",
       " 'person_id',\n",
       " 'observation_period_start_DATE',\n",
       " 'observation_period_end_DATE',\n",
       " 'period_type_concept_id',\n",
       " 'trace_id',\n",
       " 'unit_id',\n",
       " 'load_table_id']"
      ]
     },
     "execution_count": 99,
     "metadata": {},
     "output_type": "execute_result"
    }
   ],
   "source": [
    "# Merge with patient_df\n",
    "list(observation_period)"
   ]
  },
  {
   "cell_type": "code",
   "execution_count": 100,
   "metadata": {},
   "outputs": [],
   "source": [
    "patient_df = pd.merge(patient_df, observation_period[['person_id', 'observation_period_end_DATE']],left_on = 'subject_id',\n",
    "                     right_on = 'person_id', how = 'inner')"
   ]
  },
  {
   "cell_type": "code",
   "execution_count": 101,
   "metadata": {},
   "outputs": [
    {
     "data": {
      "text/plain": [
       "2853"
      ]
     },
     "execution_count": 101,
     "metadata": {},
     "output_type": "execute_result"
    }
   ],
   "source": [
    "len(patient_df)"
   ]
  },
  {
   "cell_type": "code",
   "execution_count": 102,
   "metadata": {},
   "outputs": [],
   "source": [
    "# Convert to datetime\n",
    "patient_df.observation_period_end_DATE = pd.to_datetime(patient_df.observation_period_end_DATE)"
   ]
  },
  {
   "cell_type": "code",
   "execution_count": 103,
   "metadata": {},
   "outputs": [],
   "source": [
    "patient_df['observation_post_sle_obs'] = pd.to_numeric((patient_df.observation_period_end_DATE - \n",
    "                                                        patient_df.cohort_start_date).dt.days, downcast = \"integer\")"
   ]
  },
  {
   "cell_type": "code",
   "execution_count": 104,
   "metadata": {},
   "outputs": [
    {
     "data": {
      "text/plain": [
       "<Figure size 864x504 with 0 Axes>"
      ]
     },
     "metadata": {},
     "output_type": "display_data"
    },
    {
     "data": {
      "image/png": "[encoded data removed]",
      "text/plain": [
       "<Figure size 360x360 with 1 Axes>"
      ]
     },
     "metadata": {
      "needs_background": "light"
     },
     "output_type": "display_data"
    }
   ],
   "source": [
    "# Create bins of size 1\n",
    "w = 1\n",
    "n = math.ceil((patient_df.observation_post_sle_obs.max() - patient_df.observation_post_sle_obs.min())/w)\n",
    "\n",
    "\n",
    "# Plot histogram of # days to SLE\n",
    "plt.figure(figsize=(12,7))\n",
    "sns.displot(patient_df['observation_post_sle_obs'], kde = False, bins = n)\n",
    "plt.title('Observation Time Post SLE', fontsize=18)\n",
    "plt.xlabel('# of Days', fontsize=16)\n",
    "plt.ylabel('# of Patients', fontsize=16)\n",
    "#plt.xlim(0,)\n",
    "plt.savefig('/home/kbechler/sle_to_end_obs.png')\n",
    "plt.show()"
   ]
  },
  {
   "cell_type": "code",
   "execution_count": 105,
   "metadata": {},
   "outputs": [],
   "source": [
    "# Create \"event_date\"\n",
    "# If patient doesn't have ln diag, event date is last observation date of patient\n",
    "patient_df['event_date'] = np.where(patient_df.time_sle_to_ln.isna(), patient_df.observation_post_sle_obs,\n",
    "                                   patient_df.time_sle_to_ln)"
   ]
  },
  {
   "cell_type": "code",
   "execution_count": 106,
   "metadata": {},
   "outputs": [
    {
     "data": {
      "text/plain": [
       "count    2853.000000\n",
       "mean     1888.841220\n",
       "std      1422.593098\n",
       "min         0.000000\n",
       "25%       688.000000\n",
       "50%      1624.000000\n",
       "75%      2813.000000\n",
       "max      9056.000000\n",
       "Name: event_date, dtype: float64"
      ]
     },
     "execution_count": 106,
     "metadata": {},
     "output_type": "execute_result"
    }
   ],
   "source": [
    "patient_df.event_date.describe()"
   ]
  },
  {
   "cell_type": "code",
   "execution_count": 107,
   "metadata": {},
   "outputs": [],
   "source": [
    "kmf = KaplanMeierFitter()"
   ]
  },
  {
   "cell_type": "code",
   "execution_count": 108,
   "metadata": {},
   "outputs": [],
   "source": [
    "patient_df['ln_event'] = np.where(patient_df.time_sle_to_ln.isna(), 0, 1)"
   ]
  },
  {
   "cell_type": "code",
   "execution_count": 109,
   "metadata": {},
   "outputs": [
    {
     "data": {
      "text/plain": [
       "<lifelines.KaplanMeierFitter:\"KM_estimate\", fitted with 2853 total observations, 2490 right-censored observations>"
      ]
     },
     "execution_count": 109,
     "metadata": {},
     "output_type": "execute_result"
    }
   ],
   "source": [
    "kmf.fit(durations = patient_df['event_date'], event_observed = patient_df['ln_event'])"
   ]
  },
  {
   "cell_type": "code",
   "execution_count": 110,
   "metadata": {},
   "outputs": [
    {
     "data": {
      "text/html": [
       "<div>\n",
       "<style scoped>\n",
       "    .dataframe tbody tr th:only-of-type {\n",
       "        vertical-align: middle;\n",
       "    }\n",
       "\n",
       "    .dataframe tbody tr th {\n",
       "        vertical-align: top;\n",
       "    }\n",
       "\n",
       "    .dataframe thead th {\n",
       "        text-align: right;\n",
       "    }\n",
       "</style>\n",
       "<table border=\"1\" class=\"dataframe\">\n",
       "  <thead>\n",
       "    <tr style=\"text-align: right;\">\n",
       "      <th></th>\n",
       "      <th>removed</th>\n",
       "      <th>observed</th>\n",
       "      <th>censored</th>\n",
       "      <th>entrance</th>\n",
       "      <th>at_risk</th>\n",
       "    </tr>\n",
       "    <tr>\n",
       "      <th>event_at</th>\n",
       "      <th></th>\n",
       "      <th></th>\n",
       "      <th></th>\n",
       "      <th></th>\n",
       "      <th></th>\n",
       "    </tr>\n",
       "  </thead>\n",
       "  <tbody>\n",
       "    <tr>\n",
       "      <th>0.0</th>\n",
       "      <td>61</td>\n",
       "      <td>0</td>\n",
       "      <td>61</td>\n",
       "      <td>2853</td>\n",
       "      <td>2853</td>\n",
       "    </tr>\n",
       "    <tr>\n",
       "      <th>1.0</th>\n",
       "      <td>7</td>\n",
       "      <td>1</td>\n",
       "      <td>6</td>\n",
       "      <td>0</td>\n",
       "      <td>2792</td>\n",
       "    </tr>\n",
       "    <tr>\n",
       "      <th>2.0</th>\n",
       "      <td>6</td>\n",
       "      <td>0</td>\n",
       "      <td>6</td>\n",
       "      <td>0</td>\n",
       "      <td>2785</td>\n",
       "    </tr>\n",
       "    <tr>\n",
       "      <th>3.0</th>\n",
       "      <td>4</td>\n",
       "      <td>0</td>\n",
       "      <td>4</td>\n",
       "      <td>0</td>\n",
       "      <td>2779</td>\n",
       "    </tr>\n",
       "    <tr>\n",
       "      <th>4.0</th>\n",
       "      <td>1</td>\n",
       "      <td>0</td>\n",
       "      <td>1</td>\n",
       "      <td>0</td>\n",
       "      <td>2775</td>\n",
       "    </tr>\n",
       "    <tr>\n",
       "      <th>...</th>\n",
       "      <td>...</td>\n",
       "      <td>...</td>\n",
       "      <td>...</td>\n",
       "      <td>...</td>\n",
       "      <td>...</td>\n",
       "    </tr>\n",
       "    <tr>\n",
       "      <th>7151.0</th>\n",
       "      <td>1</td>\n",
       "      <td>0</td>\n",
       "      <td>1</td>\n",
       "      <td>0</td>\n",
       "      <td>5</td>\n",
       "    </tr>\n",
       "    <tr>\n",
       "      <th>7493.0</th>\n",
       "      <td>1</td>\n",
       "      <td>0</td>\n",
       "      <td>1</td>\n",
       "      <td>0</td>\n",
       "      <td>4</td>\n",
       "    </tr>\n",
       "    <tr>\n",
       "      <th>7557.0</th>\n",
       "      <td>1</td>\n",
       "      <td>0</td>\n",
       "      <td>1</td>\n",
       "      <td>0</td>\n",
       "      <td>3</td>\n",
       "    </tr>\n",
       "    <tr>\n",
       "      <th>8064.0</th>\n",
       "      <td>1</td>\n",
       "      <td>0</td>\n",
       "      <td>1</td>\n",
       "      <td>0</td>\n",
       "      <td>2</td>\n",
       "    </tr>\n",
       "    <tr>\n",
       "      <th>9056.0</th>\n",
       "      <td>1</td>\n",
       "      <td>0</td>\n",
       "      <td>1</td>\n",
       "      <td>0</td>\n",
       "      <td>1</td>\n",
       "    </tr>\n",
       "  </tbody>\n",
       "</table>\n",
       "<p>2056 rows × 5 columns</p>\n",
       "</div>"
      ],
      "text/plain": [
       "          removed  observed  censored  entrance  at_risk\n",
       "event_at                                                \n",
       "0.0            61         0        61      2853     2853\n",
       "1.0             7         1         6         0     2792\n",
       "2.0             6         0         6         0     2785\n",
       "3.0             4         0         4         0     2779\n",
       "4.0             1         0         1         0     2775\n",
       "...           ...       ...       ...       ...      ...\n",
       "7151.0          1         0         1         0        5\n",
       "7493.0          1         0         1         0        4\n",
       "7557.0          1         0         1         0        3\n",
       "8064.0          1         0         1         0        2\n",
       "9056.0          1         0         1         0        1\n",
       "\n",
       "[2056 rows x 5 columns]"
      ]
     },
     "execution_count": 110,
     "metadata": {},
     "output_type": "execute_result"
    }
   ],
   "source": [
    "kmf.event_table"
   ]
  },
  {
   "cell_type": "code",
   "execution_count": 111,
   "metadata": {},
   "outputs": [
    {
     "data": {
      "image/png": "[encoded data removed]",
      "text/plain": [
       "<Figure size 432x288 with 1 Axes>"
      ]
     },
     "metadata": {
      "needs_background": "light"
     },
     "output_type": "display_data"
    },
    {
     "name": "stdout",
     "output_type": "stream",
     "text": [
      "The median survival time:  inf\n"
     ]
    }
   ],
   "source": [
    "# Plot the graph\n",
    "kmf.plot()\n",
    "plt.title(\"Kaplan-Meier Estimate\")\n",
    "plt.ylabel(\"Probability patient not diagnosed with LN\")\n",
    "plt.savefig('/home/kbechler/km_test.png')\n",
    "plt.show()\n",
    "print(\"The median survival time: \" ,kmf.median_survival_time_)"
   ]
  },
  {
   "cell_type": "code",
   "execution_count": 117,
   "metadata": {},
   "outputs": [
    {
     "data": {
      "text/plain": [
       "<AxesSubplot:xlabel='timeline'>"
      ]
     },
     "execution_count": 117,
     "metadata": {},
     "output_type": "execute_result"
    },
    {
     "data": {
      "image/png": "[encoded data removed]",
      "text/plain": [
       "<Figure size 432x288 with 1 Axes>"
      ]
     },
     "metadata": {
      "needs_background": "light"
     },
     "output_type": "display_data"
    }
   ],
   "source": [
    "kmf.plot_cumulative_density()"
   ]
  },
  {
   "cell_type": "markdown",
   "metadata": {},
   "source": [
    "### 9. Export patient dataframe for labels with patients to get LN in x years "
   ]
  },
  {
   "cell_type": "code",
   "execution_count": 118,
   "metadata": {},
   "outputs": [
    {
     "data": {
      "text/html": [
       "<div>\n",
       "<style scoped>\n",
       "    .dataframe tbody tr th:only-of-type {\n",
       "        vertical-align: middle;\n",
       "    }\n",
       "\n",
       "    .dataframe tbody tr th {\n",
       "        vertical-align: top;\n",
       "    }\n",
       "\n",
       "    .dataframe thead th {\n",
       "        text-align: right;\n",
       "    }\n",
       "</style>\n",
       "<table border=\"1\" class=\"dataframe\">\n",
       "  <thead>\n",
       "    <tr style=\"text-align: right;\">\n",
       "      <th></th>\n",
       "      <th>cohort_definition_id</th>\n",
       "      <th>subject_id</th>\n",
       "      <th>cohort_start_date</th>\n",
       "      <th>cohort_end_date</th>\n",
       "      <th>person_id_x</th>\n",
       "      <th>ln_diag_date</th>\n",
       "      <th>time_sle_to_ln</th>\n",
       "      <th>index_0</th>\n",
       "      <th>ln_event_0</th>\n",
       "      <th>index_1</th>\n",
       "      <th>...</th>\n",
       "      <th>ln_8years</th>\n",
       "      <th>ln_9years</th>\n",
       "      <th>ln_10years</th>\n",
       "      <th>ln_11years</th>\n",
       "      <th>ln_12years</th>\n",
       "      <th>person_id_y</th>\n",
       "      <th>observation_period_end_DATE</th>\n",
       "      <th>observation_post_sle_obs</th>\n",
       "      <th>event_date</th>\n",
       "      <th>ln_event</th>\n",
       "    </tr>\n",
       "  </thead>\n",
       "  <tbody>\n",
       "    <tr>\n",
       "      <th>0</th>\n",
       "      <td>21</td>\n",
       "      <td>32209409</td>\n",
       "      <td>2011-08-12</td>\n",
       "      <td>2015-07-24</td>\n",
       "      <td>NaN</td>\n",
       "      <td>NaT</td>\n",
       "      <td>NaN</td>\n",
       "      <td>2011-08-12</td>\n",
       "      <td>0</td>\n",
       "      <td>2012-08-11</td>\n",
       "      <td>...</td>\n",
       "      <td>0</td>\n",
       "      <td>0</td>\n",
       "      <td>0</td>\n",
       "      <td>0</td>\n",
       "      <td>0</td>\n",
       "      <td>32209409</td>\n",
       "      <td>2015-07-24</td>\n",
       "      <td>1442</td>\n",
       "      <td>1442.0</td>\n",
       "      <td>0</td>\n",
       "    </tr>\n",
       "    <tr>\n",
       "      <th>1</th>\n",
       "      <td>21</td>\n",
       "      <td>30924418</td>\n",
       "      <td>2011-09-27</td>\n",
       "      <td>2017-08-30</td>\n",
       "      <td>NaN</td>\n",
       "      <td>NaT</td>\n",
       "      <td>NaN</td>\n",
       "      <td>2011-09-27</td>\n",
       "      <td>0</td>\n",
       "      <td>2012-09-26</td>\n",
       "      <td>...</td>\n",
       "      <td>0</td>\n",
       "      <td>0</td>\n",
       "      <td>0</td>\n",
       "      <td>0</td>\n",
       "      <td>0</td>\n",
       "      <td>30924418</td>\n",
       "      <td>2017-08-30</td>\n",
       "      <td>2164</td>\n",
       "      <td>2164.0</td>\n",
       "      <td>0</td>\n",
       "    </tr>\n",
       "    <tr>\n",
       "      <th>2</th>\n",
       "      <td>21</td>\n",
       "      <td>31008811</td>\n",
       "      <td>2010-09-16</td>\n",
       "      <td>2019-01-24</td>\n",
       "      <td>31008811.0</td>\n",
       "      <td>2016-01-28</td>\n",
       "      <td>1960.0</td>\n",
       "      <td>2010-09-16</td>\n",
       "      <td>0</td>\n",
       "      <td>2011-09-16</td>\n",
       "      <td>...</td>\n",
       "      <td>1</td>\n",
       "      <td>1</td>\n",
       "      <td>1</td>\n",
       "      <td>1</td>\n",
       "      <td>1</td>\n",
       "      <td>31008811</td>\n",
       "      <td>2019-01-24</td>\n",
       "      <td>3052</td>\n",
       "      <td>1960.0</td>\n",
       "      <td>1</td>\n",
       "    </tr>\n",
       "    <tr>\n",
       "      <th>3</th>\n",
       "      <td>21</td>\n",
       "      <td>30742058</td>\n",
       "      <td>2011-11-29</td>\n",
       "      <td>2019-10-07</td>\n",
       "      <td>NaN</td>\n",
       "      <td>NaT</td>\n",
       "      <td>NaN</td>\n",
       "      <td>2011-11-29</td>\n",
       "      <td>0</td>\n",
       "      <td>2012-11-28</td>\n",
       "      <td>...</td>\n",
       "      <td>0</td>\n",
       "      <td>0</td>\n",
       "      <td>0</td>\n",
       "      <td>0</td>\n",
       "      <td>0</td>\n",
       "      <td>30742058</td>\n",
       "      <td>2019-10-07</td>\n",
       "      <td>2869</td>\n",
       "      <td>2869.0</td>\n",
       "      <td>0</td>\n",
       "    </tr>\n",
       "    <tr>\n",
       "      <th>4</th>\n",
       "      <td>21</td>\n",
       "      <td>32400899</td>\n",
       "      <td>2012-08-06</td>\n",
       "      <td>2021-03-02</td>\n",
       "      <td>NaN</td>\n",
       "      <td>NaT</td>\n",
       "      <td>NaN</td>\n",
       "      <td>2012-08-06</td>\n",
       "      <td>0</td>\n",
       "      <td>2013-08-06</td>\n",
       "      <td>...</td>\n",
       "      <td>0</td>\n",
       "      <td>0</td>\n",
       "      <td>0</td>\n",
       "      <td>0</td>\n",
       "      <td>0</td>\n",
       "      <td>32400899</td>\n",
       "      <td>2021-03-02</td>\n",
       "      <td>3130</td>\n",
       "      <td>3130.0</td>\n",
       "      <td>0</td>\n",
       "    </tr>\n",
       "  </tbody>\n",
       "</table>\n",
       "<p>5 rows × 47 columns</p>\n",
       "</div>"
      ],
      "text/plain": [
       "   cohort_definition_id  subject_id cohort_start_date cohort_end_date  \\\n",
       "0                    21    32209409        2011-08-12      2015-07-24   \n",
       "1                    21    30924418        2011-09-27      2017-08-30   \n",
       "2                    21    31008811        2010-09-16      2019-01-24   \n",
       "3                    21    30742058        2011-11-29      2019-10-07   \n",
       "4                    21    32400899        2012-08-06      2021-03-02   \n",
       "\n",
       "   person_id_x ln_diag_date  time_sle_to_ln    index_0  ln_event_0    index_1  \\\n",
       "0          NaN          NaT             NaN 2011-08-12           0 2012-08-11   \n",
       "1          NaN          NaT             NaN 2011-09-27           0 2012-09-26   \n",
       "2   31008811.0   2016-01-28          1960.0 2010-09-16           0 2011-09-16   \n",
       "3          NaN          NaT             NaN 2011-11-29           0 2012-11-28   \n",
       "4          NaN          NaT             NaN 2012-08-06           0 2013-08-06   \n",
       "\n",
       "   ...  ln_8years ln_9years ln_10years ln_11years ln_12years person_id_y  \\\n",
       "0  ...          0         0          0          0          0    32209409   \n",
       "1  ...          0         0          0          0          0    30924418   \n",
       "2  ...          1         1          1          1          1    31008811   \n",
       "3  ...          0         0          0          0          0    30742058   \n",
       "4  ...          0         0          0          0          0    32400899   \n",
       "\n",
       "  observation_period_end_DATE observation_post_sle_obs event_date  ln_event  \n",
       "0                  2015-07-24                     1442     1442.0         0  \n",
       "1                  2017-08-30                     2164     2164.0         0  \n",
       "2                  2019-01-24                     3052     1960.0         1  \n",
       "3                  2019-10-07                     2869     2869.0         0  \n",
       "4                  2021-03-02                     3130     3130.0         0  \n",
       "\n",
       "[5 rows x 47 columns]"
      ]
     },
     "execution_count": 118,
     "metadata": {},
     "output_type": "execute_result"
    }
   ],
   "source": [
    " patient_df.head()"
   ]
  },
  {
   "cell_type": "code",
   "execution_count": 119,
   "metadata": {},
   "outputs": [],
   "source": [
    "patient_df.to_csv('/home/kbechler/patient_df_labels_2022.csv', index = False)"
   ]
  }
 ],
 "metadata": {
  "kernelspec": {
   "display_name": "Python 3",
   "language": "python",
   "name": "python3"
  },
  "language_info": {
   "codemirror_mode": {
    "name": "ipython",
    "version": 3
   },
   "file_extension": ".py",
   "mimetype": "text/x-python",
   "name": "python",
   "nbconvert_exporter": "python",
   "pygments_lexer": "ipython3",
   "version": "3.8.5"
  }
 },
 "nbformat": 4,
 "nbformat_minor": 4
}
